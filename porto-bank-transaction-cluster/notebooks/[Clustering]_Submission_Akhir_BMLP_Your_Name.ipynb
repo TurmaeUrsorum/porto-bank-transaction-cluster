{
  "cells": [
    {
      "cell_type": "markdown",
      "metadata": {
        "id": "sKi5D9qVVJvY"
      },
      "source": [
        "### Topik Case:\n",
        "\n",
        "**Clustering Nasabah Berdasarkan Pola Pengeluaran dan Preferensi Transaksi**\n",
        "\n",
        "### Tujuan:\n",
        "\n",
        "Mengelompokkan nasabah berdasarkan kebiasaan transaksi mereka untuk mendapatkan insight bisnis, misalnya:\n",
        "\n",
        "* Preferensi kanal transaksi (Online, ATM, Branch).\n",
        "* Pola pengeluaran (besar/kecil, rutin/sesekali).\n",
        "* Preferensi merchant atau lokasi transaksi.\n",
        "* Hubungan antara demografi (usia, pekerjaan) dengan pola transaksi.\n",
        "\n",
        "### Fitur Utama:\n",
        "\n",
        "1. **TransactionAmount** – rata-rata dan variasi pengeluaran.\n",
        "2. **TransactionType** – proporsi debit vs kredit.\n",
        "3. **Channel** – distribusi penggunaan kanal transaksi.\n",
        "4. **MerchantID & Location** – preferensi merchant dan lokasi transaksi.\n",
        "5. **AccountBalance** – pola saldo pasca-transaksi.\n",
        "6. **CustomerAge & CustomerOccupation** – demografi yang mempengaruhi kebiasaan transaksi.\n",
        "7. **TransactionDuration** – lama transaksi, bisa menunjukkan preferensi proses cepat vs lambat.\n"
      ]
    },
    {
      "cell_type": "markdown",
      "metadata": {
        "id": "fKADPWcFKlj3"
      },
      "source": [
        "# **1. Import Library**\n",
        "Pada tahap ini, Anda perlu mengimpor beberapa pustaka (library) Python yang dibutuhkan untuk analisis data dan pembangunan model machine learning. Semua library yang dibutuhkan harus **import** di **cell** ini, jika ada library yang dijalankan di cell lain maka **submission langsung ditolak**"
      ]
    },
    {
      "cell_type": "code",
      "execution_count": 1,
      "metadata": {
        "id": "BlmvjLY9M4Yj"
      },
      "outputs": [],
      "source": [
        "#Type your code here\n",
        "import pandas as pd\n",
        "import numpy as np\n",
        "import matplotlib.pyplot as plt\n",
        "import seaborn as sns"
      ]
    },
    {
      "cell_type": "markdown",
      "metadata": {
        "id": "f3YIEnAFKrKL"
      },
      "source": [
        "# **2. Memuat Dataset**\n",
        "Pada tahap ini, Anda perlu memuat dataset ke dalam notebook lalu mengecek informasi dataset sebelum nantinya dilakukan pembersihan. Hal-hal yang perlu dilakukan pada tahapan ini yaitu:\n",
        "1. **Memahami Struktur Data**\n",
        "   - Dataset harus mengambil referensi wajib digunakan (bisa dilihat [Disini](https://drive.google.com/drive/folders/1Zs7VmPZ-jNwsRlMKH65Ea-LApSwx6lKx?usp=drive_link))\n",
        "   - Melakukan loading dataset ke dalam notebook dan menampilkan 5 baris pertama dengan function `head`.\n",
        "   - Tinjau jumlah baris kolom dan jenis data dalam dataset dengan function `info`.  \n",
        "   - Menampilkan statistik deskriptif dataset dengan menjalankan `describe`.\n",
        "   - Pastikan **setiap function tersebut** memiliki **output pada setiap cell** code. Jika tidak **submission langsung ditolak**\n",
        "   "
      ]
    },
    {
      "cell_type": "markdown",
      "metadata": {
        "id": "JgKXTwx2LMQA"
      },
      "source": [
        "Gunakan code ini untuk melakukan load data secara otomatis tanpa harus download data tersebut secara manual:\n",
        "```python\n",
        "url='https://drive.google.com/uc?id=1gnLO9qvEPqv1uBt1928AcsCmdvzqjC5m'\n",
        "df = pd.read_csv(url)\n",
        "```"
      ]
    },
    {
      "cell_type": "markdown",
      "metadata": {
        "id": "9d2RyUOuefWa"
      },
      "source": [
        "Penting: pada kriteria pertama hindari penggunaan print() dan display() karena seluruh fungsi yang digunakan sudah memiliki standar output dan menghasilkan output yang diharapkan.\n",
        "\n",
        "Kriteria 1 akan ditolak ketika:\n",
        "- print(__.head())\n",
        "- display(___.head())\n",
        "dst\n",
        "\n",
        "Kriteria 1 akan diterima ketika Anda menggunakan fungsi yang diminta tanpa menambahkan deskripsi apapun."
      ]
    },
    {
      "cell_type": "code",
      "execution_count": 2,
      "metadata": {
        "id": "-tfuxA86YztE"
      },
      "outputs": [
        {
          "data": {
            "text/html": [
              "<div>\n",
              "<style scoped>\n",
              "    .dataframe tbody tr th:only-of-type {\n",
              "        vertical-align: middle;\n",
              "    }\n",
              "\n",
              "    .dataframe tbody tr th {\n",
              "        vertical-align: top;\n",
              "    }\n",
              "\n",
              "    .dataframe thead th {\n",
              "        text-align: right;\n",
              "    }\n",
              "</style>\n",
              "<table border=\"1\" class=\"dataframe\">\n",
              "  <thead>\n",
              "    <tr style=\"text-align: right;\">\n",
              "      <th></th>\n",
              "      <th>TransactionID</th>\n",
              "      <th>AccountID</th>\n",
              "      <th>TransactionAmount</th>\n",
              "      <th>TransactionDate</th>\n",
              "      <th>TransactionType</th>\n",
              "      <th>Location</th>\n",
              "      <th>DeviceID</th>\n",
              "      <th>IP Address</th>\n",
              "      <th>MerchantID</th>\n",
              "      <th>Channel</th>\n",
              "      <th>CustomerAge</th>\n",
              "      <th>CustomerOccupation</th>\n",
              "      <th>TransactionDuration</th>\n",
              "      <th>LoginAttempts</th>\n",
              "      <th>AccountBalance</th>\n",
              "      <th>PreviousTransactionDate</th>\n",
              "    </tr>\n",
              "  </thead>\n",
              "  <tbody>\n",
              "    <tr>\n",
              "      <th>0</th>\n",
              "      <td>TX000001</td>\n",
              "      <td>AC00128</td>\n",
              "      <td>14.09</td>\n",
              "      <td>2023-04-11 16:29:14</td>\n",
              "      <td>Debit</td>\n",
              "      <td>San Diego</td>\n",
              "      <td>D000380</td>\n",
              "      <td>162.198.218.92</td>\n",
              "      <td>M015</td>\n",
              "      <td>ATM</td>\n",
              "      <td>70</td>\n",
              "      <td>Doctor</td>\n",
              "      <td>81</td>\n",
              "      <td>1</td>\n",
              "      <td>5112.21</td>\n",
              "      <td>2024-11-04 08:08:08</td>\n",
              "    </tr>\n",
              "    <tr>\n",
              "      <th>1</th>\n",
              "      <td>TX000002</td>\n",
              "      <td>AC00455</td>\n",
              "      <td>376.24</td>\n",
              "      <td>2023-06-27 16:44:19</td>\n",
              "      <td>Debit</td>\n",
              "      <td>Houston</td>\n",
              "      <td>D000051</td>\n",
              "      <td>13.149.61.4</td>\n",
              "      <td>M052</td>\n",
              "      <td>ATM</td>\n",
              "      <td>68</td>\n",
              "      <td>Doctor</td>\n",
              "      <td>141</td>\n",
              "      <td>1</td>\n",
              "      <td>13758.91</td>\n",
              "      <td>2024-11-04 08:09:35</td>\n",
              "    </tr>\n",
              "    <tr>\n",
              "      <th>2</th>\n",
              "      <td>TX000003</td>\n",
              "      <td>AC00019</td>\n",
              "      <td>126.29</td>\n",
              "      <td>2023-07-10 18:16:08</td>\n",
              "      <td>Debit</td>\n",
              "      <td>Mesa</td>\n",
              "      <td>D000235</td>\n",
              "      <td>215.97.143.157</td>\n",
              "      <td>M009</td>\n",
              "      <td>Online</td>\n",
              "      <td>19</td>\n",
              "      <td>Student</td>\n",
              "      <td>56</td>\n",
              "      <td>1</td>\n",
              "      <td>1122.35</td>\n",
              "      <td>2024-11-04 08:07:04</td>\n",
              "    </tr>\n",
              "    <tr>\n",
              "      <th>3</th>\n",
              "      <td>TX000004</td>\n",
              "      <td>AC00070</td>\n",
              "      <td>184.50</td>\n",
              "      <td>2023-05-05 16:32:11</td>\n",
              "      <td>Debit</td>\n",
              "      <td>Raleigh</td>\n",
              "      <td>D000187</td>\n",
              "      <td>200.13.225.150</td>\n",
              "      <td>M002</td>\n",
              "      <td>Online</td>\n",
              "      <td>26</td>\n",
              "      <td>Student</td>\n",
              "      <td>25</td>\n",
              "      <td>1</td>\n",
              "      <td>8569.06</td>\n",
              "      <td>2024-11-04 08:09:06</td>\n",
              "    </tr>\n",
              "    <tr>\n",
              "      <th>4</th>\n",
              "      <td>TX000005</td>\n",
              "      <td>AC00411</td>\n",
              "      <td>13.45</td>\n",
              "      <td>2023-10-16 17:51:24</td>\n",
              "      <td>Credit</td>\n",
              "      <td>Atlanta</td>\n",
              "      <td>D000308</td>\n",
              "      <td>65.164.3.100</td>\n",
              "      <td>M091</td>\n",
              "      <td>Online</td>\n",
              "      <td>26</td>\n",
              "      <td>Student</td>\n",
              "      <td>198</td>\n",
              "      <td>1</td>\n",
              "      <td>7429.40</td>\n",
              "      <td>2024-11-04 08:06:39</td>\n",
              "    </tr>\n",
              "  </tbody>\n",
              "</table>\n",
              "</div>"
            ],
            "text/plain": [
              "  TransactionID AccountID  TransactionAmount      TransactionDate  \\\n",
              "0      TX000001   AC00128              14.09  2023-04-11 16:29:14   \n",
              "1      TX000002   AC00455             376.24  2023-06-27 16:44:19   \n",
              "2      TX000003   AC00019             126.29  2023-07-10 18:16:08   \n",
              "3      TX000004   AC00070             184.50  2023-05-05 16:32:11   \n",
              "4      TX000005   AC00411              13.45  2023-10-16 17:51:24   \n",
              "\n",
              "  TransactionType   Location DeviceID      IP Address MerchantID Channel  \\\n",
              "0           Debit  San Diego  D000380  162.198.218.92       M015     ATM   \n",
              "1           Debit    Houston  D000051     13.149.61.4       M052     ATM   \n",
              "2           Debit       Mesa  D000235  215.97.143.157       M009  Online   \n",
              "3           Debit    Raleigh  D000187  200.13.225.150       M002  Online   \n",
              "4          Credit    Atlanta  D000308    65.164.3.100       M091  Online   \n",
              "\n",
              "   CustomerAge CustomerOccupation  TransactionDuration  LoginAttempts  \\\n",
              "0           70             Doctor                   81              1   \n",
              "1           68             Doctor                  141              1   \n",
              "2           19            Student                   56              1   \n",
              "3           26            Student                   25              1   \n",
              "4           26            Student                  198              1   \n",
              "\n",
              "   AccountBalance PreviousTransactionDate  \n",
              "0         5112.21     2024-11-04 08:08:08  \n",
              "1        13758.91     2024-11-04 08:09:35  \n",
              "2         1122.35     2024-11-04 08:07:04  \n",
              "3         8569.06     2024-11-04 08:09:06  \n",
              "4         7429.40     2024-11-04 08:06:39  "
            ]
          },
          "execution_count": 2,
          "metadata": {},
          "output_type": "execute_result"
        }
      ],
      "source": [
        "# Load data\n",
        "df = pd.read_csv(\"../data/01_raw/bank_transactions_data_2.csv\")\n",
        "df.head()"
      ]
    },
    {
      "cell_type": "code",
      "execution_count": 3,
      "metadata": {
        "id": "GHCGNTyrM5fS"
      },
      "outputs": [
        {
          "data": {
            "text/html": [
              "<div>\n",
              "<style scoped>\n",
              "    .dataframe tbody tr th:only-of-type {\n",
              "        vertical-align: middle;\n",
              "    }\n",
              "\n",
              "    .dataframe tbody tr th {\n",
              "        vertical-align: top;\n",
              "    }\n",
              "\n",
              "    .dataframe thead th {\n",
              "        text-align: right;\n",
              "    }\n",
              "</style>\n",
              "<table border=\"1\" class=\"dataframe\">\n",
              "  <thead>\n",
              "    <tr style=\"text-align: right;\">\n",
              "      <th></th>\n",
              "      <th>TransactionID</th>\n",
              "      <th>AccountID</th>\n",
              "      <th>TransactionAmount</th>\n",
              "      <th>TransactionDate</th>\n",
              "      <th>TransactionType</th>\n",
              "      <th>Location</th>\n",
              "      <th>DeviceID</th>\n",
              "      <th>IP Address</th>\n",
              "      <th>MerchantID</th>\n",
              "      <th>Channel</th>\n",
              "      <th>CustomerAge</th>\n",
              "      <th>CustomerOccupation</th>\n",
              "      <th>TransactionDuration</th>\n",
              "      <th>LoginAttempts</th>\n",
              "      <th>AccountBalance</th>\n",
              "      <th>PreviousTransactionDate</th>\n",
              "    </tr>\n",
              "  </thead>\n",
              "  <tbody>\n",
              "    <tr>\n",
              "      <th>0</th>\n",
              "      <td>TX000001</td>\n",
              "      <td>AC00128</td>\n",
              "      <td>14.09</td>\n",
              "      <td>2023-04-11 16:29:14</td>\n",
              "      <td>Debit</td>\n",
              "      <td>San Diego</td>\n",
              "      <td>D000380</td>\n",
              "      <td>162.198.218.92</td>\n",
              "      <td>M015</td>\n",
              "      <td>ATM</td>\n",
              "      <td>70</td>\n",
              "      <td>Doctor</td>\n",
              "      <td>81</td>\n",
              "      <td>1</td>\n",
              "      <td>5112.21</td>\n",
              "      <td>2024-11-04 08:08:08</td>\n",
              "    </tr>\n",
              "    <tr>\n",
              "      <th>1</th>\n",
              "      <td>TX000002</td>\n",
              "      <td>AC00455</td>\n",
              "      <td>376.24</td>\n",
              "      <td>2023-06-27 16:44:19</td>\n",
              "      <td>Debit</td>\n",
              "      <td>Houston</td>\n",
              "      <td>D000051</td>\n",
              "      <td>13.149.61.4</td>\n",
              "      <td>M052</td>\n",
              "      <td>ATM</td>\n",
              "      <td>68</td>\n",
              "      <td>Doctor</td>\n",
              "      <td>141</td>\n",
              "      <td>1</td>\n",
              "      <td>13758.91</td>\n",
              "      <td>2024-11-04 08:09:35</td>\n",
              "    </tr>\n",
              "    <tr>\n",
              "      <th>2</th>\n",
              "      <td>TX000003</td>\n",
              "      <td>AC00019</td>\n",
              "      <td>126.29</td>\n",
              "      <td>2023-07-10 18:16:08</td>\n",
              "      <td>Debit</td>\n",
              "      <td>Mesa</td>\n",
              "      <td>D000235</td>\n",
              "      <td>215.97.143.157</td>\n",
              "      <td>M009</td>\n",
              "      <td>Online</td>\n",
              "      <td>19</td>\n",
              "      <td>Student</td>\n",
              "      <td>56</td>\n",
              "      <td>1</td>\n",
              "      <td>1122.35</td>\n",
              "      <td>2024-11-04 08:07:04</td>\n",
              "    </tr>\n",
              "    <tr>\n",
              "      <th>3</th>\n",
              "      <td>TX000004</td>\n",
              "      <td>AC00070</td>\n",
              "      <td>184.50</td>\n",
              "      <td>2023-05-05 16:32:11</td>\n",
              "      <td>Debit</td>\n",
              "      <td>Raleigh</td>\n",
              "      <td>D000187</td>\n",
              "      <td>200.13.225.150</td>\n",
              "      <td>M002</td>\n",
              "      <td>Online</td>\n",
              "      <td>26</td>\n",
              "      <td>Student</td>\n",
              "      <td>25</td>\n",
              "      <td>1</td>\n",
              "      <td>8569.06</td>\n",
              "      <td>2024-11-04 08:09:06</td>\n",
              "    </tr>\n",
              "    <tr>\n",
              "      <th>4</th>\n",
              "      <td>TX000005</td>\n",
              "      <td>AC00411</td>\n",
              "      <td>13.45</td>\n",
              "      <td>2023-10-16 17:51:24</td>\n",
              "      <td>Credit</td>\n",
              "      <td>Atlanta</td>\n",
              "      <td>D000308</td>\n",
              "      <td>65.164.3.100</td>\n",
              "      <td>M091</td>\n",
              "      <td>Online</td>\n",
              "      <td>26</td>\n",
              "      <td>Student</td>\n",
              "      <td>198</td>\n",
              "      <td>1</td>\n",
              "      <td>7429.40</td>\n",
              "      <td>2024-11-04 08:06:39</td>\n",
              "    </tr>\n",
              "  </tbody>\n",
              "</table>\n",
              "</div>"
            ],
            "text/plain": [
              "  TransactionID AccountID  TransactionAmount      TransactionDate  \\\n",
              "0      TX000001   AC00128              14.09  2023-04-11 16:29:14   \n",
              "1      TX000002   AC00455             376.24  2023-06-27 16:44:19   \n",
              "2      TX000003   AC00019             126.29  2023-07-10 18:16:08   \n",
              "3      TX000004   AC00070             184.50  2023-05-05 16:32:11   \n",
              "4      TX000005   AC00411              13.45  2023-10-16 17:51:24   \n",
              "\n",
              "  TransactionType   Location DeviceID      IP Address MerchantID Channel  \\\n",
              "0           Debit  San Diego  D000380  162.198.218.92       M015     ATM   \n",
              "1           Debit    Houston  D000051     13.149.61.4       M052     ATM   \n",
              "2           Debit       Mesa  D000235  215.97.143.157       M009  Online   \n",
              "3           Debit    Raleigh  D000187  200.13.225.150       M002  Online   \n",
              "4          Credit    Atlanta  D000308    65.164.3.100       M091  Online   \n",
              "\n",
              "   CustomerAge CustomerOccupation  TransactionDuration  LoginAttempts  \\\n",
              "0           70             Doctor                   81              1   \n",
              "1           68             Doctor                  141              1   \n",
              "2           19            Student                   56              1   \n",
              "3           26            Student                   25              1   \n",
              "4           26            Student                  198              1   \n",
              "\n",
              "   AccountBalance PreviousTransactionDate  \n",
              "0         5112.21     2024-11-04 08:08:08  \n",
              "1        13758.91     2024-11-04 08:09:35  \n",
              "2         1122.35     2024-11-04 08:07:04  \n",
              "3         8569.06     2024-11-04 08:09:06  \n",
              "4         7429.40     2024-11-04 08:06:39  "
            ]
          },
          "execution_count": 3,
          "metadata": {},
          "output_type": "execute_result"
        }
      ],
      "source": [
        "# Tampilkan 5 baris pertama dengan function head.\n",
        "df.head()"
      ]
    },
    {
      "cell_type": "code",
      "execution_count": 4,
      "metadata": {
        "id": "0MgRVyMLnR5h"
      },
      "outputs": [
        {
          "name": "stdout",
          "output_type": "stream",
          "text": [
            "<class 'pandas.core.frame.DataFrame'>\n",
            "RangeIndex: 2512 entries, 0 to 2511\n",
            "Data columns (total 16 columns):\n",
            " #   Column                   Non-Null Count  Dtype  \n",
            "---  ------                   --------------  -----  \n",
            " 0   TransactionID            2512 non-null   object \n",
            " 1   AccountID                2512 non-null   object \n",
            " 2   TransactionAmount        2512 non-null   float64\n",
            " 3   TransactionDate          2512 non-null   object \n",
            " 4   TransactionType          2512 non-null   object \n",
            " 5   Location                 2512 non-null   object \n",
            " 6   DeviceID                 2512 non-null   object \n",
            " 7   IP Address               2512 non-null   object \n",
            " 8   MerchantID               2512 non-null   object \n",
            " 9   Channel                  2512 non-null   object \n",
            " 10  CustomerAge              2512 non-null   int64  \n",
            " 11  CustomerOccupation       2512 non-null   object \n",
            " 12  TransactionDuration      2512 non-null   int64  \n",
            " 13  LoginAttempts            2512 non-null   int64  \n",
            " 14  AccountBalance           2512 non-null   float64\n",
            " 15  PreviousTransactionDate  2512 non-null   object \n",
            "dtypes: float64(2), int64(3), object(11)\n",
            "memory usage: 314.1+ KB\n"
          ]
        }
      ],
      "source": [
        "# Tinjau jumlah baris kolom dan jenis data dalam dataset dengan info.\n",
        "df.info()"
      ]
    },
    {
      "cell_type": "code",
      "execution_count": 5,
      "metadata": {
        "id": "hN9KsJPonVKT"
      },
      "outputs": [
        {
          "data": {
            "text/html": [
              "<div>\n",
              "<style scoped>\n",
              "    .dataframe tbody tr th:only-of-type {\n",
              "        vertical-align: middle;\n",
              "    }\n",
              "\n",
              "    .dataframe tbody tr th {\n",
              "        vertical-align: top;\n",
              "    }\n",
              "\n",
              "    .dataframe thead th {\n",
              "        text-align: right;\n",
              "    }\n",
              "</style>\n",
              "<table border=\"1\" class=\"dataframe\">\n",
              "  <thead>\n",
              "    <tr style=\"text-align: right;\">\n",
              "      <th></th>\n",
              "      <th>TransactionAmount</th>\n",
              "      <th>CustomerAge</th>\n",
              "      <th>TransactionDuration</th>\n",
              "      <th>LoginAttempts</th>\n",
              "      <th>AccountBalance</th>\n",
              "    </tr>\n",
              "  </thead>\n",
              "  <tbody>\n",
              "    <tr>\n",
              "      <th>count</th>\n",
              "      <td>2512.000000</td>\n",
              "      <td>2512.000000</td>\n",
              "      <td>2512.000000</td>\n",
              "      <td>2512.000000</td>\n",
              "      <td>2512.000000</td>\n",
              "    </tr>\n",
              "    <tr>\n",
              "      <th>mean</th>\n",
              "      <td>297.593778</td>\n",
              "      <td>44.673965</td>\n",
              "      <td>119.643312</td>\n",
              "      <td>1.124602</td>\n",
              "      <td>5114.302966</td>\n",
              "    </tr>\n",
              "    <tr>\n",
              "      <th>std</th>\n",
              "      <td>291.946243</td>\n",
              "      <td>17.792198</td>\n",
              "      <td>69.963757</td>\n",
              "      <td>0.602662</td>\n",
              "      <td>3900.942499</td>\n",
              "    </tr>\n",
              "    <tr>\n",
              "      <th>min</th>\n",
              "      <td>0.260000</td>\n",
              "      <td>18.000000</td>\n",
              "      <td>10.000000</td>\n",
              "      <td>1.000000</td>\n",
              "      <td>101.250000</td>\n",
              "    </tr>\n",
              "    <tr>\n",
              "      <th>25%</th>\n",
              "      <td>81.885000</td>\n",
              "      <td>27.000000</td>\n",
              "      <td>63.000000</td>\n",
              "      <td>1.000000</td>\n",
              "      <td>1504.370000</td>\n",
              "    </tr>\n",
              "    <tr>\n",
              "      <th>50%</th>\n",
              "      <td>211.140000</td>\n",
              "      <td>45.000000</td>\n",
              "      <td>112.500000</td>\n",
              "      <td>1.000000</td>\n",
              "      <td>4735.510000</td>\n",
              "    </tr>\n",
              "    <tr>\n",
              "      <th>75%</th>\n",
              "      <td>414.527500</td>\n",
              "      <td>59.000000</td>\n",
              "      <td>161.000000</td>\n",
              "      <td>1.000000</td>\n",
              "      <td>7678.820000</td>\n",
              "    </tr>\n",
              "    <tr>\n",
              "      <th>max</th>\n",
              "      <td>1919.110000</td>\n",
              "      <td>80.000000</td>\n",
              "      <td>300.000000</td>\n",
              "      <td>5.000000</td>\n",
              "      <td>14977.990000</td>\n",
              "    </tr>\n",
              "  </tbody>\n",
              "</table>\n",
              "</div>"
            ],
            "text/plain": [
              "       TransactionAmount  CustomerAge  TransactionDuration  LoginAttempts  \\\n",
              "count        2512.000000  2512.000000          2512.000000    2512.000000   \n",
              "mean          297.593778    44.673965           119.643312       1.124602   \n",
              "std           291.946243    17.792198            69.963757       0.602662   \n",
              "min             0.260000    18.000000            10.000000       1.000000   \n",
              "25%            81.885000    27.000000            63.000000       1.000000   \n",
              "50%           211.140000    45.000000           112.500000       1.000000   \n",
              "75%           414.527500    59.000000           161.000000       1.000000   \n",
              "max          1919.110000    80.000000           300.000000       5.000000   \n",
              "\n",
              "       AccountBalance  \n",
              "count     2512.000000  \n",
              "mean      5114.302966  \n",
              "std       3900.942499  \n",
              "min        101.250000  \n",
              "25%       1504.370000  \n",
              "50%       4735.510000  \n",
              "75%       7678.820000  \n",
              "max      14977.990000  "
            ]
          },
          "execution_count": 5,
          "metadata": {},
          "output_type": "execute_result"
        }
      ],
      "source": [
        "# Menampilkan statistik deskriptif dataset dengan menjalankan describe\n",
        "df.describe()"
      ]
    },
    {
      "cell_type": "code",
      "execution_count": 6,
      "metadata": {},
      "outputs": [],
      "source": [
        "df_main_features = df[\n",
        "    [\n",
        "    \"TransactionAmount\",\n",
        "    \"TransactionType\",\n",
        "    \"Channel\",\n",
        "    \"MerchantID\",\n",
        "    \"Location\",\n",
        "    \"AccountBalance\",\n",
        "    \"CustomerAge\",\n",
        "    \"CustomerOccupation\",\n",
        "    \"TransactionDuration\"\n",
        "]\n",
        "]"
      ]
    },
    {
      "cell_type": "code",
      "execution_count": 7,
      "metadata": {},
      "outputs": [
        {
          "data": {
            "text/html": [
              "<div>\n",
              "<style scoped>\n",
              "    .dataframe tbody tr th:only-of-type {\n",
              "        vertical-align: middle;\n",
              "    }\n",
              "\n",
              "    .dataframe tbody tr th {\n",
              "        vertical-align: top;\n",
              "    }\n",
              "\n",
              "    .dataframe thead th {\n",
              "        text-align: right;\n",
              "    }\n",
              "</style>\n",
              "<table border=\"1\" class=\"dataframe\">\n",
              "  <thead>\n",
              "    <tr style=\"text-align: right;\">\n",
              "      <th></th>\n",
              "      <th>TransactionAmount</th>\n",
              "      <th>TransactionType</th>\n",
              "      <th>Channel</th>\n",
              "      <th>MerchantID</th>\n",
              "      <th>Location</th>\n",
              "      <th>AccountBalance</th>\n",
              "      <th>CustomerAge</th>\n",
              "      <th>CustomerOccupation</th>\n",
              "      <th>TransactionDuration</th>\n",
              "    </tr>\n",
              "  </thead>\n",
              "  <tbody>\n",
              "    <tr>\n",
              "      <th>1116</th>\n",
              "      <td>122.35</td>\n",
              "      <td>Credit</td>\n",
              "      <td>Branch</td>\n",
              "      <td>M008</td>\n",
              "      <td>Atlanta</td>\n",
              "      <td>6472.50</td>\n",
              "      <td>53</td>\n",
              "      <td>Retired</td>\n",
              "      <td>188</td>\n",
              "    </tr>\n",
              "    <tr>\n",
              "      <th>526</th>\n",
              "      <td>345.81</td>\n",
              "      <td>Debit</td>\n",
              "      <td>Branch</td>\n",
              "      <td>M099</td>\n",
              "      <td>Raleigh</td>\n",
              "      <td>6116.80</td>\n",
              "      <td>40</td>\n",
              "      <td>Engineer</td>\n",
              "      <td>135</td>\n",
              "    </tr>\n",
              "    <tr>\n",
              "      <th>1611</th>\n",
              "      <td>35.94</td>\n",
              "      <td>Credit</td>\n",
              "      <td>Branch</td>\n",
              "      <td>M050</td>\n",
              "      <td>Fresno</td>\n",
              "      <td>1697.28</td>\n",
              "      <td>23</td>\n",
              "      <td>Student</td>\n",
              "      <td>141</td>\n",
              "    </tr>\n",
              "    <tr>\n",
              "      <th>2035</th>\n",
              "      <td>72.82</td>\n",
              "      <td>Debit</td>\n",
              "      <td>Online</td>\n",
              "      <td>M063</td>\n",
              "      <td>Houston</td>\n",
              "      <td>6911.62</td>\n",
              "      <td>68</td>\n",
              "      <td>Doctor</td>\n",
              "      <td>127</td>\n",
              "    </tr>\n",
              "    <tr>\n",
              "      <th>2390</th>\n",
              "      <td>136.31</td>\n",
              "      <td>Debit</td>\n",
              "      <td>Online</td>\n",
              "      <td>M055</td>\n",
              "      <td>Nashville</td>\n",
              "      <td>4384.95</td>\n",
              "      <td>74</td>\n",
              "      <td>Retired</td>\n",
              "      <td>65</td>\n",
              "    </tr>\n",
              "  </tbody>\n",
              "</table>\n",
              "</div>"
            ],
            "text/plain": [
              "      TransactionAmount TransactionType Channel MerchantID   Location  \\\n",
              "1116             122.35          Credit  Branch       M008    Atlanta   \n",
              "526              345.81           Debit  Branch       M099    Raleigh   \n",
              "1611              35.94          Credit  Branch       M050     Fresno   \n",
              "2035              72.82           Debit  Online       M063    Houston   \n",
              "2390             136.31           Debit  Online       M055  Nashville   \n",
              "\n",
              "      AccountBalance  CustomerAge CustomerOccupation  TransactionDuration  \n",
              "1116         6472.50           53            Retired                  188  \n",
              "526          6116.80           40           Engineer                  135  \n",
              "1611         1697.28           23            Student                  141  \n",
              "2035         6911.62           68             Doctor                  127  \n",
              "2390         4384.95           74            Retired                   65  "
            ]
          },
          "execution_count": 7,
          "metadata": {},
          "output_type": "execute_result"
        }
      ],
      "source": [
        "df_main_features.sample(5)"
      ]
    },
    {
      "cell_type": "code",
      "execution_count": 8,
      "metadata": {},
      "outputs": [
        {
          "name": "stdout",
          "output_type": "stream",
          "text": [
            "<class 'pandas.core.frame.DataFrame'>\n",
            "RangeIndex: 2512 entries, 0 to 2511\n",
            "Data columns (total 9 columns):\n",
            " #   Column               Non-Null Count  Dtype  \n",
            "---  ------               --------------  -----  \n",
            " 0   TransactionAmount    2512 non-null   float64\n",
            " 1   TransactionType      2512 non-null   object \n",
            " 2   Channel              2512 non-null   object \n",
            " 3   MerchantID           2512 non-null   object \n",
            " 4   Location             2512 non-null   object \n",
            " 5   AccountBalance       2512 non-null   float64\n",
            " 6   CustomerAge          2512 non-null   int64  \n",
            " 7   CustomerOccupation   2512 non-null   object \n",
            " 8   TransactionDuration  2512 non-null   int64  \n",
            "dtypes: float64(2), int64(2), object(5)\n",
            "memory usage: 176.8+ KB\n"
          ]
        }
      ],
      "source": [
        "df_main_features.info(\n",
        ")"
      ]
    },
    {
      "cell_type": "markdown",
      "metadata": {},
      "source": [
        "ada beberapa yang tidak sesuai tipe data nya\n",
        "1. transaction date masih object\n",
        "2. previous transactionDate masih object\n",
        "\n",
        "akan kita fix dulu untuk kebutuhan EDA"
      ]
    },
    {
      "cell_type": "code",
      "execution_count": null,
      "metadata": {},
      "outputs": [
        {
          "name": "stderr",
          "output_type": "stream",
          "text": [
            "/tmp/ipykernel_22671/3460292927.py:1: SettingWithCopyWarning: \n",
            "A value is trying to be set on a copy of a slice from a DataFrame.\n",
            "Try using .loc[row_indexer,col_indexer] = value instead\n",
            "\n",
            "See the caveats in the documentation: https://pandas.pydata.org/pandas-docs/stable/user_guide/indexing.html#returning-a-view-versus-a-copy\n",
            "  df_main_features[\"TransactionDate\"] = pd.to_datetime(df_main_features[\"TransactionDate\"])\n",
            "/tmp/ipykernel_22671/3460292927.py:2: SettingWithCopyWarning: \n",
            "A value is trying to be set on a copy of a slice from a DataFrame.\n",
            "Try using .loc[row_indexer,col_indexer] = value instead\n",
            "\n",
            "See the caveats in the documentation: https://pandas.pydata.org/pandas-docs/stable/user_guide/indexing.html#returning-a-view-versus-a-copy\n",
            "  df_main_features[\"PreviousTransactionDate\"] = pd.to_datetime(df_main_features[\"PreviousTransactionDate\"])\n"
          ]
        }
      ],
      "source": [
        "# df_main_features[\"TransactionDate\"] = pd.to_datetime(df_main_features[\"TransactionDate\"])\n",
        "# df_main_features[\"PreviousTransactionDate\"] = pd.to_datetime(df_main_features[\"PreviousTransactionDate\"])"
      ]
    },
    {
      "cell_type": "code",
      "execution_count": 9,
      "metadata": {},
      "outputs": [
        {
          "name": "stdout",
          "output_type": "stream",
          "text": [
            "<class 'pandas.core.frame.DataFrame'>\n",
            "RangeIndex: 2512 entries, 0 to 2511\n",
            "Data columns (total 9 columns):\n",
            " #   Column               Non-Null Count  Dtype  \n",
            "---  ------               --------------  -----  \n",
            " 0   TransactionAmount    2512 non-null   float64\n",
            " 1   TransactionType      2512 non-null   object \n",
            " 2   Channel              2512 non-null   object \n",
            " 3   MerchantID           2512 non-null   object \n",
            " 4   Location             2512 non-null   object \n",
            " 5   AccountBalance       2512 non-null   float64\n",
            " 6   CustomerAge          2512 non-null   int64  \n",
            " 7   CustomerOccupation   2512 non-null   object \n",
            " 8   TransactionDuration  2512 non-null   int64  \n",
            "dtypes: float64(2), int64(2), object(5)\n",
            "memory usage: 176.8+ KB\n"
          ]
        }
      ],
      "source": [
        "df_main_features.info()"
      ]
    },
    {
      "cell_type": "code",
      "execution_count": 10,
      "metadata": {},
      "outputs": [
        {
          "data": {
            "text/plain": [
              "TransactionAmount      0\n",
              "TransactionType        0\n",
              "Channel                0\n",
              "MerchantID             0\n",
              "Location               0\n",
              "AccountBalance         0\n",
              "CustomerAge            0\n",
              "CustomerOccupation     0\n",
              "TransactionDuration    0\n",
              "dtype: int64"
            ]
          },
          "execution_count": 10,
          "metadata": {},
          "output_type": "execute_result"
        }
      ],
      "source": [
        "df_main_features.isnull().sum()"
      ]
    },
    {
      "cell_type": "code",
      "execution_count": 11,
      "metadata": {},
      "outputs": [
        {
          "data": {
            "text/plain": [
              "0"
            ]
          },
          "execution_count": 11,
          "metadata": {},
          "output_type": "execute_result"
        }
      ],
      "source": [
        "df_main_features.duplicated().sum()"
      ]
    },
    {
      "cell_type": "markdown",
      "metadata": {
        "id": "DNOEZk24uiXu"
      },
      "source": [
        "(Opsional) Memuat Dataset dan Melakukan Exploratory Data Analysis (EDA) [Skilled]\n",
        "\n",
        "**Biarkan kosong jika tidak menerapkan kriteria skilled**\n",
        "\n",
        "**Apabila ingin menerapkan Advanced, pastikan seluruh visualisasi tidak ada yang overlap**"
      ]
    },
    {
      "cell_type": "code",
      "execution_count": 12,
      "metadata": {},
      "outputs": [],
      "source": [
        "df_main_features_numerical = df_main_features.select_dtypes(include=[\"float64\", \"int64\"])\n",
        "df_main_features_categorical = df_main_features.select_dtypes(include=[\"object\"])"
      ]
    },
    {
      "cell_type": "code",
      "execution_count": 13,
      "metadata": {},
      "outputs": [
        {
          "name": "stdout",
          "output_type": "stream",
          "text": [
            "<class 'pandas.core.frame.DataFrame'>\n",
            "RangeIndex: 2512 entries, 0 to 2511\n",
            "Data columns (total 4 columns):\n",
            " #   Column               Non-Null Count  Dtype  \n",
            "---  ------               --------------  -----  \n",
            " 0   TransactionAmount    2512 non-null   float64\n",
            " 1   AccountBalance       2512 non-null   float64\n",
            " 2   CustomerAge          2512 non-null   int64  \n",
            " 3   TransactionDuration  2512 non-null   int64  \n",
            "dtypes: float64(2), int64(2)\n",
            "memory usage: 78.6 KB\n"
          ]
        }
      ],
      "source": [
        "df_main_features_numerical.info()"
      ]
    },
    {
      "cell_type": "code",
      "execution_count": 14,
      "metadata": {},
      "outputs": [
        {
          "data": {
            "image/png": "[encoded data removed]",
            "text/plain": [
              "<Figure size 2000x1000 with 4 Axes>"
            ]
          },
          "metadata": {},
          "output_type": "display_data"
        }
      ],
      "source": [
        "fig = plt.figure(figsize=(20, 10))\n",
        "for i, col in enumerate(df_main_features_numerical.columns):\n",
        "    ax = fig.add_subplot(2, 5, i + 1)\n",
        "    sns.histplot(x=df_main_features_numerical[col], ax=ax)\n",
        "    ax.set_title(col)\n",
        "plt.tight_layout()\n",
        "plt.show()"
      ]
    },
    {
      "cell_type": "markdown",
      "metadata": {},
      "source": [
        "ada beberap data yang skew/miring, seperti :\n",
        "1. transcation amount yang ternyata miring ke kanan\n",
        "2. account balance yang ternyata miring ke kanan juga\n",
        "3. customer age juga sama\n",
        "\n",
        "mendekati normal hanya transaction duration "
      ]
    },
    {
      "cell_type": "code",
      "execution_count": 15,
      "metadata": {},
      "outputs": [
        {
          "data": {
            "image/png": "[encoded data removed]",
            "text/plain": [
              "<Figure size 2000x1000 with 4 Axes>"
            ]
          },
          "metadata": {},
          "output_type": "display_data"
        }
      ],
      "source": [
        "fig = plt.figure(figsize=(20, 10))\n",
        "for i, col in enumerate(df_main_features_numerical.columns):\n",
        "    ax = fig.add_subplot(2, 5, i + 1)\n",
        "    sns.boxplot(x=df_main_features_numerical[col], ax=ax)\n",
        "    ax.set_title(col)\n",
        "plt.tight_layout()\n",
        "plt.show()"
      ]
    },
    {
      "cell_type": "markdown",
      "metadata": {},
      "source": [
        "dalam pengecekan outliers, ada satu column yang memiliki outliers, yaitu column transcation amount, mungkin nanti fix nya lebih ke arah mengganti ke nilai max terdekat, karna trade off nya data yang kecil hanya 2k baris"
      ]
    },
    {
      "cell_type": "code",
      "execution_count": 16,
      "metadata": {},
      "outputs": [
        {
          "name": "stdout",
          "output_type": "stream",
          "text": [
            "<class 'pandas.core.frame.DataFrame'>\n",
            "RangeIndex: 2512 entries, 0 to 2511\n",
            "Data columns (total 5 columns):\n",
            " #   Column              Non-Null Count  Dtype \n",
            "---  ------              --------------  ----- \n",
            " 0   TransactionType     2512 non-null   object\n",
            " 1   Channel             2512 non-null   object\n",
            " 2   MerchantID          2512 non-null   object\n",
            " 3   Location            2512 non-null   object\n",
            " 4   CustomerOccupation  2512 non-null   object\n",
            "dtypes: object(5)\n",
            "memory usage: 98.3+ KB\n"
          ]
        }
      ],
      "source": [
        "df_main_features_categorical.info()"
      ]
    },
    {
      "cell_type": "code",
      "execution_count": 17,
      "metadata": {},
      "outputs": [
        {
          "data": {
            "text/plain": [
              "TransactionType\n",
              "Debit     1944\n",
              "Credit     568\n",
              "Name: count, dtype: int64"
            ]
          },
          "execution_count": 17,
          "metadata": {},
          "output_type": "execute_result"
        }
      ],
      "source": [
        "df_main_features_categorical[\"TransactionType\"].value_counts()"
      ]
    },
    {
      "cell_type": "code",
      "execution_count": 18,
      "metadata": {},
      "outputs": [
        {
          "data": {
            "image/png": "[encoded data removed]",
            "text/plain": [
              "<Figure size 640x480 with 1 Axes>"
            ]
          },
          "metadata": {},
          "output_type": "display_data"
        }
      ],
      "source": [
        "sns.barplot(x=df_main_features_categorical[\"TransactionType\"].value_counts().index, \n",
        "            y=df_main_features_categorical[\"TransactionType\"].value_counts().values\n",
        "           )\n",
        "plt.show()"
      ]
    },
    {
      "cell_type": "markdown",
      "metadata": {},
      "source": [
        "distribusi transaksi kredit lebih besar daripada debit, masuk kategori data unbalance"
      ]
    },
    {
      "cell_type": "code",
      "execution_count": 19,
      "metadata": {},
      "outputs": [
        {
          "data": {
            "text/plain": [
              "Channel\n",
              "Branch    868\n",
              "ATM       833\n",
              "Online    811\n",
              "Name: count, dtype: int64"
            ]
          },
          "execution_count": 19,
          "metadata": {},
          "output_type": "execute_result"
        }
      ],
      "source": [
        "df_main_features_categorical[\"Channel\"].value_counts()"
      ]
    },
    {
      "cell_type": "code",
      "execution_count": 20,
      "metadata": {},
      "outputs": [
        {
          "data": {
            "image/png": "[encoded data removed]",
            "text/plain": [
              "<Figure size 640x480 with 1 Axes>"
            ]
          },
          "metadata": {},
          "output_type": "display_data"
        }
      ],
      "source": [
        "sns.barplot(\n",
        "    x=df_main_features_categorical[\"Channel\"].value_counts().index,\n",
        "    y=df_main_features_categorical[\"Channel\"].value_counts().values\n",
        ")\n",
        "plt.show()"
      ]
    },
    {
      "cell_type": "code",
      "execution_count": 21,
      "metadata": {},
      "outputs": [
        {
          "data": {
            "image/png": "[encoded data removed]",
            "text/plain": [
              "<Figure size 1000x500 with 1 Axes>"
            ]
          },
          "metadata": {},
          "output_type": "display_data"
        }
      ],
      "source": [
        "top5 = df_main_features_categorical[\"Location\"].value_counts().head(5)\n",
        "\n",
        "plt.figure(figsize=(10, 5))\n",
        "plt.barh(top5.index[::-1], top5.values[::-1]) \n",
        "plt.xlabel(\"Count\")\n",
        "plt.ylabel(\"Location\")\n",
        "plt.title(\"Top 5 Location\")\n",
        "plt.show()"
      ]
    },
    {
      "cell_type": "code",
      "execution_count": 22,
      "metadata": {},
      "outputs": [
        {
          "data": {
            "image/png": "[encoded data removed]",
            "text/plain": [
              "<Figure size 640x480 with 1 Axes>"
            ]
          },
          "metadata": {},
          "output_type": "display_data"
        }
      ],
      "source": [
        "sns.barplot(\n",
        "    x=df_main_features_categorical[\"CustomerOccupation\"].value_counts().index,\n",
        "    y=df_main_features_categorical[\"CustomerOccupation\"].value_counts().values\n",
        ")\n",
        "plt.show()"
      ]
    },
    {
      "cell_type": "code",
      "execution_count": 23,
      "metadata": {
        "id": "DGAJlKExnYAt"
      },
      "outputs": [
        {
          "data": {
            "image/png": "[encoded data removed]",
            "text/plain": [
              "<Figure size 640x480 with 2 Axes>"
            ]
          },
          "metadata": {},
          "output_type": "display_data"
        }
      ],
      "source": [
        "# Menampilkan korelasi antar fitur (Opsional Skilled 1)\n",
        "sns.heatmap(\n",
        "    df_main_features_numerical.corr(),\n",
        "    annot=True\n",
        ")\n",
        "plt.show()"
      ]
    },
    {
      "cell_type": "markdown",
      "metadata": {
        "id": "cSemyzQHU0On"
      },
      "source": [
        "# **3. Pembersihan dan Pra Pemrosesan Data**\n",
        "\n",
        "Pada tahap ini, Anda akan melakukan **Pembersihan Dataset** untuk menjadikan dataset mudah diintepretasi dan bisa dilatih. Hal-hal yang wajib kamu lakukan yaitu:\n",
        "\n",
        "1. **Mengecek dataset** menggunakan isnull().sum() dan duplicated().sum().\n",
        "2. Melakukan feature scaling menggunakan `MinMaxScaler()` atau `StandardScalar()` untuk fitur numerik.\n",
        "3. Melakukan feature encoding menggunakan `LabelEncoder()` untuk fitur kategorikal.\n",
        "4. Melakukan drop pada kolom id.\n",
        "5. **Ketentuan Cell Code**\n",
        "   - Pastikan **setiap pemeriksaan tersebut** memiliki **output pada cell-nya**. Jika tidak **submission langsung ditolak**\n"
      ]
    },
    {
      "cell_type": "markdown",
      "metadata": {},
      "source": [
        "## Feature Engineering"
      ]
    },
    {
      "cell_type": "code",
      "execution_count": 25,
      "metadata": {},
      "outputs": [
        {
          "name": "stdout",
          "output_type": "stream",
          "text": [
            "<class 'pandas.core.frame.DataFrame'>\n",
            "RangeIndex: 2512 entries, 0 to 2511\n",
            "Data columns (total 9 columns):\n",
            " #   Column               Non-Null Count  Dtype  \n",
            "---  ------               --------------  -----  \n",
            " 0   TransactionAmount    2512 non-null   float64\n",
            " 1   TransactionType      2512 non-null   object \n",
            " 2   Channel              2512 non-null   object \n",
            " 3   MerchantID           2512 non-null   object \n",
            " 4   Location             2512 non-null   object \n",
            " 5   AccountBalance       2512 non-null   float64\n",
            " 6   CustomerAge          2512 non-null   int64  \n",
            " 7   CustomerOccupation   2512 non-null   object \n",
            " 8   TransactionDuration  2512 non-null   int64  \n",
            "dtypes: float64(2), int64(2), object(5)\n",
            "memory usage: 176.8+ KB\n"
          ]
        }
      ],
      "source": [
        "df_main_features.info()"
      ]
    },
    {
      "cell_type": "code",
      "execution_count": 26,
      "metadata": {},
      "outputs": [
        {
          "name": "stderr",
          "output_type": "stream",
          "text": [
            "/tmp/ipykernel_23407/3894120446.py:2: SettingWithCopyWarning: \n",
            "A value is trying to be set on a copy of a slice from a DataFrame.\n",
            "Try using .loc[row_indexer,col_indexer] = value instead\n",
            "\n",
            "See the caveats in the documentation: https://pandas.pydata.org/pandas-docs/stable/user_guide/indexing.html#returning-a-view-versus-a-copy\n",
            "  df_main_features[\"AmountBalanceRatio\"] = df_main_features[\"TransactionAmount\"] / (df_main_features[\"AccountBalance\"] + 1e-6)\n"
          ]
        }
      ],
      "source": [
        "# 2. Rasio Amount/Balance (hindari division by zero)\n",
        "df_main_features[\"AmountBalanceRatio\"] = df_main_features[\"TransactionAmount\"] / (df_main_features[\"AccountBalance\"] + 1e-6)"
      ]
    },
    {
      "cell_type": "code",
      "execution_count": 27,
      "metadata": {},
      "outputs": [
        {
          "name": "stderr",
          "output_type": "stream",
          "text": [
            "/tmp/ipykernel_23407/1977067285.py:6: SettingWithCopyWarning: \n",
            "A value is trying to be set on a copy of a slice from a DataFrame.\n",
            "Try using .loc[row_indexer,col_indexer] = value instead\n",
            "\n",
            "See the caveats in the documentation: https://pandas.pydata.org/pandas-docs/stable/user_guide/indexing.html#returning-a-view-versus-a-copy\n",
            "  df_main_features[\"MerchantTopN\"] = df_main_features[\"MerchantID\"].apply(\n",
            "/tmp/ipykernel_23407/1977067285.py:12: SettingWithCopyWarning: \n",
            "A value is trying to be set on a copy of a slice from a DataFrame.\n",
            "Try using .loc[row_indexer,col_indexer] = value instead\n",
            "\n",
            "See the caveats in the documentation: https://pandas.pydata.org/pandas-docs/stable/user_guide/indexing.html#returning-a-view-versus-a-copy\n",
            "  df_main_features[\"LocationTopN\"] = df_main_features[\"Location\"].apply(\n"
          ]
        }
      ],
      "source": [
        "# 3. Preferensi Merchant & Location (Top-N encoding)\n",
        "N = 5  # contoh ambil top 5\n",
        "\n",
        "# Top-N Merchant\n",
        "top_merchants = df_main_features[\"MerchantID\"].value_counts().head(N).index\n",
        "df_main_features[\"MerchantTopN\"] = df_main_features[\"MerchantID\"].apply(\n",
        "    lambda x: x if x in top_merchants else \"OTHER\"\n",
        ")\n",
        "\n",
        "# Top-N Location\n",
        "top_locations = df_main_features[\"Location\"].value_counts().head(N).index\n",
        "df_main_features[\"LocationTopN\"] = df_main_features[\"Location\"].apply(\n",
        "    lambda x: x if x in top_locations else \"OTHER\"\n",
        ")\n"
      ]
    },
    {
      "cell_type": "code",
      "execution_count": 28,
      "metadata": {},
      "outputs": [
        {
          "data": {
            "text/html": [
              "<div>\n",
              "<style scoped>\n",
              "    .dataframe tbody tr th:only-of-type {\n",
              "        vertical-align: middle;\n",
              "    }\n",
              "\n",
              "    .dataframe tbody tr th {\n",
              "        vertical-align: top;\n",
              "    }\n",
              "\n",
              "    .dataframe thead th {\n",
              "        text-align: right;\n",
              "    }\n",
              "</style>\n",
              "<table border=\"1\" class=\"dataframe\">\n",
              "  <thead>\n",
              "    <tr style=\"text-align: right;\">\n",
              "      <th></th>\n",
              "      <th>TransactionAmount</th>\n",
              "      <th>TransactionType</th>\n",
              "      <th>Channel</th>\n",
              "      <th>MerchantID</th>\n",
              "      <th>Location</th>\n",
              "      <th>AccountBalance</th>\n",
              "      <th>CustomerAge</th>\n",
              "      <th>CustomerOccupation</th>\n",
              "      <th>TransactionDuration</th>\n",
              "      <th>AmountBalanceRatio</th>\n",
              "      <th>MerchantTopN</th>\n",
              "      <th>LocationTopN</th>\n",
              "    </tr>\n",
              "  </thead>\n",
              "  <tbody>\n",
              "    <tr>\n",
              "      <th>0</th>\n",
              "      <td>14.09</td>\n",
              "      <td>Debit</td>\n",
              "      <td>ATM</td>\n",
              "      <td>M015</td>\n",
              "      <td>San Diego</td>\n",
              "      <td>5112.21</td>\n",
              "      <td>70</td>\n",
              "      <td>Doctor</td>\n",
              "      <td>81</td>\n",
              "      <td>0.002756</td>\n",
              "      <td>OTHER</td>\n",
              "      <td>OTHER</td>\n",
              "    </tr>\n",
              "    <tr>\n",
              "      <th>1</th>\n",
              "      <td>376.24</td>\n",
              "      <td>Debit</td>\n",
              "      <td>ATM</td>\n",
              "      <td>M052</td>\n",
              "      <td>Houston</td>\n",
              "      <td>13758.91</td>\n",
              "      <td>68</td>\n",
              "      <td>Doctor</td>\n",
              "      <td>141</td>\n",
              "      <td>0.027345</td>\n",
              "      <td>OTHER</td>\n",
              "      <td>OTHER</td>\n",
              "    </tr>\n",
              "    <tr>\n",
              "      <th>2</th>\n",
              "      <td>126.29</td>\n",
              "      <td>Debit</td>\n",
              "      <td>Online</td>\n",
              "      <td>M009</td>\n",
              "      <td>Mesa</td>\n",
              "      <td>1122.35</td>\n",
              "      <td>19</td>\n",
              "      <td>Student</td>\n",
              "      <td>56</td>\n",
              "      <td>0.112523</td>\n",
              "      <td>OTHER</td>\n",
              "      <td>OTHER</td>\n",
              "    </tr>\n",
              "    <tr>\n",
              "      <th>3</th>\n",
              "      <td>184.50</td>\n",
              "      <td>Debit</td>\n",
              "      <td>Online</td>\n",
              "      <td>M002</td>\n",
              "      <td>Raleigh</td>\n",
              "      <td>8569.06</td>\n",
              "      <td>26</td>\n",
              "      <td>Student</td>\n",
              "      <td>25</td>\n",
              "      <td>0.021531</td>\n",
              "      <td>OTHER</td>\n",
              "      <td>OTHER</td>\n",
              "    </tr>\n",
              "    <tr>\n",
              "      <th>4</th>\n",
              "      <td>13.45</td>\n",
              "      <td>Credit</td>\n",
              "      <td>Online</td>\n",
              "      <td>M091</td>\n",
              "      <td>Atlanta</td>\n",
              "      <td>7429.40</td>\n",
              "      <td>26</td>\n",
              "      <td>Student</td>\n",
              "      <td>198</td>\n",
              "      <td>0.001810</td>\n",
              "      <td>OTHER</td>\n",
              "      <td>OTHER</td>\n",
              "    </tr>\n",
              "  </tbody>\n",
              "</table>\n",
              "</div>"
            ],
            "text/plain": [
              "   TransactionAmount TransactionType Channel MerchantID   Location  \\\n",
              "0              14.09           Debit     ATM       M015  San Diego   \n",
              "1             376.24           Debit     ATM       M052    Houston   \n",
              "2             126.29           Debit  Online       M009       Mesa   \n",
              "3             184.50           Debit  Online       M002    Raleigh   \n",
              "4              13.45          Credit  Online       M091    Atlanta   \n",
              "\n",
              "   AccountBalance  CustomerAge CustomerOccupation  TransactionDuration  \\\n",
              "0         5112.21           70             Doctor                   81   \n",
              "1        13758.91           68             Doctor                  141   \n",
              "2         1122.35           19            Student                   56   \n",
              "3         8569.06           26            Student                   25   \n",
              "4         7429.40           26            Student                  198   \n",
              "\n",
              "   AmountBalanceRatio MerchantTopN LocationTopN  \n",
              "0            0.002756        OTHER        OTHER  \n",
              "1            0.027345        OTHER        OTHER  \n",
              "2            0.112523        OTHER        OTHER  \n",
              "3            0.021531        OTHER        OTHER  \n",
              "4            0.001810        OTHER        OTHER  "
            ]
          },
          "execution_count": 28,
          "metadata": {},
          "output_type": "execute_result"
        }
      ],
      "source": [
        "df_main_features.head()"
      ]
    },
    {
      "cell_type": "code",
      "execution_count": 29,
      "metadata": {},
      "outputs": [],
      "source": [
        "df_main_features_numerical = df_main_features.select_dtypes(include=[\"float64\", \"int64\"])\n",
        "df_main_features_categorical = df_main_features.select_dtypes(include=[\"object\"])"
      ]
    },
    {
      "cell_type": "code",
      "execution_count": 30,
      "metadata": {},
      "outputs": [
        {
          "data": {
            "text/html": [
              "<div>\n",
              "<style scoped>\n",
              "    .dataframe tbody tr th:only-of-type {\n",
              "        vertical-align: middle;\n",
              "    }\n",
              "\n",
              "    .dataframe tbody tr th {\n",
              "        vertical-align: top;\n",
              "    }\n",
              "\n",
              "    .dataframe thead th {\n",
              "        text-align: right;\n",
              "    }\n",
              "</style>\n",
              "<table border=\"1\" class=\"dataframe\">\n",
              "  <thead>\n",
              "    <tr style=\"text-align: right;\">\n",
              "      <th></th>\n",
              "      <th>TransactionAmount</th>\n",
              "      <th>AccountBalance</th>\n",
              "      <th>CustomerAge</th>\n",
              "      <th>TransactionDuration</th>\n",
              "      <th>AmountBalanceRatio</th>\n",
              "    </tr>\n",
              "  </thead>\n",
              "  <tbody>\n",
              "    <tr>\n",
              "      <th>0</th>\n",
              "      <td>14.09</td>\n",
              "      <td>5112.21</td>\n",
              "      <td>70</td>\n",
              "      <td>81</td>\n",
              "      <td>0.002756</td>\n",
              "    </tr>\n",
              "    <tr>\n",
              "      <th>1</th>\n",
              "      <td>376.24</td>\n",
              "      <td>13758.91</td>\n",
              "      <td>68</td>\n",
              "      <td>141</td>\n",
              "      <td>0.027345</td>\n",
              "    </tr>\n",
              "    <tr>\n",
              "      <th>2</th>\n",
              "      <td>126.29</td>\n",
              "      <td>1122.35</td>\n",
              "      <td>19</td>\n",
              "      <td>56</td>\n",
              "      <td>0.112523</td>\n",
              "    </tr>\n",
              "    <tr>\n",
              "      <th>3</th>\n",
              "      <td>184.50</td>\n",
              "      <td>8569.06</td>\n",
              "      <td>26</td>\n",
              "      <td>25</td>\n",
              "      <td>0.021531</td>\n",
              "    </tr>\n",
              "    <tr>\n",
              "      <th>4</th>\n",
              "      <td>13.45</td>\n",
              "      <td>7429.40</td>\n",
              "      <td>26</td>\n",
              "      <td>198</td>\n",
              "      <td>0.001810</td>\n",
              "    </tr>\n",
              "  </tbody>\n",
              "</table>\n",
              "</div>"
            ],
            "text/plain": [
              "   TransactionAmount  AccountBalance  CustomerAge  TransactionDuration  \\\n",
              "0              14.09         5112.21           70                   81   \n",
              "1             376.24        13758.91           68                  141   \n",
              "2             126.29         1122.35           19                   56   \n",
              "3             184.50         8569.06           26                   25   \n",
              "4              13.45         7429.40           26                  198   \n",
              "\n",
              "   AmountBalanceRatio  \n",
              "0            0.002756  \n",
              "1            0.027345  \n",
              "2            0.112523  \n",
              "3            0.021531  \n",
              "4            0.001810  "
            ]
          },
          "execution_count": 30,
          "metadata": {},
          "output_type": "execute_result"
        }
      ],
      "source": [
        "df_main_features_numerical.head()"
      ]
    },
    {
      "cell_type": "code",
      "execution_count": 31,
      "metadata": {},
      "outputs": [
        {
          "data": {
            "image/png": "[encoded data removed]",
            "text/plain": [
              "<Figure size 2000x1000 with 5 Axes>"
            ]
          },
          "metadata": {},
          "output_type": "display_data"
        }
      ],
      "source": [
        "fig = plt.figure(figsize=(20, 10))\n",
        "for i, col in enumerate(df_main_features_numerical.columns):\n",
        "    ax = fig.add_subplot(2, 5, i + 1)\n",
        "    sns.boxplot(x=df_main_features_numerical[col], ax=ax)\n",
        "    ax.set_title(col)\n",
        "plt.tight_layout()\n",
        "plt.show()"
      ]
    },
    {
      "cell_type": "code",
      "execution_count": 32,
      "metadata": {},
      "outputs": [
        {
          "data": {
            "image/png": "[encoded data removed]",
            "text/plain": [
              "<Figure size 2000x1000 with 5 Axes>"
            ]
          },
          "metadata": {},
          "output_type": "display_data"
        }
      ],
      "source": [
        "fig = plt.figure(figsize=(20, 10))\n",
        "for i, col in enumerate(df_main_features_numerical.columns):\n",
        "    ax = fig.add_subplot(2, 5, i + 1)\n",
        "    sns.histplot(x=df_main_features_numerical[col], ax=ax)\n",
        "    ax.set_title(col)\n",
        "plt.tight_layout()\n",
        "plt.show()"
      ]
    },
    {
      "cell_type": "code",
      "execution_count": 33,
      "metadata": {},
      "outputs": [
        {
          "name": "stdout",
          "output_type": "stream",
          "text": [
            "skew untuk transaksi amount: 1.7401067216605806\n",
            "skew untuk AmountBalanceRatio: 6.754363781321394\n"
          ]
        }
      ],
      "source": [
        "print(\"skew untuk transaksi amount:\", df_main_features_numerical[\"TransactionAmount\"].skew())\n",
        "print(\"skew untuk AmountBalanceRatio:\", df_main_features_numerical[\"AmountBalanceRatio\"].skew())"
      ]
    },
    {
      "cell_type": "code",
      "execution_count": 34,
      "metadata": {},
      "outputs": [],
      "source": [
        "from sklearn.preprocessing import PowerTransformer\n",
        "df_main_features_numerical['TransactionAmount_log'] = np.log1p(df_main_features_numerical['TransactionAmount'])\n",
        "# TransactionAmount masih ada\n",
        "pt = PowerTransformer(method='yeo-johnson')\n",
        "df_main_features_numerical['AmountBalanceRatio_yj'] = pt.fit_transform(df_main_features_numerical[['AmountBalanceRatio']])\n",
        "\n",
        "# AccountBalance masih ada"
      ]
    },
    {
      "cell_type": "code",
      "execution_count": 35,
      "metadata": {},
      "outputs": [
        {
          "data": {
            "text/plain": [
              "<Axes: xlabel='TransactionAmount_log', ylabel='Count'>"
            ]
          },
          "execution_count": 35,
          "metadata": {},
          "output_type": "execute_result"
        },
        {
          "data": {
            "image/png": "[encoded data removed]",
            "text/plain": [
              "<Figure size 640x480 with 1 Axes>"
            ]
          },
          "metadata": {},
          "output_type": "display_data"
        }
      ],
      "source": [
        "sns.histplot(x=df_main_features_numerical['TransactionAmount_log'])"
      ]
    },
    {
      "cell_type": "code",
      "execution_count": 36,
      "metadata": {},
      "outputs": [
        {
          "data": {
            "text/plain": [
              "<Axes: xlabel='AmountBalanceRatio_yj', ylabel='Count'>"
            ]
          },
          "execution_count": 36,
          "metadata": {},
          "output_type": "execute_result"
        },
        {
          "data": {
            "image/png": "[encoded data removed]",
            "text/plain": [
              "<Figure size 640x480 with 1 Axes>"
            ]
          },
          "metadata": {},
          "output_type": "display_data"
        }
      ],
      "source": [
        "sns.histplot(x=df_main_features_numerical['AmountBalanceRatio_yj'])"
      ]
    },
    {
      "cell_type": "code",
      "execution_count": 37,
      "metadata": {},
      "outputs": [
        {
          "data": {
            "text/html": [
              "<div>\n",
              "<style scoped>\n",
              "    .dataframe tbody tr th:only-of-type {\n",
              "        vertical-align: middle;\n",
              "    }\n",
              "\n",
              "    .dataframe tbody tr th {\n",
              "        vertical-align: top;\n",
              "    }\n",
              "\n",
              "    .dataframe thead th {\n",
              "        text-align: right;\n",
              "    }\n",
              "</style>\n",
              "<table border=\"1\" class=\"dataframe\">\n",
              "  <thead>\n",
              "    <tr style=\"text-align: right;\">\n",
              "      <th></th>\n",
              "      <th>TransactionAmount</th>\n",
              "      <th>AccountBalance</th>\n",
              "      <th>CustomerAge</th>\n",
              "      <th>TransactionDuration</th>\n",
              "      <th>AmountBalanceRatio</th>\n",
              "      <th>TransactionAmount_log</th>\n",
              "      <th>AmountBalanceRatio_yj</th>\n",
              "    </tr>\n",
              "  </thead>\n",
              "  <tbody>\n",
              "    <tr>\n",
              "      <th>0</th>\n",
              "      <td>14.09</td>\n",
              "      <td>5112.21</td>\n",
              "      <td>70</td>\n",
              "      <td>81</td>\n",
              "      <td>0.002756</td>\n",
              "      <td>2.714032</td>\n",
              "      <td>-1.107502</td>\n",
              "    </tr>\n",
              "    <tr>\n",
              "      <th>1</th>\n",
              "      <td>376.24</td>\n",
              "      <td>13758.91</td>\n",
              "      <td>68</td>\n",
              "      <td>141</td>\n",
              "      <td>0.027345</td>\n",
              "      <td>5.932882</td>\n",
              "      <td>-0.683276</td>\n",
              "    </tr>\n",
              "    <tr>\n",
              "      <th>2</th>\n",
              "      <td>126.29</td>\n",
              "      <td>1122.35</td>\n",
              "      <td>19</td>\n",
              "      <td>56</td>\n",
              "      <td>0.112523</td>\n",
              "      <td>4.846468</td>\n",
              "      <td>0.356475</td>\n",
              "    </tr>\n",
              "    <tr>\n",
              "      <th>3</th>\n",
              "      <td>184.50</td>\n",
              "      <td>8569.06</td>\n",
              "      <td>26</td>\n",
              "      <td>25</td>\n",
              "      <td>0.021531</td>\n",
              "      <td>5.223055</td>\n",
              "      <td>-0.777374</td>\n",
              "    </tr>\n",
              "    <tr>\n",
              "      <th>4</th>\n",
              "      <td>13.45</td>\n",
              "      <td>7429.40</td>\n",
              "      <td>26</td>\n",
              "      <td>198</td>\n",
              "      <td>0.001810</td>\n",
              "      <td>2.670694</td>\n",
              "      <td>-1.125266</td>\n",
              "    </tr>\n",
              "  </tbody>\n",
              "</table>\n",
              "</div>"
            ],
            "text/plain": [
              "   TransactionAmount  AccountBalance  CustomerAge  TransactionDuration  \\\n",
              "0              14.09         5112.21           70                   81   \n",
              "1             376.24        13758.91           68                  141   \n",
              "2             126.29         1122.35           19                   56   \n",
              "3             184.50         8569.06           26                   25   \n",
              "4              13.45         7429.40           26                  198   \n",
              "\n",
              "   AmountBalanceRatio  TransactionAmount_log  AmountBalanceRatio_yj  \n",
              "0            0.002756               2.714032              -1.107502  \n",
              "1            0.027345               5.932882              -0.683276  \n",
              "2            0.112523               4.846468               0.356475  \n",
              "3            0.021531               5.223055              -0.777374  \n",
              "4            0.001810               2.670694              -1.125266  "
            ]
          },
          "execution_count": 37,
          "metadata": {},
          "output_type": "execute_result"
        }
      ],
      "source": [
        "df_main_features_numerical.head()"
      ]
    },
    {
      "cell_type": "code",
      "execution_count": 38,
      "metadata": {},
      "outputs": [
        {
          "data": {
            "text/html": [
              "<div>\n",
              "<style scoped>\n",
              "    .dataframe tbody tr th:only-of-type {\n",
              "        vertical-align: middle;\n",
              "    }\n",
              "\n",
              "    .dataframe tbody tr th {\n",
              "        vertical-align: top;\n",
              "    }\n",
              "\n",
              "    .dataframe thead th {\n",
              "        text-align: right;\n",
              "    }\n",
              "</style>\n",
              "<table border=\"1\" class=\"dataframe\">\n",
              "  <thead>\n",
              "    <tr style=\"text-align: right;\">\n",
              "      <th></th>\n",
              "      <th>AccountBalance</th>\n",
              "      <th>CustomerAge</th>\n",
              "      <th>TransactionDuration</th>\n",
              "      <th>TransactionAmount_log</th>\n",
              "      <th>AmountBalanceRatio_yj</th>\n",
              "    </tr>\n",
              "  </thead>\n",
              "  <tbody>\n",
              "    <tr>\n",
              "      <th>0</th>\n",
              "      <td>5112.21</td>\n",
              "      <td>70</td>\n",
              "      <td>81</td>\n",
              "      <td>2.714032</td>\n",
              "      <td>-1.107502</td>\n",
              "    </tr>\n",
              "    <tr>\n",
              "      <th>1</th>\n",
              "      <td>13758.91</td>\n",
              "      <td>68</td>\n",
              "      <td>141</td>\n",
              "      <td>5.932882</td>\n",
              "      <td>-0.683276</td>\n",
              "    </tr>\n",
              "    <tr>\n",
              "      <th>2</th>\n",
              "      <td>1122.35</td>\n",
              "      <td>19</td>\n",
              "      <td>56</td>\n",
              "      <td>4.846468</td>\n",
              "      <td>0.356475</td>\n",
              "    </tr>\n",
              "    <tr>\n",
              "      <th>3</th>\n",
              "      <td>8569.06</td>\n",
              "      <td>26</td>\n",
              "      <td>25</td>\n",
              "      <td>5.223055</td>\n",
              "      <td>-0.777374</td>\n",
              "    </tr>\n",
              "    <tr>\n",
              "      <th>4</th>\n",
              "      <td>7429.40</td>\n",
              "      <td>26</td>\n",
              "      <td>198</td>\n",
              "      <td>2.670694</td>\n",
              "      <td>-1.125266</td>\n",
              "    </tr>\n",
              "  </tbody>\n",
              "</table>\n",
              "</div>"
            ],
            "text/plain": [
              "   AccountBalance  CustomerAge  TransactionDuration  TransactionAmount_log  \\\n",
              "0         5112.21           70                   81               2.714032   \n",
              "1        13758.91           68                  141               5.932882   \n",
              "2         1122.35           19                   56               4.846468   \n",
              "3         8569.06           26                   25               5.223055   \n",
              "4         7429.40           26                  198               2.670694   \n",
              "\n",
              "   AmountBalanceRatio_yj  \n",
              "0              -1.107502  \n",
              "1              -0.683276  \n",
              "2               0.356475  \n",
              "3              -0.777374  \n",
              "4              -1.125266  "
            ]
          },
          "execution_count": 38,
          "metadata": {},
          "output_type": "execute_result"
        }
      ],
      "source": [
        "df_main_features_numerical = df_main_features_numerical.drop([\"TransactionAmount\", \"AmountBalanceRatio\"], axis=1)\n",
        "df_main_features_numerical.head()"
      ]
    },
    {
      "cell_type": "code",
      "execution_count": 39,
      "metadata": {},
      "outputs": [],
      "source": [
        "def handle_outliers_iqr(df, columns, k=1.5, method=\"remove\"):\n",
        "    \"\"\"\n",
        "    Deteksi & tangani outliers dengan metode IQR.\n",
        "    \n",
        "    Params:\n",
        "    --------\n",
        "    df : pd.DataFrame\n",
        "        Dataframe input\n",
        "    columns : list\n",
        "        List nama kolom numerik\n",
        "    k : float\n",
        "        Faktor IQR (default = 1.5 → aturan standar)\n",
        "    method : str\n",
        "        - \"detect\" → return DataFrame hanya outliers\n",
        "        - \"remove\" → return DataFrame tanpa outliers\n",
        "        - \"capping\" → return DataFrame dengan outliers diganti\n",
        "    \n",
        "    Return:\n",
        "    --------\n",
        "    pd.DataFrame\n",
        "    \"\"\"\n",
        "    df_copy = df.copy()\n",
        "    mask = pd.Series(False, index=df.index)  # semua False dulu\n",
        "    \n",
        "    for col in columns:\n",
        "        Q1 = df[col].quantile(0.25)\n",
        "        Q3 = df[col].quantile(0.75)\n",
        "        IQR = Q3 - Q1\n",
        "        lower = Q1 - k * IQR\n",
        "        upper = Q3 + k * IQR\n",
        "        \n",
        "        if method == \"capping\":\n",
        "            # Ganti nilai outlier dengan batas bawah/atas\n",
        "            df_copy[col] = np.where(df[col] < lower, lower,\n",
        "                             np.where(df[col] > upper, upper, df[col]))\n",
        "        \n",
        "        else:\n",
        "            # Tandai outlier untuk detect/remove\n",
        "            mask |= (df[col] < lower) | (df[col] > upper)\n",
        "    \n",
        "    if method == \"detect\":\n",
        "        return df[mask]  # hanya outliers\n",
        "    elif method == \"remove\":\n",
        "        return df[~mask]  # data tanpa outliers\n",
        "    elif method == \"capping\":\n",
        "        return df_copy  # data dengan capping\n",
        "    else:\n",
        "        raise ValueError(\"method harus salah satu dari: 'detect', 'remove', 'capping'\")"
      ]
    },
    {
      "cell_type": "code",
      "execution_count": 40,
      "metadata": {},
      "outputs": [],
      "source": [
        "num_col = [\"TransactionAmount_log\", \"AmountBalanceRatio_yj\"]\n",
        "df_main_features_numerical_clean = handle_outliers_iqr(df_main_features_numerical, num_col, method=\"capping\")"
      ]
    },
    {
      "cell_type": "code",
      "execution_count": 41,
      "metadata": {},
      "outputs": [
        {
          "data": {
            "image/png": "[encoded data removed]",
            "text/plain": [
              "<Figure size 2000x1000 with 5 Axes>"
            ]
          },
          "metadata": {},
          "output_type": "display_data"
        }
      ],
      "source": [
        "fig = plt.figure(figsize=(20, 10))\n",
        "for i, col in enumerate(df_main_features_numerical_clean.columns):\n",
        "    ax = fig.add_subplot(2, 5, i + 1)\n",
        "    sns.boxplot(x=df_main_features_numerical[col], ax=ax)\n",
        "    ax.set_title(col)\n",
        "plt.tight_layout()\n",
        "plt.show()"
      ]
    },
    {
      "cell_type": "code",
      "execution_count": 42,
      "metadata": {},
      "outputs": [],
      "source": [
        "from sklearn.preprocessing import RobustScaler\n",
        "\n",
        "scaler = RobustScaler()\n",
        "df_main_features_numerical_clean['TransactionAmount_log_scaled'] = scaler.fit_transform(\n",
        "    df_main_features_numerical_clean[['TransactionAmount_log']]\n",
        ")\n"
      ]
    },
    {
      "cell_type": "code",
      "execution_count": 43,
      "metadata": {},
      "outputs": [],
      "source": [
        "df_main_features_numerical_clean = df_main_features_numerical_clean.drop([\"TransactionAmount_log\"], axis=1)"
      ]
    },
    {
      "cell_type": "code",
      "execution_count": 44,
      "metadata": {},
      "outputs": [
        {
          "data": {
            "image/png": "[encoded data removed]",
            "text/plain": [
              "<Figure size 2000x1000 with 5 Axes>"
            ]
          },
          "metadata": {},
          "output_type": "display_data"
        }
      ],
      "source": [
        "fig = plt.figure(figsize=(20, 10))\n",
        "for i, col in enumerate(df_main_features_numerical_clean.columns):\n",
        "    ax = fig.add_subplot(2, 5, i + 1)\n",
        "    sns.boxplot(x=df_main_features_numerical_clean[col], ax=ax)\n",
        "    ax.set_title(col)\n",
        "plt.tight_layout()\n",
        "plt.show()"
      ]
    },
    {
      "cell_type": "code",
      "execution_count": 45,
      "metadata": {},
      "outputs": [
        {
          "data": {
            "text/html": [
              "<div>\n",
              "<style scoped>\n",
              "    .dataframe tbody tr th:only-of-type {\n",
              "        vertical-align: middle;\n",
              "    }\n",
              "\n",
              "    .dataframe tbody tr th {\n",
              "        vertical-align: top;\n",
              "    }\n",
              "\n",
              "    .dataframe thead th {\n",
              "        text-align: right;\n",
              "    }\n",
              "</style>\n",
              "<table border=\"1\" class=\"dataframe\">\n",
              "  <thead>\n",
              "    <tr style=\"text-align: right;\">\n",
              "      <th></th>\n",
              "      <th>AccountBalance</th>\n",
              "      <th>CustomerAge</th>\n",
              "      <th>TransactionDuration</th>\n",
              "      <th>AmountBalanceRatio_yj</th>\n",
              "      <th>TransactionAmount_log_scaled</th>\n",
              "    </tr>\n",
              "  </thead>\n",
              "  <tbody>\n",
              "    <tr>\n",
              "      <th>0</th>\n",
              "      <td>5112.21</td>\n",
              "      <td>70</td>\n",
              "      <td>81</td>\n",
              "      <td>-1.107502</td>\n",
              "      <td>-1.639611</td>\n",
              "    </tr>\n",
              "    <tr>\n",
              "      <th>1</th>\n",
              "      <td>13758.91</td>\n",
              "      <td>68</td>\n",
              "      <td>141</td>\n",
              "      <td>-0.683276</td>\n",
              "      <td>0.357072</td>\n",
              "    </tr>\n",
              "    <tr>\n",
              "      <th>2</th>\n",
              "      <td>1122.35</td>\n",
              "      <td>19</td>\n",
              "      <td>56</td>\n",
              "      <td>0.356475</td>\n",
              "      <td>-0.316841</td>\n",
              "    </tr>\n",
              "    <tr>\n",
              "      <th>3</th>\n",
              "      <td>8569.06</td>\n",
              "      <td>26</td>\n",
              "      <td>25</td>\n",
              "      <td>-0.777374</td>\n",
              "      <td>-0.083240</td>\n",
              "    </tr>\n",
              "    <tr>\n",
              "      <th>4</th>\n",
              "      <td>7429.40</td>\n",
              "      <td>26</td>\n",
              "      <td>198</td>\n",
              "      <td>-1.125266</td>\n",
              "      <td>-1.666494</td>\n",
              "    </tr>\n",
              "  </tbody>\n",
              "</table>\n",
              "</div>"
            ],
            "text/plain": [
              "   AccountBalance  CustomerAge  TransactionDuration  AmountBalanceRatio_yj  \\\n",
              "0         5112.21           70                   81              -1.107502   \n",
              "1        13758.91           68                  141              -0.683276   \n",
              "2         1122.35           19                   56               0.356475   \n",
              "3         8569.06           26                   25              -0.777374   \n",
              "4         7429.40           26                  198              -1.125266   \n",
              "\n",
              "   TransactionAmount_log_scaled  \n",
              "0                     -1.639611  \n",
              "1                      0.357072  \n",
              "2                     -0.316841  \n",
              "3                     -0.083240  \n",
              "4                     -1.666494  "
            ]
          },
          "execution_count": 45,
          "metadata": {},
          "output_type": "execute_result"
        }
      ],
      "source": [
        "df_main_features_numerical_clean.head()"
      ]
    },
    {
      "cell_type": "code",
      "execution_count": 46,
      "metadata": {
        "id": "G7WXozOgpJp-"
      },
      "outputs": [],
      "source": [
        "# Melakukan feature scaling menggunakan MinMaxScaler() atau StandardScalar() untuk fitur numerik.\n",
        "# Pastikan kamu menggunakan function head setelah melalukan scaling.\n",
        "from sklearn.preprocessing import StandardScaler\n",
        "\n",
        "scaler = StandardScaler()\n",
        "\n",
        "df_main_features_numerical_clean_scaled = df_main_features_numerical_clean.copy()\n",
        "\n",
        "df_main_features_numerical_clean_scaled = scaler.fit_transform(df_main_features_numerical_clean_scaled)"
      ]
    },
    {
      "cell_type": "code",
      "execution_count": 47,
      "metadata": {},
      "outputs": [],
      "source": [
        "df_main_features_numerical_clean_scaled = pd.DataFrame(df_main_features_numerical_clean_scaled, columns=df_main_features_numerical_clean.columns)"
      ]
    },
    {
      "cell_type": "code",
      "execution_count": 48,
      "metadata": {},
      "outputs": [
        {
          "data": {
            "text/html": [
              "<div>\n",
              "<style scoped>\n",
              "    .dataframe tbody tr th:only-of-type {\n",
              "        vertical-align: middle;\n",
              "    }\n",
              "\n",
              "    .dataframe tbody tr th {\n",
              "        vertical-align: top;\n",
              "    }\n",
              "\n",
              "    .dataframe thead th {\n",
              "        text-align: right;\n",
              "    }\n",
              "</style>\n",
              "<table border=\"1\" class=\"dataframe\">\n",
              "  <thead>\n",
              "    <tr style=\"text-align: right;\">\n",
              "      <th></th>\n",
              "      <th>AccountBalance</th>\n",
              "      <th>CustomerAge</th>\n",
              "      <th>TransactionDuration</th>\n",
              "      <th>AmountBalanceRatio_yj</th>\n",
              "      <th>TransactionAmount_log_scaled</th>\n",
              "    </tr>\n",
              "  </thead>\n",
              "  <tbody>\n",
              "    <tr>\n",
              "      <th>0</th>\n",
              "      <td>-0.000537</td>\n",
              "      <td>1.423718</td>\n",
              "      <td>-0.552443</td>\n",
              "      <td>-1.107502</td>\n",
              "      <td>-2.054911</td>\n",
              "    </tr>\n",
              "    <tr>\n",
              "      <th>1</th>\n",
              "      <td>2.216472</td>\n",
              "      <td>1.311287</td>\n",
              "      <td>0.305314</td>\n",
              "      <td>-0.683276</td>\n",
              "      <td>0.655236</td>\n",
              "    </tr>\n",
              "    <tr>\n",
              "      <th>2</th>\n",
              "      <td>-1.023534</td>\n",
              "      <td>-1.443277</td>\n",
              "      <td>-0.909842</td>\n",
              "      <td>0.356475</td>\n",
              "      <td>-0.259482</td>\n",
              "    </tr>\n",
              "    <tr>\n",
              "      <th>3</th>\n",
              "      <td>0.885797</td>\n",
              "      <td>-1.049768</td>\n",
              "      <td>-1.353017</td>\n",
              "      <td>-0.777374</td>\n",
              "      <td>0.057590</td>\n",
              "    </tr>\n",
              "    <tr>\n",
              "      <th>4</th>\n",
              "      <td>0.593589</td>\n",
              "      <td>-1.049768</td>\n",
              "      <td>1.120184</td>\n",
              "      <td>-1.125266</td>\n",
              "      <td>-2.091400</td>\n",
              "    </tr>\n",
              "  </tbody>\n",
              "</table>\n",
              "</div>"
            ],
            "text/plain": [
              "   AccountBalance  CustomerAge  TransactionDuration  AmountBalanceRatio_yj  \\\n",
              "0       -0.000537     1.423718            -0.552443              -1.107502   \n",
              "1        2.216472     1.311287             0.305314              -0.683276   \n",
              "2       -1.023534    -1.443277            -0.909842               0.356475   \n",
              "3        0.885797    -1.049768            -1.353017              -0.777374   \n",
              "4        0.593589    -1.049768             1.120184              -1.125266   \n",
              "\n",
              "   TransactionAmount_log_scaled  \n",
              "0                     -2.054911  \n",
              "1                      0.655236  \n",
              "2                     -0.259482  \n",
              "3                      0.057590  \n",
              "4                     -2.091400  "
            ]
          },
          "execution_count": 48,
          "metadata": {},
          "output_type": "execute_result"
        }
      ],
      "source": [
        "df_main_features_numerical_clean_scaled.head()"
      ]
    },
    {
      "cell_type": "code",
      "execution_count": null,
      "metadata": {
        "id": "TGLR0NTwsMOp"
      },
      "outputs": [],
      "source": [
        "# Melakukan drop pada kolom yang memiliki keterangan id dan IP Address\n",
        "# sudah dilakukan di tahap preprocessing"
      ]
    },
    {
      "cell_type": "code",
      "execution_count": 49,
      "metadata": {
        "id": "6eycdNMQqx4c"
      },
      "outputs": [
        {
          "data": {
            "text/html": [
              "<div>\n",
              "<style scoped>\n",
              "    .dataframe tbody tr th:only-of-type {\n",
              "        vertical-align: middle;\n",
              "    }\n",
              "\n",
              "    .dataframe tbody tr th {\n",
              "        vertical-align: top;\n",
              "    }\n",
              "\n",
              "    .dataframe thead th {\n",
              "        text-align: right;\n",
              "    }\n",
              "</style>\n",
              "<table border=\"1\" class=\"dataframe\">\n",
              "  <thead>\n",
              "    <tr style=\"text-align: right;\">\n",
              "      <th></th>\n",
              "      <th>TransactionType</th>\n",
              "      <th>Channel</th>\n",
              "      <th>MerchantID</th>\n",
              "      <th>Location</th>\n",
              "      <th>CustomerOccupation</th>\n",
              "      <th>MerchantTopN</th>\n",
              "      <th>LocationTopN</th>\n",
              "    </tr>\n",
              "  </thead>\n",
              "  <tbody>\n",
              "    <tr>\n",
              "      <th>0</th>\n",
              "      <td>Debit</td>\n",
              "      <td>ATM</td>\n",
              "      <td>M015</td>\n",
              "      <td>San Diego</td>\n",
              "      <td>Doctor</td>\n",
              "      <td>OTHER</td>\n",
              "      <td>OTHER</td>\n",
              "    </tr>\n",
              "    <tr>\n",
              "      <th>1</th>\n",
              "      <td>Debit</td>\n",
              "      <td>ATM</td>\n",
              "      <td>M052</td>\n",
              "      <td>Houston</td>\n",
              "      <td>Doctor</td>\n",
              "      <td>OTHER</td>\n",
              "      <td>OTHER</td>\n",
              "    </tr>\n",
              "    <tr>\n",
              "      <th>2</th>\n",
              "      <td>Debit</td>\n",
              "      <td>Online</td>\n",
              "      <td>M009</td>\n",
              "      <td>Mesa</td>\n",
              "      <td>Student</td>\n",
              "      <td>OTHER</td>\n",
              "      <td>OTHER</td>\n",
              "    </tr>\n",
              "    <tr>\n",
              "      <th>3</th>\n",
              "      <td>Debit</td>\n",
              "      <td>Online</td>\n",
              "      <td>M002</td>\n",
              "      <td>Raleigh</td>\n",
              "      <td>Student</td>\n",
              "      <td>OTHER</td>\n",
              "      <td>OTHER</td>\n",
              "    </tr>\n",
              "    <tr>\n",
              "      <th>4</th>\n",
              "      <td>Credit</td>\n",
              "      <td>Online</td>\n",
              "      <td>M091</td>\n",
              "      <td>Atlanta</td>\n",
              "      <td>Student</td>\n",
              "      <td>OTHER</td>\n",
              "      <td>OTHER</td>\n",
              "    </tr>\n",
              "  </tbody>\n",
              "</table>\n",
              "</div>"
            ],
            "text/plain": [
              "  TransactionType Channel MerchantID   Location CustomerOccupation  \\\n",
              "0           Debit     ATM       M015  San Diego             Doctor   \n",
              "1           Debit     ATM       M052    Houston             Doctor   \n",
              "2           Debit  Online       M009       Mesa            Student   \n",
              "3           Debit  Online       M002    Raleigh            Student   \n",
              "4          Credit  Online       M091    Atlanta            Student   \n",
              "\n",
              "  MerchantTopN LocationTopN  \n",
              "0        OTHER        OTHER  \n",
              "1        OTHER        OTHER  \n",
              "2        OTHER        OTHER  \n",
              "3        OTHER        OTHER  \n",
              "4        OTHER        OTHER  "
            ]
          },
          "execution_count": 49,
          "metadata": {},
          "output_type": "execute_result"
        }
      ],
      "source": [
        "# Melakukan feature encoding menggunakan LabelEncoder() untuk fitur kategorikal.\n",
        "# Pastikan kamu menggunakan function head setelah melalukan encoding.\n",
        "df_main_features_categorical.head()"
      ]
    },
    {
      "cell_type": "code",
      "execution_count": 50,
      "metadata": {},
      "outputs": [],
      "source": [
        "df_main_features_categorical = df_main_features_categorical.drop(columns=[\"Location\", \"MerchantID\"])"
      ]
    },
    {
      "cell_type": "code",
      "execution_count": 51,
      "metadata": {},
      "outputs": [
        {
          "data": {
            "text/html": [
              "<div>\n",
              "<style scoped>\n",
              "    .dataframe tbody tr th:only-of-type {\n",
              "        vertical-align: middle;\n",
              "    }\n",
              "\n",
              "    .dataframe tbody tr th {\n",
              "        vertical-align: top;\n",
              "    }\n",
              "\n",
              "    .dataframe thead th {\n",
              "        text-align: right;\n",
              "    }\n",
              "</style>\n",
              "<table border=\"1\" class=\"dataframe\">\n",
              "  <thead>\n",
              "    <tr style=\"text-align: right;\">\n",
              "      <th></th>\n",
              "      <th>TransactionType</th>\n",
              "      <th>Channel</th>\n",
              "      <th>CustomerOccupation</th>\n",
              "      <th>MerchantTopN</th>\n",
              "      <th>LocationTopN</th>\n",
              "    </tr>\n",
              "  </thead>\n",
              "  <tbody>\n",
              "    <tr>\n",
              "      <th>515</th>\n",
              "      <td>Debit</td>\n",
              "      <td>ATM</td>\n",
              "      <td>Retired</td>\n",
              "      <td>OTHER</td>\n",
              "      <td>OTHER</td>\n",
              "    </tr>\n",
              "    <tr>\n",
              "      <th>1757</th>\n",
              "      <td>Credit</td>\n",
              "      <td>Online</td>\n",
              "      <td>Student</td>\n",
              "      <td>OTHER</td>\n",
              "      <td>OTHER</td>\n",
              "    </tr>\n",
              "    <tr>\n",
              "      <th>147</th>\n",
              "      <td>Debit</td>\n",
              "      <td>Online</td>\n",
              "      <td>Doctor</td>\n",
              "      <td>OTHER</td>\n",
              "      <td>OTHER</td>\n",
              "    </tr>\n",
              "    <tr>\n",
              "      <th>1997</th>\n",
              "      <td>Credit</td>\n",
              "      <td>Branch</td>\n",
              "      <td>Retired</td>\n",
              "      <td>OTHER</td>\n",
              "      <td>OTHER</td>\n",
              "    </tr>\n",
              "    <tr>\n",
              "      <th>1164</th>\n",
              "      <td>Credit</td>\n",
              "      <td>Branch</td>\n",
              "      <td>Doctor</td>\n",
              "      <td>OTHER</td>\n",
              "      <td>OTHER</td>\n",
              "    </tr>\n",
              "  </tbody>\n",
              "</table>\n",
              "</div>"
            ],
            "text/plain": [
              "     TransactionType Channel CustomerOccupation MerchantTopN LocationTopN\n",
              "515            Debit     ATM            Retired        OTHER        OTHER\n",
              "1757          Credit  Online            Student        OTHER        OTHER\n",
              "147            Debit  Online             Doctor        OTHER        OTHER\n",
              "1997          Credit  Branch            Retired        OTHER        OTHER\n",
              "1164          Credit  Branch             Doctor        OTHER        OTHER"
            ]
          },
          "execution_count": 51,
          "metadata": {},
          "output_type": "execute_result"
        }
      ],
      "source": [
        "df_main_features_categorical.sample(5)"
      ]
    },
    {
      "cell_type": "code",
      "execution_count": 52,
      "metadata": {},
      "outputs": [
        {
          "data": {
            "text/html": [
              "<div>\n",
              "<style scoped>\n",
              "    .dataframe tbody tr th:only-of-type {\n",
              "        vertical-align: middle;\n",
              "    }\n",
              "\n",
              "    .dataframe tbody tr th {\n",
              "        vertical-align: top;\n",
              "    }\n",
              "\n",
              "    .dataframe thead th {\n",
              "        text-align: right;\n",
              "    }\n",
              "</style>\n",
              "<table border=\"1\" class=\"dataframe\">\n",
              "  <thead>\n",
              "    <tr style=\"text-align: right;\">\n",
              "      <th></th>\n",
              "      <th>TransactionType</th>\n",
              "      <th>Channel</th>\n",
              "      <th>CustomerOccupation</th>\n",
              "      <th>MerchantTopN</th>\n",
              "      <th>LocationTopN</th>\n",
              "    </tr>\n",
              "  </thead>\n",
              "  <tbody>\n",
              "    <tr>\n",
              "      <th>0</th>\n",
              "      <td>1</td>\n",
              "      <td>0</td>\n",
              "      <td>0</td>\n",
              "      <td>5</td>\n",
              "      <td>3</td>\n",
              "    </tr>\n",
              "    <tr>\n",
              "      <th>1</th>\n",
              "      <td>1</td>\n",
              "      <td>0</td>\n",
              "      <td>0</td>\n",
              "      <td>5</td>\n",
              "      <td>3</td>\n",
              "    </tr>\n",
              "    <tr>\n",
              "      <th>2</th>\n",
              "      <td>1</td>\n",
              "      <td>2</td>\n",
              "      <td>3</td>\n",
              "      <td>5</td>\n",
              "      <td>3</td>\n",
              "    </tr>\n",
              "    <tr>\n",
              "      <th>3</th>\n",
              "      <td>1</td>\n",
              "      <td>2</td>\n",
              "      <td>3</td>\n",
              "      <td>5</td>\n",
              "      <td>3</td>\n",
              "    </tr>\n",
              "    <tr>\n",
              "      <th>4</th>\n",
              "      <td>0</td>\n",
              "      <td>2</td>\n",
              "      <td>3</td>\n",
              "      <td>5</td>\n",
              "      <td>3</td>\n",
              "    </tr>\n",
              "  </tbody>\n",
              "</table>\n",
              "</div>"
            ],
            "text/plain": [
              "   TransactionType  Channel  CustomerOccupation  MerchantTopN  LocationTopN\n",
              "0                1        0                   0             5             3\n",
              "1                1        0                   0             5             3\n",
              "2                1        2                   3             5             3\n",
              "3                1        2                   3             5             3\n",
              "4                0        2                   3             5             3"
            ]
          },
          "execution_count": 52,
          "metadata": {},
          "output_type": "execute_result"
        }
      ],
      "source": [
        "from sklearn.preprocessing import LabelEncoder\n",
        "\n",
        "le = LabelEncoder()\n",
        "\n",
        "df_main_features_categorical = df_main_features_categorical.apply(le.fit_transform)\n",
        "\n",
        "df_main_features_categorical.head()"
      ]
    },
    {
      "cell_type": "code",
      "execution_count": 53,
      "metadata": {
        "id": "u1EmlGmZCCAP"
      },
      "outputs": [
        {
          "data": {
            "text/plain": [
              "['TransactionType',\n",
              " 'Channel',\n",
              " 'CustomerOccupation',\n",
              " 'MerchantTopN',\n",
              " 'LocationTopN']"
            ]
          },
          "execution_count": 53,
          "metadata": {},
          "output_type": "execute_result"
        }
      ],
      "source": [
        "# Last checking gunakan columns.tolist() untuk checking seluruh fitur yang ada.\n",
        "# Perbaiki kode di bawah ini tanpa menambahkan atau mengurangi cell code ini.\n",
        "# ____.columns.tolist()\n",
        "df_main_features_categorical.columns.tolist()"
      ]
    },
    {
      "cell_type": "markdown",
      "metadata": {
        "id": "qnbH2l_wv9l8"
      },
      "source": [
        "(Opsional) Pembersihan dan Pra Pemrosesan Data [Skilled]\n",
        "\n",
        "**Biarkan kosong jika tidak menerapkan kriteria skilled**"
      ]
    },
    {
      "cell_type": "code",
      "execution_count": null,
      "metadata": {
        "id": "-UoGhAUrsxIV"
      },
      "outputs": [],
      "source": [
        "# Menangani data yang hilang (bisa menggunakan dropna() atau metode imputasi fillna()).\n",
        "# sudah dilakukan di tahap preprocessing"
      ]
    },
    {
      "cell_type": "code",
      "execution_count": null,
      "metadata": {
        "id": "WGt2XApTttSL"
      },
      "outputs": [],
      "source": [
        "# Menghapus data duplikat menggunakan drop_duplicates().\n",
        "# sudah dilakukan di tahap preprocessing"
      ]
    },
    {
      "cell_type": "markdown",
      "metadata": {
        "id": "H5RrswThwQrC"
      },
      "source": [
        "(Opsional) Pembersihan dan Pra Pemrosesan Data [Advanced]\n",
        "\n",
        "**Biarkan kosong jika tidak menerapkan kriteria advanced**"
      ]
    },
    {
      "cell_type": "code",
      "execution_count": null,
      "metadata": {
        "id": "mvhfyYpat9Xs"
      },
      "outputs": [],
      "source": [
        "# Melakukan Handling Outlier Data berdasarkan jumlah outlier, apakah menggunakan metode drop atau mengisi nilai tersebut.\n",
        "# sudah dilakukan di tahap preprocessing"
      ]
    },
    {
      "cell_type": "code",
      "execution_count": null,
      "metadata": {
        "id": "QjcR-3G0u-GL"
      },
      "outputs": [],
      "source": [
        "# Melakukan binning data berdasarkan kondisi rentang nilai pada fitur numerik,\n",
        "# lakukan pada satu sampai dua fitur numerik.\n",
        "# Silahkan lakukan encode hasil binning tersebut menggunakan LabelEncoder.\n",
        "# Pastikan kamu mengerjakan tahapan ini pada satu cell.\n",
        "# belom dilakukan, nanti dilain waktu"
      ]
    },
    {
      "cell_type": "markdown",
      "metadata": {
        "id": "Fkd_QHXWMBDr"
      },
      "source": [
        "# **4. Membangun Model Clustering**\n",
        "Pada tahap ini, Anda membangun model clustering dengan memilih algoritma yang sesuai untuk mengelompokkan data berdasarkan kesamaan.\n",
        "1. Pastikan Anda menggunakan dataframe yang sudah melalui processing sesuai dengan levelnya (Basic, Skilled, Advanced)\n",
        "2. Melakukan visualisasi Elbow Method untuk menentukan jumlah cluster terbaik menggunakan `KElbowVisualizer()`.\n",
        "3. Menggunakan algoritma K-Means Clustering dengan `sklearn.cluster.KMeans()`.\n",
        "4. Jalankan cell code `joblib.dump(model_kmeans, \"model_clustering.h5\")` untuk menyimpan model yang sudah dibuat."
      ]
    },
    {
      "cell_type": "code",
      "execution_count": 54,
      "metadata": {},
      "outputs": [
        {
          "data": {
            "text/html": [
              "<div>\n",
              "<style scoped>\n",
              "    .dataframe tbody tr th:only-of-type {\n",
              "        vertical-align: middle;\n",
              "    }\n",
              "\n",
              "    .dataframe tbody tr th {\n",
              "        vertical-align: top;\n",
              "    }\n",
              "\n",
              "    .dataframe thead th {\n",
              "        text-align: right;\n",
              "    }\n",
              "</style>\n",
              "<table border=\"1\" class=\"dataframe\">\n",
              "  <thead>\n",
              "    <tr style=\"text-align: right;\">\n",
              "      <th></th>\n",
              "      <th>AccountBalance</th>\n",
              "      <th>CustomerAge</th>\n",
              "      <th>TransactionDuration</th>\n",
              "      <th>AmountBalanceRatio_yj</th>\n",
              "      <th>TransactionAmount_log_scaled</th>\n",
              "      <th>TransactionType</th>\n",
              "      <th>Channel</th>\n",
              "      <th>CustomerOccupation</th>\n",
              "      <th>MerchantTopN</th>\n",
              "      <th>LocationTopN</th>\n",
              "    </tr>\n",
              "  </thead>\n",
              "  <tbody>\n",
              "    <tr>\n",
              "      <th>0</th>\n",
              "      <td>-0.000537</td>\n",
              "      <td>1.423718</td>\n",
              "      <td>-0.552443</td>\n",
              "      <td>-1.107502</td>\n",
              "      <td>-2.054911</td>\n",
              "      <td>1</td>\n",
              "      <td>0</td>\n",
              "      <td>0</td>\n",
              "      <td>5</td>\n",
              "      <td>3</td>\n",
              "    </tr>\n",
              "    <tr>\n",
              "      <th>1</th>\n",
              "      <td>2.216472</td>\n",
              "      <td>1.311287</td>\n",
              "      <td>0.305314</td>\n",
              "      <td>-0.683276</td>\n",
              "      <td>0.655236</td>\n",
              "      <td>1</td>\n",
              "      <td>0</td>\n",
              "      <td>0</td>\n",
              "      <td>5</td>\n",
              "      <td>3</td>\n",
              "    </tr>\n",
              "    <tr>\n",
              "      <th>2</th>\n",
              "      <td>-1.023534</td>\n",
              "      <td>-1.443277</td>\n",
              "      <td>-0.909842</td>\n",
              "      <td>0.356475</td>\n",
              "      <td>-0.259482</td>\n",
              "      <td>1</td>\n",
              "      <td>2</td>\n",
              "      <td>3</td>\n",
              "      <td>5</td>\n",
              "      <td>3</td>\n",
              "    </tr>\n",
              "    <tr>\n",
              "      <th>3</th>\n",
              "      <td>0.885797</td>\n",
              "      <td>-1.049768</td>\n",
              "      <td>-1.353017</td>\n",
              "      <td>-0.777374</td>\n",
              "      <td>0.057590</td>\n",
              "      <td>1</td>\n",
              "      <td>2</td>\n",
              "      <td>3</td>\n",
              "      <td>5</td>\n",
              "      <td>3</td>\n",
              "    </tr>\n",
              "    <tr>\n",
              "      <th>4</th>\n",
              "      <td>0.593589</td>\n",
              "      <td>-1.049768</td>\n",
              "      <td>1.120184</td>\n",
              "      <td>-1.125266</td>\n",
              "      <td>-2.091400</td>\n",
              "      <td>0</td>\n",
              "      <td>2</td>\n",
              "      <td>3</td>\n",
              "      <td>5</td>\n",
              "      <td>3</td>\n",
              "    </tr>\n",
              "  </tbody>\n",
              "</table>\n",
              "</div>"
            ],
            "text/plain": [
              "   AccountBalance  CustomerAge  TransactionDuration  AmountBalanceRatio_yj  \\\n",
              "0       -0.000537     1.423718            -0.552443              -1.107502   \n",
              "1        2.216472     1.311287             0.305314              -0.683276   \n",
              "2       -1.023534    -1.443277            -0.909842               0.356475   \n",
              "3        0.885797    -1.049768            -1.353017              -0.777374   \n",
              "4        0.593589    -1.049768             1.120184              -1.125266   \n",
              "\n",
              "   TransactionAmount_log_scaled  TransactionType  Channel  CustomerOccupation  \\\n",
              "0                     -2.054911                1        0                   0   \n",
              "1                      0.655236                1        0                   0   \n",
              "2                     -0.259482                1        2                   3   \n",
              "3                      0.057590                1        2                   3   \n",
              "4                     -2.091400                0        2                   3   \n",
              "\n",
              "   MerchantTopN  LocationTopN  \n",
              "0             5             3  \n",
              "1             5             3  \n",
              "2             5             3  \n",
              "3             5             3  \n",
              "4             5             3  "
            ]
          },
          "execution_count": 54,
          "metadata": {},
          "output_type": "execute_result"
        }
      ],
      "source": [
        "df_final = pd.concat([df_main_features_numerical_clean_scaled, df_main_features_categorical], axis=1)\n",
        "\n",
        "df_final.head()"
      ]
    },
    {
      "cell_type": "code",
      "execution_count": 55,
      "metadata": {
        "id": "hYHmRnb42A1P"
      },
      "outputs": [
        {
          "data": {
            "text/html": [
              "<div>\n",
              "<style scoped>\n",
              "    .dataframe tbody tr th:only-of-type {\n",
              "        vertical-align: middle;\n",
              "    }\n",
              "\n",
              "    .dataframe tbody tr th {\n",
              "        vertical-align: top;\n",
              "    }\n",
              "\n",
              "    .dataframe thead th {\n",
              "        text-align: right;\n",
              "    }\n",
              "</style>\n",
              "<table border=\"1\" class=\"dataframe\">\n",
              "  <thead>\n",
              "    <tr style=\"text-align: right;\">\n",
              "      <th></th>\n",
              "      <th>AccountBalance</th>\n",
              "      <th>CustomerAge</th>\n",
              "      <th>TransactionDuration</th>\n",
              "      <th>AmountBalanceRatio_yj</th>\n",
              "      <th>TransactionAmount_log_scaled</th>\n",
              "      <th>TransactionType</th>\n",
              "      <th>Channel</th>\n",
              "      <th>CustomerOccupation</th>\n",
              "      <th>MerchantTopN</th>\n",
              "      <th>LocationTopN</th>\n",
              "    </tr>\n",
              "  </thead>\n",
              "  <tbody>\n",
              "    <tr>\n",
              "      <th>count</th>\n",
              "      <td>2.512000e+03</td>\n",
              "      <td>2.512000e+03</td>\n",
              "      <td>2.512000e+03</td>\n",
              "      <td>2.512000e+03</td>\n",
              "      <td>2.512000e+03</td>\n",
              "      <td>2512.000000</td>\n",
              "      <td>2512.000000</td>\n",
              "      <td>2512.000000</td>\n",
              "      <td>2512.000000</td>\n",
              "      <td>2512.000000</td>\n",
              "    </tr>\n",
              "    <tr>\n",
              "      <th>mean</th>\n",
              "      <td>4.985396e-17</td>\n",
              "      <td>9.900078e-18</td>\n",
              "      <td>7.637203e-17</td>\n",
              "      <td>2.121445e-17</td>\n",
              "      <td>-1.697156e-17</td>\n",
              "      <td>0.773885</td>\n",
              "      <td>0.991242</td>\n",
              "      <td>1.510350</td>\n",
              "      <td>4.788217</td>\n",
              "      <td>2.916003</td>\n",
              "    </tr>\n",
              "    <tr>\n",
              "      <th>std</th>\n",
              "      <td>1.000199e+00</td>\n",
              "      <td>1.000199e+00</td>\n",
              "      <td>1.000199e+00</td>\n",
              "      <td>1.000199e+00</td>\n",
              "      <td>1.000199e+00</td>\n",
              "      <td>0.418398</td>\n",
              "      <td>0.809100</td>\n",
              "      <td>1.129548</td>\n",
              "      <td>0.849328</td>\n",
              "      <td>0.713771</td>\n",
              "    </tr>\n",
              "    <tr>\n",
              "      <th>min</th>\n",
              "      <td>-1.285344e+00</td>\n",
              "      <td>-1.499493e+00</td>\n",
              "      <td>-1.567456e+00</td>\n",
              "      <td>-1.158736e+00</td>\n",
              "      <td>-2.656685e+00</td>\n",
              "      <td>0.000000</td>\n",
              "      <td>0.000000</td>\n",
              "      <td>0.000000</td>\n",
              "      <td>0.000000</td>\n",
              "      <td>0.000000</td>\n",
              "    </tr>\n",
              "    <tr>\n",
              "      <th>25%</th>\n",
              "      <td>-9.255845e-01</td>\n",
              "      <td>-9.935526e-01</td>\n",
              "      <td>-8.097706e-01</td>\n",
              "      <td>-8.336050e-01</td>\n",
              "      <td>-6.206983e-01</td>\n",
              "      <td>1.000000</td>\n",
              "      <td>0.000000</td>\n",
              "      <td>0.000000</td>\n",
              "      <td>5.000000</td>\n",
              "      <td>3.000000</td>\n",
              "    </tr>\n",
              "    <tr>\n",
              "      <th>50%</th>\n",
              "      <td>-9.712227e-02</td>\n",
              "      <td>1.832826e-02</td>\n",
              "      <td>-1.021205e-01</td>\n",
              "      <td>-3.230633e-01</td>\n",
              "      <td>1.705736e-01</td>\n",
              "      <td>1.000000</td>\n",
              "      <td>1.000000</td>\n",
              "      <td>1.500000</td>\n",
              "      <td>5.000000</td>\n",
              "      <td>3.000000</td>\n",
              "    </tr>\n",
              "    <tr>\n",
              "      <th>75%</th>\n",
              "      <td>6.575405e-01</td>\n",
              "      <td>8.053467e-01</td>\n",
              "      <td>5.912336e-01</td>\n",
              "      <td>6.779460e-01</td>\n",
              "      <td>7.366264e-01</td>\n",
              "      <td>1.000000</td>\n",
              "      <td>2.000000</td>\n",
              "      <td>3.000000</td>\n",
              "      <td>5.000000</td>\n",
              "      <td>3.000000</td>\n",
              "    </tr>\n",
              "    <tr>\n",
              "      <th>max</th>\n",
              "      <td>2.529043e+00</td>\n",
              "      <td>1.985874e+00</td>\n",
              "      <td>2.578372e+00</td>\n",
              "      <td>2.122481e+00</td>\n",
              "      <td>2.025324e+00</td>\n",
              "      <td>1.000000</td>\n",
              "      <td>2.000000</td>\n",
              "      <td>3.000000</td>\n",
              "      <td>5.000000</td>\n",
              "      <td>5.000000</td>\n",
              "    </tr>\n",
              "  </tbody>\n",
              "</table>\n",
              "</div>"
            ],
            "text/plain": [
              "       AccountBalance   CustomerAge  TransactionDuration  \\\n",
              "count    2.512000e+03  2.512000e+03         2.512000e+03   \n",
              "mean     4.985396e-17  9.900078e-18         7.637203e-17   \n",
              "std      1.000199e+00  1.000199e+00         1.000199e+00   \n",
              "min     -1.285344e+00 -1.499493e+00        -1.567456e+00   \n",
              "25%     -9.255845e-01 -9.935526e-01        -8.097706e-01   \n",
              "50%     -9.712227e-02  1.832826e-02        -1.021205e-01   \n",
              "75%      6.575405e-01  8.053467e-01         5.912336e-01   \n",
              "max      2.529043e+00  1.985874e+00         2.578372e+00   \n",
              "\n",
              "       AmountBalanceRatio_yj  TransactionAmount_log_scaled  TransactionType  \\\n",
              "count           2.512000e+03                  2.512000e+03      2512.000000   \n",
              "mean            2.121445e-17                 -1.697156e-17         0.773885   \n",
              "std             1.000199e+00                  1.000199e+00         0.418398   \n",
              "min            -1.158736e+00                 -2.656685e+00         0.000000   \n",
              "25%            -8.336050e-01                 -6.206983e-01         1.000000   \n",
              "50%            -3.230633e-01                  1.705736e-01         1.000000   \n",
              "75%             6.779460e-01                  7.366264e-01         1.000000   \n",
              "max             2.122481e+00                  2.025324e+00         1.000000   \n",
              "\n",
              "           Channel  CustomerOccupation  MerchantTopN  LocationTopN  \n",
              "count  2512.000000         2512.000000   2512.000000   2512.000000  \n",
              "mean      0.991242            1.510350      4.788217      2.916003  \n",
              "std       0.809100            1.129548      0.849328      0.713771  \n",
              "min       0.000000            0.000000      0.000000      0.000000  \n",
              "25%       0.000000            0.000000      5.000000      3.000000  \n",
              "50%       1.000000            1.500000      5.000000      3.000000  \n",
              "75%       2.000000            3.000000      5.000000      3.000000  \n",
              "max       2.000000            3.000000      5.000000      5.000000  "
            ]
          },
          "execution_count": 55,
          "metadata": {},
          "output_type": "execute_result"
        }
      ],
      "source": [
        "# Gunakan describe untuk memastikan proses clustering menggunakan dataset hasil preprocessing\n",
        "# Lengkapi kode ini dengan mengubah nama DataFrame yang akan dilatih.\n",
        "# Kode harus digunakan dan dilarang menambahkan syntax lainnya pada cell ini.\n",
        "# ___.describe()\n",
        "df_final.describe()"
      ]
    },
    {
      "cell_type": "code",
      "execution_count": 57,
      "metadata": {},
      "outputs": [
        {
          "data": {
            "image/png": "[encoded data removed]",
            "text/plain": [
              "<Figure size 640x480 with 1 Axes>"
            ]
          },
          "metadata": {},
          "output_type": "display_data"
        }
      ],
      "source": [
        "import gower\n",
        "import numpy as np\n",
        "from sklearn.metrics import silhouette_score\n",
        "from sklearn_extra.cluster import KMedoids\n",
        "\n",
        "gower_dist = gower.gower_matrix(df_final)\n",
        "\n",
        "silhouette_scores = []\n",
        "K = range(2, 11)\n",
        "\n",
        "for k in K:\n",
        "    # 2. PAM/KMedoids dengan precomputed distance\n",
        "    pam = KMedoids(n_clusters=k, metric=\"precomputed\", random_state=42)\n",
        "    labels = pam.fit_predict(gower_dist)\n",
        "\n",
        "    # 3. Silhouette pakai distance matrix\n",
        "    score = silhouette_score(gower_dist, labels, metric=\"precomputed\")\n",
        "    silhouette_scores.append(score)\n",
        "\n",
        "# 4. Plot hasil silhouette score\n",
        "import matplotlib.pyplot as plt\n",
        "\n",
        "plt.plot(K, silhouette_scores, marker='o')\n",
        "plt.xlabel(\"Jumlah Cluster (k)\")\n",
        "plt.ylabel(\"Silhouette Score\")\n",
        "plt.title(\"Evaluasi PAM + Gower\")\n",
        "plt.show()"
      ]
    },
    {
      "cell_type": "code",
      "execution_count": 61,
      "metadata": {},
      "outputs": [],
      "source": [
        "import gower\n",
        "from sklearn_extra.cluster import KMedoids\n",
        "\n",
        "# ==== 1. Hitung jarak Gower ====\n",
        "gower_dist = gower.gower_matrix(df_final)   # df_final = dataframe aslinya\n",
        "\n",
        "# ==== 2. PAM dengan precomputed distance ====\n",
        "k = 3\n",
        "pam = KMedoids(n_clusters=k, metric=\"precomputed\", random_state=42)\n",
        "labels = pam.fit_predict(gower_dist)\n",
        "\n",
        "df_final[\"Cluster\"] = labels   # simpan label cluster ke dataframe"
      ]
    },
    {
      "cell_type": "markdown",
      "metadata": {
        "id": "anlTI9Trb7F6"
      },
      "source": [
        "# **5. Interpretasi Cluster**"
      ]
    },
    {
      "cell_type": "markdown",
      "metadata": {
        "id": "JfgVMEBDS3KG"
      },
      "source": [
        "## **a. Interpretasi Hasil Clustering**\n",
        "1. **Contoh Interpretasi:**\n",
        "- **Cluster 1: (Nasabah Bertransaksi dan Pendapatan Besar)**:\n",
        "  - **Rata-rata (mean) Annual Income:** 0.953 (48,260)\n",
        "  - **Rata-rata (mean) Spending Score:** 0.8 (56.48)\n",
        "  - **Analisis:** Cluster ini mencakup pelanggan dengan pendapatan tahunan tinggi dan tingkat pengeluaran yang cukup tinggi. Pelanggan dalam cluster ini cenderung memiliki daya beli yang tinggi dan mereka lebih cenderung untuk membelanjakan sebagian besar pendapatan mereka. Sehingga rekomendasi pada kelompok nasabah ini adalah dengan menawarkan produk-produk investasi atau perbankan yang berkualitas tinggi.\n"
      ]
    },
    {
      "cell_type": "code",
      "execution_count": 62,
      "metadata": {
        "id": "Qmpy4fmV64Mi"
      },
      "outputs": [],
      "source": [
        "# Menampilkan analisis deskriptif minimal mean, min dan max untuk fitur numerik.\n",
        "# Silakan menambahkan fungsi agregasi lainnya untuk experience lebih baik.\n",
        "# pastikan output menghasilkan agregasi dan groupby bersamaan dengan mean, min, dan max.\n",
        "def cluster_summary_full_scaled(df, labels, cat_cols=None, num_cols=None):\n",
        "    X = df.copy()\n",
        "    X[\"Cluster\"] = labels\n",
        "\n",
        "    for cluster_id in sorted(X[\"Cluster\"].unique()):\n",
        "        cluster_data = X[X[\"Cluster\"] == cluster_id]\n",
        "        print(\"=\"*60)\n",
        "        print(f\"Cluster {cluster_id+1} (jumlah: {len(cluster_data)})\")\n",
        "        print(\"=\"*60)\n",
        "        \n",
        "        # Numerik (scaled)\n",
        "        if num_cols:\n",
        "            print(\"\\n📊 Ringkasan fitur numerik (scaled):\")\n",
        "            print(cluster_data[num_cols].describe().T[['mean','std','min','max']].round(2))\n",
        "        \n",
        "        # Kategorikal\n",
        "        if cat_cols:\n",
        "            print(\"\\n📂 Distribusi fitur kategorikal:\")\n",
        "            for col in cat_cols:\n",
        "                dist = cluster_data[col].value_counts(normalize=True) * 100\n",
        "                print(f\"\\n{col}:\")\n",
        "                print(dist.round(2).astype(str) + \" %\")\n"
      ]
    },
    {
      "cell_type": "code",
      "execution_count": 66,
      "metadata": {},
      "outputs": [
        {
          "name": "stdout",
          "output_type": "stream",
          "text": [
            "============================================================\n",
            "Cluster 1 (jumlah: 803)\n",
            "============================================================\n",
            "\n",
            "📊 Ringkasan fitur numerik (scaled):\n",
            "                              mean   std   min   max\n",
            "TransactionAmount_log_scaled  0.18  0.94 -2.66  1.99\n",
            "AccountBalance                0.21  0.83 -1.28  2.53\n",
            "CustomerAge                   0.19  0.77 -1.05  1.99\n",
            "TransactionDuration          -0.46  0.84 -1.57  2.58\n",
            "\n",
            "📂 Distribusi fitur kategorikal:\n",
            "\n",
            "TransactionType:\n",
            "TransactionType\n",
            "1    77.58 %\n",
            "0    22.42 %\n",
            "Name: proportion, dtype: object\n",
            "\n",
            "Channel:\n",
            "Channel\n",
            "1    35.24 %\n",
            "2    34.12 %\n",
            "0    30.64 %\n",
            "Name: proportion, dtype: object\n",
            "\n",
            "CustomerOccupation:\n",
            "CustomerOccupation\n",
            "1    43.46 %\n",
            "0    32.13 %\n",
            "2    24.28 %\n",
            "3     0.12 %\n",
            "Name: proportion, dtype: object\n",
            "\n",
            "MerchantTopN:\n",
            "MerchantTopN\n",
            "5    92.65 %\n",
            "4     1.74 %\n",
            "0     1.62 %\n",
            "2     1.49 %\n",
            "1     1.37 %\n",
            "3     1.12 %\n",
            "Name: proportion, dtype: object\n",
            "\n",
            "LocationTopN:\n",
            "LocationTopN\n",
            "3    85.55 %\n",
            "1     3.24 %\n",
            "0     2.99 %\n",
            "4     2.86 %\n",
            "5     2.86 %\n",
            "2     2.49 %\n",
            "Name: proportion, dtype: object\n",
            "============================================================\n",
            "Cluster 2 (jumlah: 851)\n",
            "============================================================\n",
            "\n",
            "📊 Ringkasan fitur numerik (scaled):\n",
            "                              mean   std   min   max\n",
            "TransactionAmount_log_scaled -0.41  0.99 -2.66  2.03\n",
            "AccountBalance                0.68  0.91 -1.28  2.52\n",
            "CustomerAge                   0.60  0.76 -1.05  1.99\n",
            "TransactionDuration           0.51  0.92 -1.55  2.58\n",
            "\n",
            "📂 Distribusi fitur kategorikal:\n",
            "\n",
            "TransactionType:\n",
            "TransactionType\n",
            "1    76.97 %\n",
            "0    23.03 %\n",
            "Name: proportion, dtype: object\n",
            "\n",
            "Channel:\n",
            "Channel\n",
            "1    35.02 %\n",
            "0    33.73 %\n",
            "2    31.26 %\n",
            "Name: proportion, dtype: object\n",
            "\n",
            "CustomerOccupation:\n",
            "CustomerOccupation\n",
            "0    42.77 %\n",
            "2    30.79 %\n",
            "1    26.44 %\n",
            "Name: proportion, dtype: object\n",
            "\n",
            "MerchantTopN:\n",
            "MerchantTopN\n",
            "5    92.01 %\n",
            "3     2.23 %\n",
            "2     2.23 %\n",
            "4     1.41 %\n",
            "1     1.18 %\n",
            "0     0.94 %\n",
            "Name: proportion, dtype: object\n",
            "\n",
            "LocationTopN:\n",
            "LocationTopN\n",
            "3    87.78 %\n",
            "5      2.7 %\n",
            "1     2.59 %\n",
            "2     2.47 %\n",
            "0     2.23 %\n",
            "4     2.23 %\n",
            "Name: proportion, dtype: object\n",
            "============================================================\n",
            "Cluster 3 (jumlah: 858)\n",
            "============================================================\n",
            "\n",
            "📊 Ringkasan fitur numerik (scaled):\n",
            "                              mean   std   min   max\n",
            "TransactionAmount_log_scaled  0.24  0.94 -2.66  1.95\n",
            "AccountBalance               -0.87  0.46 -1.29  1.24\n",
            "CustomerAge                  -0.78  0.90 -1.50  1.99\n",
            "TransactionDuration          -0.07  0.98 -1.57  2.56\n",
            "\n",
            "📂 Distribusi fitur kategorikal:\n",
            "\n",
            "TransactionType:\n",
            "TransactionType\n",
            "1    77.62 %\n",
            "0    22.38 %\n",
            "Name: proportion, dtype: object\n",
            "\n",
            "Channel:\n",
            "Channel\n",
            "0    34.97 %\n",
            "1    33.45 %\n",
            "2    31.59 %\n",
            "Name: proportion, dtype: object\n",
            "\n",
            "CustomerOccupation:\n",
            "CustomerOccupation\n",
            "3    76.46 %\n",
            "2    16.55 %\n",
            "1     5.94 %\n",
            "0     1.05 %\n",
            "Name: proportion, dtype: object\n",
            "\n",
            "MerchantTopN:\n",
            "MerchantTopN\n",
            "5    94.06 %\n",
            "2     1.63 %\n",
            "0      1.4 %\n",
            "1      1.4 %\n",
            "4     0.93 %\n",
            "3     0.58 %\n",
            "Name: proportion, dtype: object\n",
            "\n",
            "LocationTopN:\n",
            "LocationTopN\n",
            "3    85.78 %\n",
            "2     3.26 %\n",
            "4     3.03 %\n",
            "0     2.91 %\n",
            "1     2.56 %\n",
            "5     2.45 %\n",
            "Name: proportion, dtype: object\n"
          ]
        }
      ],
      "source": [
        "cluster_summary_full_scaled(\n",
        "    df=df_final, \n",
        "    labels=labels,   # atau scaler chaining terakhir\n",
        "    cat_cols=['TransactionType', 'Channel', 'CustomerOccupation', 'MerchantTopN', 'LocationTopN'],\n",
        "    num_cols=['TransactionAmount_log_scaled', 'AccountBalance', 'CustomerAge', 'TransactionDuration']\n",
        ")\n"
      ]
    },
    {
      "cell_type": "markdown",
      "metadata": {
        "id": "KrjMI_dG6tnb"
      },
      "source": [
        "## Menjelaskan karakteristik tiap cluster berdasarkan rentangnya.\n",
        "\n",
        "---\n",
        "\n",
        "## 📊 Interpretasi Cluster\n",
        "\n",
        "### 🔹 **Cluster 1 (803 nasabah, \\~28%)**\n",
        "\n",
        "* **Numerik (scaled)**\n",
        "\n",
        "  * TransactionAmount\\_log\\_scaled = **0.18** → transaksi relatif **normal/menengah**.\n",
        "  * AccountBalance = **0.21** → saldo sedikit **di atas rata-rata**.\n",
        "  * CustomerAge = **0.19** → umur relatif **dewasa muda**.\n",
        "  * TransactionDuration = **-0.46** → transaksi cenderung **cepat**.\n",
        "\n",
        "* **Kategorikal**\n",
        "\n",
        "  * TransactionType = **77% tipe 1** → mayoritas tipe transaksi tertentu (misalnya debit/kredit dominan).\n",
        "  * Channel → **merata** (1: 35%, 2: 34%, 0: 31%) → mereka **pakai semua channel hampir sama rata**.\n",
        "  * CustomerOccupation = banyak di **pekerjaan 1 (43%)** dan **0 (32%)**, ada variasi.\n",
        "  * MerchantTopN = **92% top merchant (kategori 5)** → sangat loyal ke merchant besar/top.\n",
        "  * LocationTopN = **86% lokasi 3** → terkonsentrasi di satu lokasi.\n",
        "\n",
        "👉 **Interpretasi**: Nasabah cluster ini **middle spender**, saldo **cukup stabil**, transaksi cepat, dan **loyal ke satu merchant & satu lokasi**. Channel transaksi bervariasi. Bisa dianggap **nasabah rutin & loyalis merchant**.\n",
        "\n",
        "---\n",
        "\n",
        "### 🔹 **Cluster 2 (851 nasabah, \\~29%)**\n",
        "\n",
        "* **Numerik (scaled)**\n",
        "\n",
        "  * TransactionAmount\\_log\\_scaled = **-0.41** → transaksi **lebih kecil dari rata-rata**.\n",
        "  * AccountBalance = **0.68** → saldo **cukup tinggi**.\n",
        "  * CustomerAge = **0.60** → relatif **lebih tua** dibanding cluster lain.\n",
        "  * TransactionDuration = **0.51** → transaksi cenderung **lebih lama**.\n",
        "\n",
        "* **Kategorikal**\n",
        "\n",
        "  * TransactionType = **77% tipe 1** → sama dengan cluster 1.\n",
        "  * Channel → **merata (35%, 34%, 31%)** → tidak ada dominasi channel.\n",
        "  * CustomerOccupation = **42% pekerjaan 0**, **30% pekerjaan 2**, cukup beragam.\n",
        "  * MerchantTopN = **92% top merchant (5)** → loyal ke merchant besar.\n",
        "  * LocationTopN = **88% lokasi 3** → terkonsentrasi kuat di lokasi sama.\n",
        "\n",
        "👉 **Interpretasi**: Nasabah ini **saldo besar**, transaksi nominal **relatif kecil tapi sering**, lebih **dewasa/tua**, transaksi **lebih lama**. Mereka **loyal ke merchant & lokasi tertentu**. Bisa dianggap **nasabah mapan, konservatif, dan konsisten**.\n",
        "\n",
        "---\n",
        "\n",
        "### 🔹 **Cluster 3 (858 nasabah, \\~29%)**\n",
        "\n",
        "* **Numerik (scaled)**\n",
        "\n",
        "  * TransactionAmount\\_log\\_scaled = **0.24** → transaksi **lebih tinggi** dari cluster 1 & 2.\n",
        "  * AccountBalance = **-0.87** → saldo relatif **rendah**.\n",
        "  * CustomerAge = **-0.78** → relatif **lebih muda**.\n",
        "  * TransactionDuration = **-0.07** → durasi transaksi **normal/cenderung cepat**.\n",
        "\n",
        "* **Kategorikal**\n",
        "\n",
        "  * TransactionType = **79% tipe 1** → mirip cluster lain.\n",
        "  * Channel = cukup merata tapi sedikit lebih tinggi di **channel 0 (35%)**.\n",
        "  * CustomerOccupation = **76% pekerjaan 3** → jelas **dominan satu jenis pekerjaan**.\n",
        "  * MerchantTopN = **94% top merchant (5)** → sangat loyal.\n",
        "  * LocationTopN = **86% lokasi 3**, lalu tersebar sedikit ke lokasi lain.\n",
        "\n",
        "👉 **Interpretasi**: Nasabah ini **muda**, saldo **rendah**, tapi transaksi **cukup besar** (spender). Pekerjaan mayoritas **occupation 3**, sangat loyal ke merchant & lokasi. Bisa dianggap **nasabah muda high spender** tapi **low balance**.\n",
        "\n",
        "---\n",
        "\n",
        "## 📌 Kesimpulan Segmentasi\n",
        "\n",
        "1. **Cluster 1 – Middle spender loyalis**: transaksi normal, saldo cukup, loyal ke merchant & lokasi, pakai semua channel.\n",
        "2. **Cluster 2 – Nasabah mapan konservatif**: saldo besar, transaksi kecil, lebih tua, lambat, tetap loyal ke merchant/lokasi.\n",
        "3. **Cluster 3 – Muda high spender, low balance**: transaksi lebih tinggi, saldo rendah, mayoritas occupation 3, loyal ke merchant/lokasi.\n",
        "\n",
        "---\n",
        "\n"
      ]
    },
    {
      "cell_type": "markdown",
      "metadata": {
        "id": "jaYP1fx5VgWO"
      },
      "source": [
        "# **6. Mengeksport Data**\n",
        "\n",
        "1. Simpan nama kolom hasil clustering dengan nama `Target`.\n",
        "2. Simpan hasilnya ke dalam file CSV menggunakan function `to_csv()`."
      ]
    },
    {
      "cell_type": "code",
      "execution_count": 68,
      "metadata": {
        "id": "3FInN10U5S4f"
      },
      "outputs": [
        {
          "data": {
            "text/html": [
              "<div>\n",
              "<style scoped>\n",
              "    .dataframe tbody tr th:only-of-type {\n",
              "        vertical-align: middle;\n",
              "    }\n",
              "\n",
              "    .dataframe tbody tr th {\n",
              "        vertical-align: top;\n",
              "    }\n",
              "\n",
              "    .dataframe thead th {\n",
              "        text-align: right;\n",
              "    }\n",
              "</style>\n",
              "<table border=\"1\" class=\"dataframe\">\n",
              "  <thead>\n",
              "    <tr style=\"text-align: right;\">\n",
              "      <th></th>\n",
              "      <th>AccountBalance</th>\n",
              "      <th>CustomerAge</th>\n",
              "      <th>TransactionDuration</th>\n",
              "      <th>AmountBalanceRatio_yj</th>\n",
              "      <th>TransactionAmount_log_scaled</th>\n",
              "      <th>TransactionType</th>\n",
              "      <th>Channel</th>\n",
              "      <th>CustomerOccupation</th>\n",
              "      <th>MerchantTopN</th>\n",
              "      <th>LocationTopN</th>\n",
              "      <th>Cluster</th>\n",
              "    </tr>\n",
              "  </thead>\n",
              "  <tbody>\n",
              "    <tr>\n",
              "      <th>0</th>\n",
              "      <td>-0.000537</td>\n",
              "      <td>1.423718</td>\n",
              "      <td>-0.552443</td>\n",
              "      <td>-1.107502</td>\n",
              "      <td>-2.054911</td>\n",
              "      <td>1</td>\n",
              "      <td>0</td>\n",
              "      <td>0</td>\n",
              "      <td>5</td>\n",
              "      <td>3</td>\n",
              "      <td>1</td>\n",
              "    </tr>\n",
              "    <tr>\n",
              "      <th>1</th>\n",
              "      <td>2.216472</td>\n",
              "      <td>1.311287</td>\n",
              "      <td>0.305314</td>\n",
              "      <td>-0.683276</td>\n",
              "      <td>0.655236</td>\n",
              "      <td>1</td>\n",
              "      <td>0</td>\n",
              "      <td>0</td>\n",
              "      <td>5</td>\n",
              "      <td>3</td>\n",
              "      <td>1</td>\n",
              "    </tr>\n",
              "    <tr>\n",
              "      <th>2</th>\n",
              "      <td>-1.023534</td>\n",
              "      <td>-1.443277</td>\n",
              "      <td>-0.909842</td>\n",
              "      <td>0.356475</td>\n",
              "      <td>-0.259482</td>\n",
              "      <td>1</td>\n",
              "      <td>2</td>\n",
              "      <td>3</td>\n",
              "      <td>5</td>\n",
              "      <td>3</td>\n",
              "      <td>2</td>\n",
              "    </tr>\n",
              "    <tr>\n",
              "      <th>3</th>\n",
              "      <td>0.885797</td>\n",
              "      <td>-1.049768</td>\n",
              "      <td>-1.353017</td>\n",
              "      <td>-0.777374</td>\n",
              "      <td>0.057590</td>\n",
              "      <td>1</td>\n",
              "      <td>2</td>\n",
              "      <td>3</td>\n",
              "      <td>5</td>\n",
              "      <td>3</td>\n",
              "      <td>2</td>\n",
              "    </tr>\n",
              "    <tr>\n",
              "      <th>4</th>\n",
              "      <td>0.593589</td>\n",
              "      <td>-1.049768</td>\n",
              "      <td>1.120184</td>\n",
              "      <td>-1.125266</td>\n",
              "      <td>-2.091400</td>\n",
              "      <td>0</td>\n",
              "      <td>2</td>\n",
              "      <td>3</td>\n",
              "      <td>5</td>\n",
              "      <td>3</td>\n",
              "      <td>2</td>\n",
              "    </tr>\n",
              "  </tbody>\n",
              "</table>\n",
              "</div>"
            ],
            "text/plain": [
              "   AccountBalance  CustomerAge  TransactionDuration  AmountBalanceRatio_yj  \\\n",
              "0       -0.000537     1.423718            -0.552443              -1.107502   \n",
              "1        2.216472     1.311287             0.305314              -0.683276   \n",
              "2       -1.023534    -1.443277            -0.909842               0.356475   \n",
              "3        0.885797    -1.049768            -1.353017              -0.777374   \n",
              "4        0.593589    -1.049768             1.120184              -1.125266   \n",
              "\n",
              "   TransactionAmount_log_scaled  TransactionType  Channel  CustomerOccupation  \\\n",
              "0                     -2.054911                1        0                   0   \n",
              "1                      0.655236                1        0                   0   \n",
              "2                     -0.259482                1        2                   3   \n",
              "3                      0.057590                1        2                   3   \n",
              "4                     -2.091400                0        2                   3   \n",
              "\n",
              "   MerchantTopN  LocationTopN  Cluster  \n",
              "0             5             3        1  \n",
              "1             5             3        1  \n",
              "2             5             3        2  \n",
              "3             5             3        2  \n",
              "4             5             3        2  "
            ]
          },
          "execution_count": 68,
          "metadata": {},
          "output_type": "execute_result"
        }
      ],
      "source": [
        "# Pastikan nama kolom clustering sudah diubah menjadi Target\n",
        "df_final.head()"
      ]
    },
    {
      "cell_type": "code",
      "execution_count": 70,
      "metadata": {
        "id": "fkbg_o80aRSH"
      },
      "outputs": [
        {
          "name": "stdout",
          "output_type": "stream",
          "text": [
            "✅ Hanya kolom Cluster disimpan ke ../data/09_hasil_clustering/cluster_target.csv\n"
          ]
        }
      ],
      "source": [
        "# Simpan Data\n",
        "# ___.to_csv('data_clustering.csv', index=False)\n",
        "# Tambahin kolom target dulu\n",
        "# Tentukan path tujuan\n",
        "import os\n",
        "\n",
        "save_path = \"../data/09_hasil_clustering/cluster_target.csv\"\n",
        "\n",
        "# Pastikan foldernya ada\n",
        "os.makedirs(os.path.dirname(save_path), exist_ok=True)\n",
        "\n",
        "# Simpan hanya kolom target\n",
        "df_final[[\"Cluster\"]].to_csv(save_path, index=False)\n",
        "\n",
        "print(f\"✅ Hanya kolom Cluster disimpan ke {save_path}\")"
      ]
    },
    {
      "cell_type": "code",
      "execution_count": 72,
      "metadata": {},
      "outputs": [
        {
          "data": {
            "text/plain": [
              "(2512, 16)"
            ]
          },
          "execution_count": 72,
          "metadata": {},
          "output_type": "execute_result"
        }
      ],
      "source": [
        "df_dependent = pd.read_csv(\"../data/01_raw/bank_transactions_data_2.csv\")\n",
        "df_dependent.shape"
      ]
    },
    {
      "cell_type": "code",
      "execution_count": 73,
      "metadata": {},
      "outputs": [
        {
          "data": {
            "text/plain": [
              "(2512, 1)"
            ]
          },
          "execution_count": 73,
          "metadata": {},
          "output_type": "execute_result"
        }
      ],
      "source": [
        "df_independent = pd.read_csv(\"../data/09_hasil_clustering/cluster_target.csv\")\n",
        "df_independent.shape"
      ]
    },
    {
      "cell_type": "markdown",
      "metadata": {
        "id": "rz1vFc2yzFPD"
      },
      "source": [
        "(Opsional) Interpretasi Hasil Clustering [Skilled]\n",
        "\n",
        "**Biarkan kosong jika tidak menerapkan kriteria skilled**"
      ]
    },
    {
      "cell_type": "code",
      "execution_count": null,
      "metadata": {
        "id": "OMcRV15y_hH3"
      },
      "outputs": [],
      "source": [
        "# inverse dataset ke rentang normal untuk numerikal\n",
        "# df[numerical_cols] = <nama_scaler>.inverse_transform(df[numerical_cols])\n",
        "# tampilkan dataset yang sudah di-inverse\n",
        "# ___.head()"
      ]
    },
    {
      "cell_type": "code",
      "execution_count": null,
      "metadata": {
        "id": "wzIddcB6XjrC"
      },
      "outputs": [],
      "source": [
        "# inverse dataset yang sudah diencode ke kategori aslinya.\n",
        "# Lengkapi kode berikut jika ingin menerapkan kriteria ini (silakan hapus simbol pagar pada kode yang akan digunakan.)\n",
        "# for ___ in categorical_cols:\n",
        "#     ___ = encoders[col]\n",
        "#     df[col] = ___.inverse_transform(df_inverse[col].astype(int))\n",
        "# tampilkan dataset yang sudah di-inverse\n",
        "# ___.head()"
      ]
    },
    {
      "cell_type": "code",
      "execution_count": null,
      "metadata": {
        "id": "omCabiXBTklU"
      },
      "outputs": [],
      "source": [
        "# Lakukan analisis deskriptif minimal mean, min dan max untuk fitur numerik dan mode untuk kategorikal seperti pada basic tetapi menggunakan data yang sudah diinverse.\n",
        "# pastikan output menghasilkan agregasi dan groupby bersamaan dengan mean, min, dan max kembali setelah melakukan inverse."
      ]
    },
    {
      "cell_type": "markdown",
      "metadata": {
        "id": "WcaT8sxVzLs6"
      },
      "source": [
        "## Menjelaskan karakteristik tiap cluster berdasarkan rentangnya setelah inverse.\n",
        "1. **Cluster 1: (___)**:\n",
        "  - **Rata-rata (mean) <Fitur>:** <Sebelum inverse> <Setelah inverse>\n",
        "  - **Analisis:** Cluster ini ..."
      ]
    },
    {
      "cell_type": "markdown",
      "metadata": {
        "id": "jSd6vZslzatv"
      },
      "source": [
        "(Opsional) Interpretasi Hasil Clustering [Advanced]\n",
        "\n",
        "**Biarkan kosong jika tidak menerapkan kriteria advanced**"
      ]
    },
    {
      "cell_type": "code",
      "execution_count": null,
      "metadata": {
        "id": "4mGIyUZ2zRCP"
      },
      "outputs": [],
      "source": [
        "# Mengintegrasikan kembali data yang telah di-inverse dengan hasil cluster."
      ]
    },
    {
      "cell_type": "code",
      "execution_count": null,
      "metadata": {
        "id": "BEASz_Q__jms"
      },
      "outputs": [],
      "source": [
        "# Simpan Data\n",
        "# ___.to_csv('data_clustering_inverse.csv', index=False)"
      ]
    },
    {
      "cell_type": "markdown",
      "metadata": {
        "id": "sWOK6TDTL0eH"
      },
      "source": [
        "End of Code."
      ]
    }
  ],
  "metadata": {
    "colab": {
      "provenance": []
    },
    "kernelspec": {
      "display_name": "porto-bank-transaction-cluster",
      "language": "python",
      "name": "python3"
    },
    "language_info": {
      "codemirror_mode": {
        "name": "ipython",
        "version": 3
      },
      "file_extension": ".py",
      "mimetype": "text/x-python",
      "name": "python",
      "nbconvert_exporter": "python",
      "pygments_lexer": "ipython3",
      "version": "3.11.13"
    }
  },
  "nbformat": 4,
  "nbformat_minor": 0
}
