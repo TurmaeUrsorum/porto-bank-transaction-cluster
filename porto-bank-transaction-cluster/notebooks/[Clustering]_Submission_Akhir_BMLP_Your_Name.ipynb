{
  "cells": [
    {
      "cell_type": "markdown",
      "metadata": {
        "id": "sKi5D9qVVJvY"
      },
      "source": [
        "### Topik Case:\n",
        "\n",
        "**Clustering Nasabah Berdasarkan Pola Pengeluaran dan Preferensi Transaksi**\n",
        "\n",
        "### Tujuan:\n",
        "\n",
        "Mengelompokkan nasabah berdasarkan kebiasaan transaksi mereka untuk mendapatkan insight bisnis, misalnya:\n",
        "\n",
        "* Preferensi kanal transaksi (Online, ATM, Branch).\n",
        "* Pola pengeluaran (besar/kecil, rutin/sesekali).\n",
        "* Preferensi merchant atau lokasi transaksi.\n",
        "* Hubungan antara demografi (usia, pekerjaan) dengan pola transaksi.\n",
        "\n",
        "### Fitur Utama:\n",
        "\n",
        "1. **TransactionAmount** – rata-rata dan variasi pengeluaran.\n",
        "2. **TransactionFrequency** – jarak antar transaksi (`TransactionDate` & `PreviousTransactionDate`).\n",
        "3. **TransactionType** – proporsi debit vs kredit.\n",
        "4. **Channel** – distribusi penggunaan kanal transaksi.\n",
        "5. **MerchantID & Location** – preferensi merchant dan lokasi transaksi.\n",
        "6. **AccountBalance** – pola saldo pasca-transaksi.\n",
        "7. **CustomerAge & CustomerOccupation** – demografi yang mempengaruhi kebiasaan transaksi.\n",
        "8. **TransactionDuration** – lama transaksi, bisa menunjukkan preferensi proses cepat vs lambat.\n"
      ]
    },
    {
      "cell_type": "markdown",
      "metadata": {
        "id": "fKADPWcFKlj3"
      },
      "source": [
        "# **1. Import Library**\n",
        "Pada tahap ini, Anda perlu mengimpor beberapa pustaka (library) Python yang dibutuhkan untuk analisis data dan pembangunan model machine learning. Semua library yang dibutuhkan harus **import** di **cell** ini, jika ada library yang dijalankan di cell lain maka **submission langsung ditolak**"
      ]
    },
    {
      "cell_type": "code",
      "execution_count": 1,
      "metadata": {
        "id": "BlmvjLY9M4Yj"
      },
      "outputs": [],
      "source": [
        "#Type your code here\n",
        "import pandas as pd\n",
        "import numpy as np\n",
        "import matplotlib.pyplot as plt\n",
        "import seaborn as sns"
      ]
    },
    {
      "cell_type": "markdown",
      "metadata": {
        "id": "f3YIEnAFKrKL"
      },
      "source": [
        "# **2. Memuat Dataset**\n",
        "Pada tahap ini, Anda perlu memuat dataset ke dalam notebook lalu mengecek informasi dataset sebelum nantinya dilakukan pembersihan. Hal-hal yang perlu dilakukan pada tahapan ini yaitu:\n",
        "1. **Memahami Struktur Data**\n",
        "   - Dataset harus mengambil referensi wajib digunakan (bisa dilihat [Disini](https://drive.google.com/drive/folders/1Zs7VmPZ-jNwsRlMKH65Ea-LApSwx6lKx?usp=drive_link))\n",
        "   - Melakukan loading dataset ke dalam notebook dan menampilkan 5 baris pertama dengan function `head`.\n",
        "   - Tinjau jumlah baris kolom dan jenis data dalam dataset dengan function `info`.  \n",
        "   - Menampilkan statistik deskriptif dataset dengan menjalankan `describe`.\n",
        "   - Pastikan **setiap function tersebut** memiliki **output pada setiap cell** code. Jika tidak **submission langsung ditolak**\n",
        "   "
      ]
    },
    {
      "cell_type": "markdown",
      "metadata": {
        "id": "JgKXTwx2LMQA"
      },
      "source": [
        "Gunakan code ini untuk melakukan load data secara otomatis tanpa harus download data tersebut secara manual:\n",
        "```python\n",
        "url='https://drive.google.com/uc?id=1gnLO9qvEPqv1uBt1928AcsCmdvzqjC5m'\n",
        "df = pd.read_csv(url)\n",
        "```"
      ]
    },
    {
      "cell_type": "markdown",
      "metadata": {
        "id": "9d2RyUOuefWa"
      },
      "source": [
        "Penting: pada kriteria pertama hindari penggunaan print() dan display() karena seluruh fungsi yang digunakan sudah memiliki standar output dan menghasilkan output yang diharapkan.\n",
        "\n",
        "Kriteria 1 akan ditolak ketika:\n",
        "- print(__.head())\n",
        "- display(___.head())\n",
        "dst\n",
        "\n",
        "Kriteria 1 akan diterima ketika Anda menggunakan fungsi yang diminta tanpa menambahkan deskripsi apapun."
      ]
    },
    {
      "cell_type": "code",
      "execution_count": 2,
      "metadata": {
        "id": "-tfuxA86YztE"
      },
      "outputs": [
        {
          "data": {
            "text/html": [
              "<div>\n",
              "<style scoped>\n",
              "    .dataframe tbody tr th:only-of-type {\n",
              "        vertical-align: middle;\n",
              "    }\n",
              "\n",
              "    .dataframe tbody tr th {\n",
              "        vertical-align: top;\n",
              "    }\n",
              "\n",
              "    .dataframe thead th {\n",
              "        text-align: right;\n",
              "    }\n",
              "</style>\n",
              "<table border=\"1\" class=\"dataframe\">\n",
              "  <thead>\n",
              "    <tr style=\"text-align: right;\">\n",
              "      <th></th>\n",
              "      <th>TransactionID</th>\n",
              "      <th>AccountID</th>\n",
              "      <th>TransactionAmount</th>\n",
              "      <th>TransactionDate</th>\n",
              "      <th>TransactionType</th>\n",
              "      <th>Location</th>\n",
              "      <th>DeviceID</th>\n",
              "      <th>IP Address</th>\n",
              "      <th>MerchantID</th>\n",
              "      <th>Channel</th>\n",
              "      <th>CustomerAge</th>\n",
              "      <th>CustomerOccupation</th>\n",
              "      <th>TransactionDuration</th>\n",
              "      <th>LoginAttempts</th>\n",
              "      <th>AccountBalance</th>\n",
              "      <th>PreviousTransactionDate</th>\n",
              "    </tr>\n",
              "  </thead>\n",
              "  <tbody>\n",
              "    <tr>\n",
              "      <th>0</th>\n",
              "      <td>TX000001</td>\n",
              "      <td>AC00128</td>\n",
              "      <td>14.09</td>\n",
              "      <td>2023-04-11 16:29:14</td>\n",
              "      <td>Debit</td>\n",
              "      <td>San Diego</td>\n",
              "      <td>D000380</td>\n",
              "      <td>162.198.218.92</td>\n",
              "      <td>M015</td>\n",
              "      <td>ATM</td>\n",
              "      <td>70</td>\n",
              "      <td>Doctor</td>\n",
              "      <td>81</td>\n",
              "      <td>1</td>\n",
              "      <td>5112.21</td>\n",
              "      <td>2024-11-04 08:08:08</td>\n",
              "    </tr>\n",
              "    <tr>\n",
              "      <th>1</th>\n",
              "      <td>TX000002</td>\n",
              "      <td>AC00455</td>\n",
              "      <td>376.24</td>\n",
              "      <td>2023-06-27 16:44:19</td>\n",
              "      <td>Debit</td>\n",
              "      <td>Houston</td>\n",
              "      <td>D000051</td>\n",
              "      <td>13.149.61.4</td>\n",
              "      <td>M052</td>\n",
              "      <td>ATM</td>\n",
              "      <td>68</td>\n",
              "      <td>Doctor</td>\n",
              "      <td>141</td>\n",
              "      <td>1</td>\n",
              "      <td>13758.91</td>\n",
              "      <td>2024-11-04 08:09:35</td>\n",
              "    </tr>\n",
              "    <tr>\n",
              "      <th>2</th>\n",
              "      <td>TX000003</td>\n",
              "      <td>AC00019</td>\n",
              "      <td>126.29</td>\n",
              "      <td>2023-07-10 18:16:08</td>\n",
              "      <td>Debit</td>\n",
              "      <td>Mesa</td>\n",
              "      <td>D000235</td>\n",
              "      <td>215.97.143.157</td>\n",
              "      <td>M009</td>\n",
              "      <td>Online</td>\n",
              "      <td>19</td>\n",
              "      <td>Student</td>\n",
              "      <td>56</td>\n",
              "      <td>1</td>\n",
              "      <td>1122.35</td>\n",
              "      <td>2024-11-04 08:07:04</td>\n",
              "    </tr>\n",
              "    <tr>\n",
              "      <th>3</th>\n",
              "      <td>TX000004</td>\n",
              "      <td>AC00070</td>\n",
              "      <td>184.50</td>\n",
              "      <td>2023-05-05 16:32:11</td>\n",
              "      <td>Debit</td>\n",
              "      <td>Raleigh</td>\n",
              "      <td>D000187</td>\n",
              "      <td>200.13.225.150</td>\n",
              "      <td>M002</td>\n",
              "      <td>Online</td>\n",
              "      <td>26</td>\n",
              "      <td>Student</td>\n",
              "      <td>25</td>\n",
              "      <td>1</td>\n",
              "      <td>8569.06</td>\n",
              "      <td>2024-11-04 08:09:06</td>\n",
              "    </tr>\n",
              "    <tr>\n",
              "      <th>4</th>\n",
              "      <td>TX000005</td>\n",
              "      <td>AC00411</td>\n",
              "      <td>13.45</td>\n",
              "      <td>2023-10-16 17:51:24</td>\n",
              "      <td>Credit</td>\n",
              "      <td>Atlanta</td>\n",
              "      <td>D000308</td>\n",
              "      <td>65.164.3.100</td>\n",
              "      <td>M091</td>\n",
              "      <td>Online</td>\n",
              "      <td>26</td>\n",
              "      <td>Student</td>\n",
              "      <td>198</td>\n",
              "      <td>1</td>\n",
              "      <td>7429.40</td>\n",
              "      <td>2024-11-04 08:06:39</td>\n",
              "    </tr>\n",
              "  </tbody>\n",
              "</table>\n",
              "</div>"
            ],
            "text/plain": [
              "  TransactionID AccountID  TransactionAmount      TransactionDate  \\\n",
              "0      TX000001   AC00128              14.09  2023-04-11 16:29:14   \n",
              "1      TX000002   AC00455             376.24  2023-06-27 16:44:19   \n",
              "2      TX000003   AC00019             126.29  2023-07-10 18:16:08   \n",
              "3      TX000004   AC00070             184.50  2023-05-05 16:32:11   \n",
              "4      TX000005   AC00411              13.45  2023-10-16 17:51:24   \n",
              "\n",
              "  TransactionType   Location DeviceID      IP Address MerchantID Channel  \\\n",
              "0           Debit  San Diego  D000380  162.198.218.92       M015     ATM   \n",
              "1           Debit    Houston  D000051     13.149.61.4       M052     ATM   \n",
              "2           Debit       Mesa  D000235  215.97.143.157       M009  Online   \n",
              "3           Debit    Raleigh  D000187  200.13.225.150       M002  Online   \n",
              "4          Credit    Atlanta  D000308    65.164.3.100       M091  Online   \n",
              "\n",
              "   CustomerAge CustomerOccupation  TransactionDuration  LoginAttempts  \\\n",
              "0           70             Doctor                   81              1   \n",
              "1           68             Doctor                  141              1   \n",
              "2           19            Student                   56              1   \n",
              "3           26            Student                   25              1   \n",
              "4           26            Student                  198              1   \n",
              "\n",
              "   AccountBalance PreviousTransactionDate  \n",
              "0         5112.21     2024-11-04 08:08:08  \n",
              "1        13758.91     2024-11-04 08:09:35  \n",
              "2         1122.35     2024-11-04 08:07:04  \n",
              "3         8569.06     2024-11-04 08:09:06  \n",
              "4         7429.40     2024-11-04 08:06:39  "
            ]
          },
          "execution_count": 2,
          "metadata": {},
          "output_type": "execute_result"
        }
      ],
      "source": [
        "# Load data\n",
        "df = pd.read_csv(\"../data/01_raw/bank_transactions_data_2.csv\")\n",
        "df.head()"
      ]
    },
    {
      "cell_type": "code",
      "execution_count": 3,
      "metadata": {
        "id": "GHCGNTyrM5fS"
      },
      "outputs": [
        {
          "data": {
            "text/html": [
              "<div>\n",
              "<style scoped>\n",
              "    .dataframe tbody tr th:only-of-type {\n",
              "        vertical-align: middle;\n",
              "    }\n",
              "\n",
              "    .dataframe tbody tr th {\n",
              "        vertical-align: top;\n",
              "    }\n",
              "\n",
              "    .dataframe thead th {\n",
              "        text-align: right;\n",
              "    }\n",
              "</style>\n",
              "<table border=\"1\" class=\"dataframe\">\n",
              "  <thead>\n",
              "    <tr style=\"text-align: right;\">\n",
              "      <th></th>\n",
              "      <th>TransactionID</th>\n",
              "      <th>AccountID</th>\n",
              "      <th>TransactionAmount</th>\n",
              "      <th>TransactionDate</th>\n",
              "      <th>TransactionType</th>\n",
              "      <th>Location</th>\n",
              "      <th>DeviceID</th>\n",
              "      <th>IP Address</th>\n",
              "      <th>MerchantID</th>\n",
              "      <th>Channel</th>\n",
              "      <th>CustomerAge</th>\n",
              "      <th>CustomerOccupation</th>\n",
              "      <th>TransactionDuration</th>\n",
              "      <th>LoginAttempts</th>\n",
              "      <th>AccountBalance</th>\n",
              "      <th>PreviousTransactionDate</th>\n",
              "    </tr>\n",
              "  </thead>\n",
              "  <tbody>\n",
              "    <tr>\n",
              "      <th>0</th>\n",
              "      <td>TX000001</td>\n",
              "      <td>AC00128</td>\n",
              "      <td>14.09</td>\n",
              "      <td>2023-04-11 16:29:14</td>\n",
              "      <td>Debit</td>\n",
              "      <td>San Diego</td>\n",
              "      <td>D000380</td>\n",
              "      <td>162.198.218.92</td>\n",
              "      <td>M015</td>\n",
              "      <td>ATM</td>\n",
              "      <td>70</td>\n",
              "      <td>Doctor</td>\n",
              "      <td>81</td>\n",
              "      <td>1</td>\n",
              "      <td>5112.21</td>\n",
              "      <td>2024-11-04 08:08:08</td>\n",
              "    </tr>\n",
              "    <tr>\n",
              "      <th>1</th>\n",
              "      <td>TX000002</td>\n",
              "      <td>AC00455</td>\n",
              "      <td>376.24</td>\n",
              "      <td>2023-06-27 16:44:19</td>\n",
              "      <td>Debit</td>\n",
              "      <td>Houston</td>\n",
              "      <td>D000051</td>\n",
              "      <td>13.149.61.4</td>\n",
              "      <td>M052</td>\n",
              "      <td>ATM</td>\n",
              "      <td>68</td>\n",
              "      <td>Doctor</td>\n",
              "      <td>141</td>\n",
              "      <td>1</td>\n",
              "      <td>13758.91</td>\n",
              "      <td>2024-11-04 08:09:35</td>\n",
              "    </tr>\n",
              "    <tr>\n",
              "      <th>2</th>\n",
              "      <td>TX000003</td>\n",
              "      <td>AC00019</td>\n",
              "      <td>126.29</td>\n",
              "      <td>2023-07-10 18:16:08</td>\n",
              "      <td>Debit</td>\n",
              "      <td>Mesa</td>\n",
              "      <td>D000235</td>\n",
              "      <td>215.97.143.157</td>\n",
              "      <td>M009</td>\n",
              "      <td>Online</td>\n",
              "      <td>19</td>\n",
              "      <td>Student</td>\n",
              "      <td>56</td>\n",
              "      <td>1</td>\n",
              "      <td>1122.35</td>\n",
              "      <td>2024-11-04 08:07:04</td>\n",
              "    </tr>\n",
              "    <tr>\n",
              "      <th>3</th>\n",
              "      <td>TX000004</td>\n",
              "      <td>AC00070</td>\n",
              "      <td>184.50</td>\n",
              "      <td>2023-05-05 16:32:11</td>\n",
              "      <td>Debit</td>\n",
              "      <td>Raleigh</td>\n",
              "      <td>D000187</td>\n",
              "      <td>200.13.225.150</td>\n",
              "      <td>M002</td>\n",
              "      <td>Online</td>\n",
              "      <td>26</td>\n",
              "      <td>Student</td>\n",
              "      <td>25</td>\n",
              "      <td>1</td>\n",
              "      <td>8569.06</td>\n",
              "      <td>2024-11-04 08:09:06</td>\n",
              "    </tr>\n",
              "    <tr>\n",
              "      <th>4</th>\n",
              "      <td>TX000005</td>\n",
              "      <td>AC00411</td>\n",
              "      <td>13.45</td>\n",
              "      <td>2023-10-16 17:51:24</td>\n",
              "      <td>Credit</td>\n",
              "      <td>Atlanta</td>\n",
              "      <td>D000308</td>\n",
              "      <td>65.164.3.100</td>\n",
              "      <td>M091</td>\n",
              "      <td>Online</td>\n",
              "      <td>26</td>\n",
              "      <td>Student</td>\n",
              "      <td>198</td>\n",
              "      <td>1</td>\n",
              "      <td>7429.40</td>\n",
              "      <td>2024-11-04 08:06:39</td>\n",
              "    </tr>\n",
              "  </tbody>\n",
              "</table>\n",
              "</div>"
            ],
            "text/plain": [
              "  TransactionID AccountID  TransactionAmount      TransactionDate  \\\n",
              "0      TX000001   AC00128              14.09  2023-04-11 16:29:14   \n",
              "1      TX000002   AC00455             376.24  2023-06-27 16:44:19   \n",
              "2      TX000003   AC00019             126.29  2023-07-10 18:16:08   \n",
              "3      TX000004   AC00070             184.50  2023-05-05 16:32:11   \n",
              "4      TX000005   AC00411              13.45  2023-10-16 17:51:24   \n",
              "\n",
              "  TransactionType   Location DeviceID      IP Address MerchantID Channel  \\\n",
              "0           Debit  San Diego  D000380  162.198.218.92       M015     ATM   \n",
              "1           Debit    Houston  D000051     13.149.61.4       M052     ATM   \n",
              "2           Debit       Mesa  D000235  215.97.143.157       M009  Online   \n",
              "3           Debit    Raleigh  D000187  200.13.225.150       M002  Online   \n",
              "4          Credit    Atlanta  D000308    65.164.3.100       M091  Online   \n",
              "\n",
              "   CustomerAge CustomerOccupation  TransactionDuration  LoginAttempts  \\\n",
              "0           70             Doctor                   81              1   \n",
              "1           68             Doctor                  141              1   \n",
              "2           19            Student                   56              1   \n",
              "3           26            Student                   25              1   \n",
              "4           26            Student                  198              1   \n",
              "\n",
              "   AccountBalance PreviousTransactionDate  \n",
              "0         5112.21     2024-11-04 08:08:08  \n",
              "1        13758.91     2024-11-04 08:09:35  \n",
              "2         1122.35     2024-11-04 08:07:04  \n",
              "3         8569.06     2024-11-04 08:09:06  \n",
              "4         7429.40     2024-11-04 08:06:39  "
            ]
          },
          "execution_count": 3,
          "metadata": {},
          "output_type": "execute_result"
        }
      ],
      "source": [
        "# Tampilkan 5 baris pertama dengan function head.\n",
        "df.head()"
      ]
    },
    {
      "cell_type": "code",
      "execution_count": 4,
      "metadata": {
        "id": "0MgRVyMLnR5h"
      },
      "outputs": [
        {
          "name": "stdout",
          "output_type": "stream",
          "text": [
            "<class 'pandas.core.frame.DataFrame'>\n",
            "RangeIndex: 2512 entries, 0 to 2511\n",
            "Data columns (total 16 columns):\n",
            " #   Column                   Non-Null Count  Dtype  \n",
            "---  ------                   --------------  -----  \n",
            " 0   TransactionID            2512 non-null   object \n",
            " 1   AccountID                2512 non-null   object \n",
            " 2   TransactionAmount        2512 non-null   float64\n",
            " 3   TransactionDate          2512 non-null   object \n",
            " 4   TransactionType          2512 non-null   object \n",
            " 5   Location                 2512 non-null   object \n",
            " 6   DeviceID                 2512 non-null   object \n",
            " 7   IP Address               2512 non-null   object \n",
            " 8   MerchantID               2512 non-null   object \n",
            " 9   Channel                  2512 non-null   object \n",
            " 10  CustomerAge              2512 non-null   int64  \n",
            " 11  CustomerOccupation       2512 non-null   object \n",
            " 12  TransactionDuration      2512 non-null   int64  \n",
            " 13  LoginAttempts            2512 non-null   int64  \n",
            " 14  AccountBalance           2512 non-null   float64\n",
            " 15  PreviousTransactionDate  2512 non-null   object \n",
            "dtypes: float64(2), int64(3), object(11)\n",
            "memory usage: 314.1+ KB\n"
          ]
        }
      ],
      "source": [
        "# Tinjau jumlah baris kolom dan jenis data dalam dataset dengan info.\n",
        "df.info()"
      ]
    },
    {
      "cell_type": "code",
      "execution_count": 5,
      "metadata": {
        "id": "hN9KsJPonVKT"
      },
      "outputs": [
        {
          "data": {
            "text/html": [
              "<div>\n",
              "<style scoped>\n",
              "    .dataframe tbody tr th:only-of-type {\n",
              "        vertical-align: middle;\n",
              "    }\n",
              "\n",
              "    .dataframe tbody tr th {\n",
              "        vertical-align: top;\n",
              "    }\n",
              "\n",
              "    .dataframe thead th {\n",
              "        text-align: right;\n",
              "    }\n",
              "</style>\n",
              "<table border=\"1\" class=\"dataframe\">\n",
              "  <thead>\n",
              "    <tr style=\"text-align: right;\">\n",
              "      <th></th>\n",
              "      <th>TransactionAmount</th>\n",
              "      <th>CustomerAge</th>\n",
              "      <th>TransactionDuration</th>\n",
              "      <th>LoginAttempts</th>\n",
              "      <th>AccountBalance</th>\n",
              "    </tr>\n",
              "  </thead>\n",
              "  <tbody>\n",
              "    <tr>\n",
              "      <th>count</th>\n",
              "      <td>2512.000000</td>\n",
              "      <td>2512.000000</td>\n",
              "      <td>2512.000000</td>\n",
              "      <td>2512.000000</td>\n",
              "      <td>2512.000000</td>\n",
              "    </tr>\n",
              "    <tr>\n",
              "      <th>mean</th>\n",
              "      <td>297.593778</td>\n",
              "      <td>44.673965</td>\n",
              "      <td>119.643312</td>\n",
              "      <td>1.124602</td>\n",
              "      <td>5114.302966</td>\n",
              "    </tr>\n",
              "    <tr>\n",
              "      <th>std</th>\n",
              "      <td>291.946243</td>\n",
              "      <td>17.792198</td>\n",
              "      <td>69.963757</td>\n",
              "      <td>0.602662</td>\n",
              "      <td>3900.942499</td>\n",
              "    </tr>\n",
              "    <tr>\n",
              "      <th>min</th>\n",
              "      <td>0.260000</td>\n",
              "      <td>18.000000</td>\n",
              "      <td>10.000000</td>\n",
              "      <td>1.000000</td>\n",
              "      <td>101.250000</td>\n",
              "    </tr>\n",
              "    <tr>\n",
              "      <th>25%</th>\n",
              "      <td>81.885000</td>\n",
              "      <td>27.000000</td>\n",
              "      <td>63.000000</td>\n",
              "      <td>1.000000</td>\n",
              "      <td>1504.370000</td>\n",
              "    </tr>\n",
              "    <tr>\n",
              "      <th>50%</th>\n",
              "      <td>211.140000</td>\n",
              "      <td>45.000000</td>\n",
              "      <td>112.500000</td>\n",
              "      <td>1.000000</td>\n",
              "      <td>4735.510000</td>\n",
              "    </tr>\n",
              "    <tr>\n",
              "      <th>75%</th>\n",
              "      <td>414.527500</td>\n",
              "      <td>59.000000</td>\n",
              "      <td>161.000000</td>\n",
              "      <td>1.000000</td>\n",
              "      <td>7678.820000</td>\n",
              "    </tr>\n",
              "    <tr>\n",
              "      <th>max</th>\n",
              "      <td>1919.110000</td>\n",
              "      <td>80.000000</td>\n",
              "      <td>300.000000</td>\n",
              "      <td>5.000000</td>\n",
              "      <td>14977.990000</td>\n",
              "    </tr>\n",
              "  </tbody>\n",
              "</table>\n",
              "</div>"
            ],
            "text/plain": [
              "       TransactionAmount  CustomerAge  TransactionDuration  LoginAttempts  \\\n",
              "count        2512.000000  2512.000000          2512.000000    2512.000000   \n",
              "mean          297.593778    44.673965           119.643312       1.124602   \n",
              "std           291.946243    17.792198            69.963757       0.602662   \n",
              "min             0.260000    18.000000            10.000000       1.000000   \n",
              "25%            81.885000    27.000000            63.000000       1.000000   \n",
              "50%           211.140000    45.000000           112.500000       1.000000   \n",
              "75%           414.527500    59.000000           161.000000       1.000000   \n",
              "max          1919.110000    80.000000           300.000000       5.000000   \n",
              "\n",
              "       AccountBalance  \n",
              "count     2512.000000  \n",
              "mean      5114.302966  \n",
              "std       3900.942499  \n",
              "min        101.250000  \n",
              "25%       1504.370000  \n",
              "50%       4735.510000  \n",
              "75%       7678.820000  \n",
              "max      14977.990000  "
            ]
          },
          "execution_count": 5,
          "metadata": {},
          "output_type": "execute_result"
        }
      ],
      "source": [
        "# Menampilkan statistik deskriptif dataset dengan menjalankan describe\n",
        "df.describe()"
      ]
    },
    {
      "cell_type": "code",
      "execution_count": 35,
      "metadata": {},
      "outputs": [],
      "source": [
        "df_main_features = df[\n",
        "    [\n",
        "    \"TransactionAmount\",\n",
        "    \"TransactionDate\",\n",
        "    \"PreviousTransactionDate\",\n",
        "    \"TransactionType\",\n",
        "    \"Channel\",\n",
        "    \"MerchantID\",\n",
        "    \"Location\",\n",
        "    \"AccountBalance\",\n",
        "    \"CustomerAge\",\n",
        "    \"CustomerOccupation\",\n",
        "    \"TransactionDuration\"\n",
        "]\n",
        "]"
      ]
    },
    {
      "cell_type": "code",
      "execution_count": 36,
      "metadata": {},
      "outputs": [
        {
          "data": {
            "text/html": [
              "<div>\n",
              "<style scoped>\n",
              "    .dataframe tbody tr th:only-of-type {\n",
              "        vertical-align: middle;\n",
              "    }\n",
              "\n",
              "    .dataframe tbody tr th {\n",
              "        vertical-align: top;\n",
              "    }\n",
              "\n",
              "    .dataframe thead th {\n",
              "        text-align: right;\n",
              "    }\n",
              "</style>\n",
              "<table border=\"1\" class=\"dataframe\">\n",
              "  <thead>\n",
              "    <tr style=\"text-align: right;\">\n",
              "      <th></th>\n",
              "      <th>TransactionAmount</th>\n",
              "      <th>TransactionDate</th>\n",
              "      <th>PreviousTransactionDate</th>\n",
              "      <th>TransactionType</th>\n",
              "      <th>Channel</th>\n",
              "      <th>MerchantID</th>\n",
              "      <th>Location</th>\n",
              "      <th>AccountBalance</th>\n",
              "      <th>CustomerAge</th>\n",
              "      <th>CustomerOccupation</th>\n",
              "      <th>TransactionDuration</th>\n",
              "    </tr>\n",
              "  </thead>\n",
              "  <tbody>\n",
              "    <tr>\n",
              "      <th>653</th>\n",
              "      <td>1919.11</td>\n",
              "      <td>2023-06-27 17:48:25</td>\n",
              "      <td>2024-11-04 08:10:27</td>\n",
              "      <td>Debit</td>\n",
              "      <td>ATM</td>\n",
              "      <td>M033</td>\n",
              "      <td>Portland</td>\n",
              "      <td>11090.24</td>\n",
              "      <td>30</td>\n",
              "      <td>Doctor</td>\n",
              "      <td>161</td>\n",
              "    </tr>\n",
              "    <tr>\n",
              "      <th>215</th>\n",
              "      <td>74.88</td>\n",
              "      <td>2023-05-24 16:25:50</td>\n",
              "      <td>2024-11-04 08:07:46</td>\n",
              "      <td>Debit</td>\n",
              "      <td>ATM</td>\n",
              "      <td>M026</td>\n",
              "      <td>Atlanta</td>\n",
              "      <td>420.67</td>\n",
              "      <td>25</td>\n",
              "      <td>Student</td>\n",
              "      <td>202</td>\n",
              "    </tr>\n",
              "    <tr>\n",
              "      <th>900</th>\n",
              "      <td>157.16</td>\n",
              "      <td>2023-03-13 17:34:30</td>\n",
              "      <td>2024-11-04 08:07:27</td>\n",
              "      <td>Debit</td>\n",
              "      <td>Branch</td>\n",
              "      <td>M068</td>\n",
              "      <td>New York</td>\n",
              "      <td>1545.77</td>\n",
              "      <td>20</td>\n",
              "      <td>Student</td>\n",
              "      <td>280</td>\n",
              "    </tr>\n",
              "    <tr>\n",
              "      <th>1908</th>\n",
              "      <td>494.66</td>\n",
              "      <td>2023-06-19 16:59:35</td>\n",
              "      <td>2024-11-04 08:06:25</td>\n",
              "      <td>Debit</td>\n",
              "      <td>Online</td>\n",
              "      <td>M009</td>\n",
              "      <td>Houston</td>\n",
              "      <td>5531.93</td>\n",
              "      <td>33</td>\n",
              "      <td>Doctor</td>\n",
              "      <td>110</td>\n",
              "    </tr>\n",
              "    <tr>\n",
              "      <th>383</th>\n",
              "      <td>96.54</td>\n",
              "      <td>2023-03-13 17:26:17</td>\n",
              "      <td>2024-11-04 08:10:31</td>\n",
              "      <td>Debit</td>\n",
              "      <td>Branch</td>\n",
              "      <td>M020</td>\n",
              "      <td>New York</td>\n",
              "      <td>7182.22</td>\n",
              "      <td>58</td>\n",
              "      <td>Retired</td>\n",
              "      <td>95</td>\n",
              "    </tr>\n",
              "  </tbody>\n",
              "</table>\n",
              "</div>"
            ],
            "text/plain": [
              "      TransactionAmount      TransactionDate PreviousTransactionDate  \\\n",
              "653             1919.11  2023-06-27 17:48:25     2024-11-04 08:10:27   \n",
              "215               74.88  2023-05-24 16:25:50     2024-11-04 08:07:46   \n",
              "900              157.16  2023-03-13 17:34:30     2024-11-04 08:07:27   \n",
              "1908             494.66  2023-06-19 16:59:35     2024-11-04 08:06:25   \n",
              "383               96.54  2023-03-13 17:26:17     2024-11-04 08:10:31   \n",
              "\n",
              "     TransactionType Channel MerchantID  Location  AccountBalance  \\\n",
              "653            Debit     ATM       M033  Portland        11090.24   \n",
              "215            Debit     ATM       M026   Atlanta          420.67   \n",
              "900            Debit  Branch       M068  New York         1545.77   \n",
              "1908           Debit  Online       M009   Houston         5531.93   \n",
              "383            Debit  Branch       M020  New York         7182.22   \n",
              "\n",
              "      CustomerAge CustomerOccupation  TransactionDuration  \n",
              "653            30             Doctor                  161  \n",
              "215            25            Student                  202  \n",
              "900            20            Student                  280  \n",
              "1908           33             Doctor                  110  \n",
              "383            58            Retired                   95  "
            ]
          },
          "execution_count": 36,
          "metadata": {},
          "output_type": "execute_result"
        }
      ],
      "source": [
        "df_main_features.sample(5)"
      ]
    },
    {
      "cell_type": "code",
      "execution_count": 37,
      "metadata": {},
      "outputs": [
        {
          "name": "stdout",
          "output_type": "stream",
          "text": [
            "<class 'pandas.core.frame.DataFrame'>\n",
            "RangeIndex: 2512 entries, 0 to 2511\n",
            "Data columns (total 11 columns):\n",
            " #   Column                   Non-Null Count  Dtype  \n",
            "---  ------                   --------------  -----  \n",
            " 0   TransactionAmount        2512 non-null   float64\n",
            " 1   TransactionDate          2512 non-null   object \n",
            " 2   PreviousTransactionDate  2512 non-null   object \n",
            " 3   TransactionType          2512 non-null   object \n",
            " 4   Channel                  2512 non-null   object \n",
            " 5   MerchantID               2512 non-null   object \n",
            " 6   Location                 2512 non-null   object \n",
            " 7   AccountBalance           2512 non-null   float64\n",
            " 8   CustomerAge              2512 non-null   int64  \n",
            " 9   CustomerOccupation       2512 non-null   object \n",
            " 10  TransactionDuration      2512 non-null   int64  \n",
            "dtypes: float64(2), int64(2), object(7)\n",
            "memory usage: 216.0+ KB\n"
          ]
        }
      ],
      "source": [
        "df_main_features.info(\n",
        ")"
      ]
    },
    {
      "cell_type": "markdown",
      "metadata": {},
      "source": [
        "ada beberapa yang tidak sesuai tipe data nya\n",
        "1. transaction date masih object\n",
        "2. previous transactionDate masih object\n",
        "\n",
        "akan kita fix dulu untuk kebutuhan EDA"
      ]
    },
    {
      "cell_type": "code",
      "execution_count": 38,
      "metadata": {},
      "outputs": [
        {
          "name": "stderr",
          "output_type": "stream",
          "text": [
            "/tmp/ipykernel_4164/3460292927.py:1: SettingWithCopyWarning: \n",
            "A value is trying to be set on a copy of a slice from a DataFrame.\n",
            "Try using .loc[row_indexer,col_indexer] = value instead\n",
            "\n",
            "See the caveats in the documentation: https://pandas.pydata.org/pandas-docs/stable/user_guide/indexing.html#returning-a-view-versus-a-copy\n",
            "  df_main_features[\"TransactionDate\"] = pd.to_datetime(df_main_features[\"TransactionDate\"])\n",
            "/tmp/ipykernel_4164/3460292927.py:2: SettingWithCopyWarning: \n",
            "A value is trying to be set on a copy of a slice from a DataFrame.\n",
            "Try using .loc[row_indexer,col_indexer] = value instead\n",
            "\n",
            "See the caveats in the documentation: https://pandas.pydata.org/pandas-docs/stable/user_guide/indexing.html#returning-a-view-versus-a-copy\n",
            "  df_main_features[\"PreviousTransactionDate\"] = pd.to_datetime(df_main_features[\"PreviousTransactionDate\"])\n"
          ]
        }
      ],
      "source": [
        "df_main_features[\"TransactionDate\"] = pd.to_datetime(df_main_features[\"TransactionDate\"])\n",
        "df_main_features[\"PreviousTransactionDate\"] = pd.to_datetime(df_main_features[\"PreviousTransactionDate\"])"
      ]
    },
    {
      "cell_type": "code",
      "execution_count": 39,
      "metadata": {},
      "outputs": [
        {
          "name": "stdout",
          "output_type": "stream",
          "text": [
            "<class 'pandas.core.frame.DataFrame'>\n",
            "RangeIndex: 2512 entries, 0 to 2511\n",
            "Data columns (total 11 columns):\n",
            " #   Column                   Non-Null Count  Dtype         \n",
            "---  ------                   --------------  -----         \n",
            " 0   TransactionAmount        2512 non-null   float64       \n",
            " 1   TransactionDate          2512 non-null   datetime64[ns]\n",
            " 2   PreviousTransactionDate  2512 non-null   datetime64[ns]\n",
            " 3   TransactionType          2512 non-null   object        \n",
            " 4   Channel                  2512 non-null   object        \n",
            " 5   MerchantID               2512 non-null   object        \n",
            " 6   Location                 2512 non-null   object        \n",
            " 7   AccountBalance           2512 non-null   float64       \n",
            " 8   CustomerAge              2512 non-null   int64         \n",
            " 9   CustomerOccupation       2512 non-null   object        \n",
            " 10  TransactionDuration      2512 non-null   int64         \n",
            "dtypes: datetime64[ns](2), float64(2), int64(2), object(5)\n",
            "memory usage: 216.0+ KB\n"
          ]
        }
      ],
      "source": [
        "df_main_features.info()"
      ]
    },
    {
      "cell_type": "code",
      "execution_count": 40,
      "metadata": {},
      "outputs": [
        {
          "data": {
            "text/plain": [
              "TransactionAmount          0\n",
              "TransactionDate            0\n",
              "PreviousTransactionDate    0\n",
              "TransactionType            0\n",
              "Channel                    0\n",
              "MerchantID                 0\n",
              "Location                   0\n",
              "AccountBalance             0\n",
              "CustomerAge                0\n",
              "CustomerOccupation         0\n",
              "TransactionDuration        0\n",
              "dtype: int64"
            ]
          },
          "execution_count": 40,
          "metadata": {},
          "output_type": "execute_result"
        }
      ],
      "source": [
        "df_main_features.isnull().sum()"
      ]
    },
    {
      "cell_type": "code",
      "execution_count": 41,
      "metadata": {},
      "outputs": [
        {
          "data": {
            "text/plain": [
              "0"
            ]
          },
          "execution_count": 41,
          "metadata": {},
          "output_type": "execute_result"
        }
      ],
      "source": [
        "df_main_features.duplicated().sum()"
      ]
    },
    {
      "cell_type": "markdown",
      "metadata": {
        "id": "DNOEZk24uiXu"
      },
      "source": [
        "(Opsional) Memuat Dataset dan Melakukan Exploratory Data Analysis (EDA) [Skilled]\n",
        "\n",
        "**Biarkan kosong jika tidak menerapkan kriteria skilled**\n",
        "\n",
        "**Apabila ingin menerapkan Advanced, pastikan seluruh visualisasi tidak ada yang overlap**"
      ]
    },
    {
      "cell_type": "code",
      "execution_count": 45,
      "metadata": {},
      "outputs": [],
      "source": [
        "df_main_features_numerical = df_main_features.select_dtypes(include=[\"float64\", \"int64\"])\n",
        "df_main_features_categorical = df_main_features.select_dtypes(include=[\"object\"])"
      ]
    },
    {
      "cell_type": "code",
      "execution_count": 46,
      "metadata": {},
      "outputs": [
        {
          "name": "stdout",
          "output_type": "stream",
          "text": [
            "<class 'pandas.core.frame.DataFrame'>\n",
            "RangeIndex: 2512 entries, 0 to 2511\n",
            "Data columns (total 4 columns):\n",
            " #   Column               Non-Null Count  Dtype  \n",
            "---  ------               --------------  -----  \n",
            " 0   TransactionAmount    2512 non-null   float64\n",
            " 1   AccountBalance       2512 non-null   float64\n",
            " 2   CustomerAge          2512 non-null   int64  \n",
            " 3   TransactionDuration  2512 non-null   int64  \n",
            "dtypes: float64(2), int64(2)\n",
            "memory usage: 78.6 KB\n"
          ]
        }
      ],
      "source": [
        "df_main_features_numerical.info()"
      ]
    },
    {
      "cell_type": "code",
      "execution_count": 51,
      "metadata": {},
      "outputs": [
        {
          "data": {
            "image/png": "[encoded data removed]",
            "text/plain": [
              "<Figure size 2000x1000 with 4 Axes>"
            ]
          },
          "metadata": {},
          "output_type": "display_data"
        }
      ],
      "source": [
        "fig = plt.figure(figsize=(20, 10))\n",
        "for i, col in enumerate(df_main_features_numerical.columns):\n",
        "    ax = fig.add_subplot(2, 5, i + 1)\n",
        "    sns.histplot(x=df_main_features_numerical[col], ax=ax)\n",
        "    ax.set_title(col)\n",
        "plt.tight_layout()\n",
        "plt.show()"
      ]
    },
    {
      "cell_type": "markdown",
      "metadata": {},
      "source": [
        "ada beberap data yang skew/miring, seperti :\n",
        "1. transcation amount yang ternyata miring ke kanan\n",
        "2. account balance yang ternyata miring ke kanan juga\n",
        "3. customer age juga sama\n",
        "\n",
        "mendekati normal hanya transaction duration "
      ]
    },
    {
      "cell_type": "code",
      "execution_count": 52,
      "metadata": {},
      "outputs": [
        {
          "data": {
            "image/png": "[encoded data removed]",
            "text/plain": [
              "<Figure size 2000x1000 with 4 Axes>"
            ]
          },
          "metadata": {},
          "output_type": "display_data"
        }
      ],
      "source": [
        "fig = plt.figure(figsize=(20, 10))\n",
        "for i, col in enumerate(df_main_features_numerical.columns):\n",
        "    ax = fig.add_subplot(2, 5, i + 1)\n",
        "    sns.boxplot(x=df_main_features_numerical[col], ax=ax)\n",
        "    ax.set_title(col)\n",
        "plt.tight_layout()\n",
        "plt.show()"
      ]
    },
    {
      "cell_type": "markdown",
      "metadata": {},
      "source": [
        "dalam pengecekan outliers, ada satu column yang memiliki outliers, yaitu column transcation amount, mungkin nanti fix nya lebih ke arah mengganti ke nilai max terdekat, karna trade off nya data yang kecil hanya 2k baris"
      ]
    },
    {
      "cell_type": "code",
      "execution_count": 53,
      "metadata": {},
      "outputs": [
        {
          "name": "stdout",
          "output_type": "stream",
          "text": [
            "<class 'pandas.core.frame.DataFrame'>\n",
            "RangeIndex: 2512 entries, 0 to 2511\n",
            "Data columns (total 5 columns):\n",
            " #   Column              Non-Null Count  Dtype \n",
            "---  ------              --------------  ----- \n",
            " 0   TransactionType     2512 non-null   object\n",
            " 1   Channel             2512 non-null   object\n",
            " 2   MerchantID          2512 non-null   object\n",
            " 3   Location            2512 non-null   object\n",
            " 4   CustomerOccupation  2512 non-null   object\n",
            "dtypes: object(5)\n",
            "memory usage: 98.3+ KB\n"
          ]
        }
      ],
      "source": [
        "df_main_features_categorical.info()"
      ]
    },
    {
      "cell_type": "code",
      "execution_count": 54,
      "metadata": {},
      "outputs": [
        {
          "data": {
            "text/plain": [
              "TransactionType\n",
              "Debit     1944\n",
              "Credit     568\n",
              "Name: count, dtype: int64"
            ]
          },
          "execution_count": 54,
          "metadata": {},
          "output_type": "execute_result"
        }
      ],
      "source": [
        "df_main_features_categorical[\"TransactionType\"].value_counts()"
      ]
    },
    {
      "cell_type": "code",
      "execution_count": null,
      "metadata": {},
      "outputs": [
        {
          "data": {
            "image/png": "[encoded data removed]",
            "text/plain": [
              "<Figure size 640x480 with 1 Axes>"
            ]
          },
          "metadata": {},
          "output_type": "display_data"
        }
      ],
      "source": [
        "sns.barplot(x=df_main_features_categorical[\"TransactionType\"].value_counts().index, \n",
        "            y=df_main_features_categorical[\"TransactionType\"].value_counts().values\n",
        "           )\n",
        "plt.show()"
      ]
    },
    {
      "cell_type": "markdown",
      "metadata": {},
      "source": [
        "distribusi transaksi kredit lebih besar daripada debit, masuk kategori data unbalance"
      ]
    },
    {
      "cell_type": "code",
      "execution_count": 57,
      "metadata": {},
      "outputs": [
        {
          "data": {
            "text/plain": [
              "Channel\n",
              "Branch    868\n",
              "ATM       833\n",
              "Online    811\n",
              "Name: count, dtype: int64"
            ]
          },
          "execution_count": 57,
          "metadata": {},
          "output_type": "execute_result"
        }
      ],
      "source": [
        "df_main_features_categorical[\"Channel\"].value_counts()"
      ]
    },
    {
      "cell_type": "code",
      "execution_count": 58,
      "metadata": {},
      "outputs": [
        {
          "data": {
            "image/png": "[encoded data removed]",
            "text/plain": [
              "<Figure size 640x480 with 1 Axes>"
            ]
          },
          "metadata": {},
          "output_type": "display_data"
        }
      ],
      "source": [
        "sns.barplot(\n",
        "    x=df_main_features_categorical[\"Channel\"].value_counts().index,\n",
        "    y=df_main_features_categorical[\"Channel\"].value_counts().values\n",
        ")\n",
        "plt.show()"
      ]
    },
    {
      "cell_type": "code",
      "execution_count": 66,
      "metadata": {},
      "outputs": [
        {
          "data": {
            "image/png": "[encoded data removed]",
            "text/plain": [
              "<Figure size 1000x500 with 1 Axes>"
            ]
          },
          "metadata": {},
          "output_type": "display_data"
        }
      ],
      "source": [
        "top5 = df_main_features_categorical[\"Location\"].value_counts().head(5)\n",
        "\n",
        "plt.figure(figsize=(10, 5))\n",
        "plt.barh(top5.index[::-1], top5.values[::-1]) \n",
        "plt.xlabel(\"Count\")\n",
        "plt.ylabel(\"Location\")\n",
        "plt.title(\"Top 5 Location\")\n",
        "plt.show()"
      ]
    },
    {
      "cell_type": "code",
      "execution_count": 68,
      "metadata": {},
      "outputs": [
        {
          "data": {
            "image/png": "[encoded data removed]",
            "text/plain": [
              "<Figure size 640x480 with 1 Axes>"
            ]
          },
          "metadata": {},
          "output_type": "display_data"
        }
      ],
      "source": [
        "sns.barplot(\n",
        "    x=df_main_features_categorical[\"CustomerOccupation\"].value_counts().index,\n",
        "    y=df_main_features_categorical[\"CustomerOccupation\"].value_counts().values\n",
        ")\n",
        "plt.show()"
      ]
    },
    {
      "cell_type": "code",
      "execution_count": 69,
      "metadata": {
        "id": "DGAJlKExnYAt"
      },
      "outputs": [
        {
          "data": {
            "image/png": "[encoded data removed]",
            "text/plain": [
              "<Figure size 640x480 with 2 Axes>"
            ]
          },
          "metadata": {},
          "output_type": "display_data"
        }
      ],
      "source": [
        "# Menampilkan korelasi antar fitur (Opsional Skilled 1)\n",
        "sns.heatmap(\n",
        "    df_main_features_numerical.corr(),\n",
        "    annot=True\n",
        ")\n",
        "plt.show()"
      ]
    },
    {
      "cell_type": "code",
      "execution_count": 72,
      "metadata": {},
      "outputs": [
        {
          "data": {
            "text/plain": [
              "<Axes: xlabel='TransactionDate', ylabel='TransactionAmount'>"
            ]
          },
          "execution_count": 72,
          "metadata": {},
          "output_type": "execute_result"
        },
        {
          "data": {
            "image/png": "[encoded data removed]",
            "text/plain": [
              "<Figure size 640x480 with 1 Axes>"
            ]
          },
          "metadata": {},
          "output_type": "display_data"
        }
      ],
      "source": [
        "sns.lineplot(\n",
        "    x=df_main_features[\"TransactionDate\"],\n",
        "    y=df_main_features_numerical[\"TransactionAmount\"]\n",
        ")"
      ]
    },
    {
      "cell_type": "code",
      "execution_count": null,
      "metadata": {
        "id": "kcBn9v4Fn8FO"
      },
      "outputs": [],
      "source": [
        "# Menampilkan histogram untuk semua kolom numerik (Opsional Skilled 1)\n",
        "# sudah dilakukan di atas"
      ]
    },
    {
      "cell_type": "markdown",
      "metadata": {
        "id": "k-S35baFuwaP"
      },
      "source": [
        "(Opsional) Memuat Dataset dan Melakukan Exploratory Data Analysis (EDA) [Advanced]\n",
        "\n",
        "**Biarkan kosong jika tidak menerapkan kriteria advanced**"
      ]
    },
    {
      "cell_type": "code",
      "execution_count": null,
      "metadata": {
        "id": "GVIuT8VDokKn"
      },
      "outputs": [],
      "source": [
        "# Visualisasi yang lebih informatif (Opsional Advanced 1)\n",
        "# sudah dilakankan di atas"
      ]
    },
    {
      "cell_type": "markdown",
      "metadata": {
        "id": "cSemyzQHU0On"
      },
      "source": [
        "# **3. Pembersihan dan Pra Pemrosesan Data**\n",
        "\n",
        "Pada tahap ini, Anda akan melakukan **Pembersihan Dataset** untuk menjadikan dataset mudah diintepretasi dan bisa dilatih. Hal-hal yang wajib kamu lakukan yaitu:\n",
        "\n",
        "1. **Mengecek dataset** menggunakan isnull().sum() dan duplicated().sum().\n",
        "2. Melakukan feature scaling menggunakan `MinMaxScaler()` atau `StandardScalar()` untuk fitur numerik.\n",
        "3. Melakukan feature encoding menggunakan `LabelEncoder()` untuk fitur kategorikal.\n",
        "4. Melakukan drop pada kolom id.\n",
        "5. **Ketentuan Cell Code**\n",
        "   - Pastikan **setiap pemeriksaan tersebut** memiliki **output pada cell-nya**. Jika tidak **submission langsung ditolak**\n"
      ]
    },
    {
      "cell_type": "code",
      "execution_count": null,
      "metadata": {
        "id": "dKeejtvxM6X1"
      },
      "outputs": [],
      "source": [
        "# Mengecek dataset menggunakan isnull().sum()\n",
        "# sudah dilakukan di atas"
      ]
    },
    {
      "cell_type": "code",
      "execution_count": null,
      "metadata": {
        "id": "2RrBA92mpHBc"
      },
      "outputs": [],
      "source": [
        "# Mengecek dataset menggunakan duplicated().sum()\n",
        "# sudah dilakukan di atas"
      ]
    },
    {
      "cell_type": "code",
      "execution_count": 11,
      "metadata": {
        "id": "G7WXozOgpJp-"
      },
      "outputs": [],
      "source": [
        "# Melakukan feature scaling menggunakan MinMaxScaler() atau StandardScalar() untuk fitur numerik.\n",
        "# Pastikan kamu menggunakan function head setelah melalukan scaling."
      ]
    },
    {
      "cell_type": "code",
      "execution_count": 12,
      "metadata": {
        "id": "TGLR0NTwsMOp"
      },
      "outputs": [],
      "source": [
        "# Melakukan drop pada kolom yang memiliki keterangan id dan IP Address"
      ]
    },
    {
      "cell_type": "code",
      "execution_count": 13,
      "metadata": {
        "id": "6eycdNMQqx4c"
      },
      "outputs": [],
      "source": [
        "# Melakukan feature encoding menggunakan LabelEncoder() untuk fitur kategorikal.\n",
        "# Pastikan kamu menggunakan function head setelah melalukan encoding."
      ]
    },
    {
      "cell_type": "code",
      "execution_count": 14,
      "metadata": {
        "id": "u1EmlGmZCCAP"
      },
      "outputs": [],
      "source": [
        "# Last checking gunakan columns.tolist() untuk checking seluruh fitur yang ada.\n",
        "# Perbaiki kode di bawah ini tanpa menambahkan atau mengurangi cell code ini.\n",
        "# ____.columns.tolist()"
      ]
    },
    {
      "cell_type": "markdown",
      "metadata": {
        "id": "qnbH2l_wv9l8"
      },
      "source": [
        "(Opsional) Pembersihan dan Pra Pemrosesan Data [Skilled]\n",
        "\n",
        "**Biarkan kosong jika tidak menerapkan kriteria skilled**"
      ]
    },
    {
      "cell_type": "code",
      "execution_count": 15,
      "metadata": {
        "id": "-UoGhAUrsxIV"
      },
      "outputs": [],
      "source": [
        "# Menangani data yang hilang (bisa menggunakan dropna() atau metode imputasi fillna())."
      ]
    },
    {
      "cell_type": "code",
      "execution_count": 16,
      "metadata": {
        "id": "WGt2XApTttSL"
      },
      "outputs": [],
      "source": [
        "# Menghapus data duplikat menggunakan drop_duplicates()."
      ]
    },
    {
      "cell_type": "markdown",
      "metadata": {
        "id": "H5RrswThwQrC"
      },
      "source": [
        "(Opsional) Pembersihan dan Pra Pemrosesan Data [Advanced]\n",
        "\n",
        "**Biarkan kosong jika tidak menerapkan kriteria advanced**"
      ]
    },
    {
      "cell_type": "code",
      "execution_count": 17,
      "metadata": {
        "id": "mvhfyYpat9Xs"
      },
      "outputs": [],
      "source": [
        "# Melakukan Handling Outlier Data berdasarkan jumlah outlier, apakah menggunakan metode drop atau mengisi nilai tersebut."
      ]
    },
    {
      "cell_type": "code",
      "execution_count": 18,
      "metadata": {
        "id": "QjcR-3G0u-GL"
      },
      "outputs": [],
      "source": [
        "# Melakukan binning data berdasarkan kondisi rentang nilai pada fitur numerik,\n",
        "# lakukan pada satu sampai dua fitur numerik.\n",
        "# Silahkan lakukan encode hasil binning tersebut menggunakan LabelEncoder.\n",
        "# Pastikan kamu mengerjakan tahapan ini pada satu cell."
      ]
    },
    {
      "cell_type": "markdown",
      "metadata": {
        "id": "Fkd_QHXWMBDr"
      },
      "source": [
        "# **4. Membangun Model Clustering**\n",
        "Pada tahap ini, Anda membangun model clustering dengan memilih algoritma yang sesuai untuk mengelompokkan data berdasarkan kesamaan.\n",
        "1. Pastikan Anda menggunakan dataframe yang sudah melalui processing sesuai dengan levelnya (Basic, Skilled, Advanced)\n",
        "2. Melakukan visualisasi Elbow Method untuk menentukan jumlah cluster terbaik menggunakan `KElbowVisualizer()`.\n",
        "3. Menggunakan algoritma K-Means Clustering dengan `sklearn.cluster.KMeans()`.\n",
        "4. Jalankan cell code `joblib.dump(model_kmeans, \"model_clustering.h5\")` untuk menyimpan model yang sudah dibuat."
      ]
    },
    {
      "cell_type": "code",
      "execution_count": 19,
      "metadata": {
        "id": "hYHmRnb42A1P"
      },
      "outputs": [],
      "source": [
        "# Gunakan describe untuk memastikan proses clustering menggunakan dataset hasil preprocessing\n",
        "# Lengkapi kode ini dengan mengubah nama DataFrame yang akan dilatih.\n",
        "# Kode harus digunakan dan dilarang menambahkan syntax lainnya pada cell ini.\n",
        "# ___.describe()"
      ]
    },
    {
      "cell_type": "code",
      "execution_count": 20,
      "metadata": {
        "id": "hgYvwWOzM93L"
      },
      "outputs": [],
      "source": [
        "# Melakukan visualisasi Elbow Method menggunakan KElbowVisualizer()"
      ]
    },
    {
      "cell_type": "code",
      "execution_count": 21,
      "metadata": {
        "id": "HvngRg-r4EcL"
      },
      "outputs": [],
      "source": [
        "# Menggunakan algoritma K-Means Clustering"
      ]
    },
    {
      "cell_type": "markdown",
      "metadata": {
        "id": "6aVHlHyU1Dcx"
      },
      "source": [
        "Jalankan cell code ini untuk menyimpan model kamu."
      ]
    },
    {
      "cell_type": "code",
      "execution_count": 22,
      "metadata": {
        "id": "D7AvYmQnY_fI"
      },
      "outputs": [],
      "source": [
        "# Menyimpan model menggunakan joblib\n",
        "# import joblib\n",
        "# joblib.dump(___, \"model_clustering.h5\")"
      ]
    },
    {
      "cell_type": "markdown",
      "metadata": {
        "id": "YDOD9eVMx3mC"
      },
      "source": [
        "(Opsional) Membangun Model Clustering [Skilled]\n",
        "\n",
        "**Biarkan kosong jika tidak menerapkan kriteria skilled**"
      ]
    },
    {
      "cell_type": "code",
      "execution_count": 23,
      "metadata": {
        "id": "SELNsH5O4Oyn"
      },
      "outputs": [],
      "source": [
        "# Menghitung dan menampilkan nilai Silhouette Score."
      ]
    },
    {
      "cell_type": "code",
      "execution_count": 24,
      "metadata": {
        "id": "K4EbkaXg4QAN"
      },
      "outputs": [],
      "source": [
        "# Membuat visualisasi hasil clustering"
      ]
    },
    {
      "cell_type": "markdown",
      "metadata": {
        "id": "uloMRbnsyAbB"
      },
      "source": [
        "(Opsional) Membangun Model Clustering [Advanced]\n",
        "\n",
        "**Biarkan kosong jika tidak menerapkan kriteria advanced**"
      ]
    },
    {
      "cell_type": "code",
      "execution_count": 25,
      "metadata": {
        "id": "SgfOarXX4SD2"
      },
      "outputs": [],
      "source": [
        "# Membangun model menggunakan PCA.\n",
        "# ___ =PCA(n_components=<x>)\n",
        "# ___ = ____.fit_transform(___)\n",
        "# Menyimpan data PCA sebagai Dataframe dengan nama PCA_<numbers>\n",
        "# <data_final> = pd.DataFrame(___, columns=['PCA1', 'PCA2', <sesuaikan dengan jumlah n>])\n",
        "# Pastikan kamu membangun model Kmeans baru dengan data yang sudah dimodifikasi melalui PCA.\n",
        "# ___ = KMeans(n_clusters=<x>)\n",
        "# ___.fit(<data_final>)"
      ]
    },
    {
      "cell_type": "code",
      "execution_count": 26,
      "metadata": {
        "id": "uKvJy9Ky4VB3"
      },
      "outputs": [],
      "source": [
        "# Simpan model PCA sebagai perbandingan dengan menjalankan cell code ini joblib.dump(model,\"PCA_model_clustering.h5\")\n",
        "# Pastikan yang disimpan model yang sudah melalui .fit berdasarkan dataset yang sudah dilakukan PCA\n",
        "# joblib.dump(___, \"PCA_model_clustering.h5\")"
      ]
    },
    {
      "cell_type": "markdown",
      "metadata": {
        "id": "anlTI9Trb7F6"
      },
      "source": [
        "# **5. Interpretasi Cluster**"
      ]
    },
    {
      "cell_type": "markdown",
      "metadata": {
        "id": "JfgVMEBDS3KG"
      },
      "source": [
        "## **a. Interpretasi Hasil Clustering**\n",
        "1. **Contoh Interpretasi:**\n",
        "- **Cluster 1: (Nasabah Bertransaksi dan Pendapatan Besar)**:\n",
        "  - **Rata-rata (mean) Annual Income:** 0.953 (48,260)\n",
        "  - **Rata-rata (mean) Spending Score:** 0.8 (56.48)\n",
        "  - **Analisis:** Cluster ini mencakup pelanggan dengan pendapatan tahunan tinggi dan tingkat pengeluaran yang cukup tinggi. Pelanggan dalam cluster ini cenderung memiliki daya beli yang tinggi dan mereka lebih cenderung untuk membelanjakan sebagian besar pendapatan mereka. Sehingga rekomendasi pada kelompok nasabah ini adalah dengan menawarkan produk-produk investasi atau perbankan yang berkualitas tinggi.\n"
      ]
    },
    {
      "cell_type": "code",
      "execution_count": 27,
      "metadata": {
        "id": "Qmpy4fmV64Mi"
      },
      "outputs": [],
      "source": [
        "# Menampilkan analisis deskriptif minimal mean, min dan max untuk fitur numerik.\n",
        "# Silakan menambahkan fungsi agregasi lainnya untuk experience lebih baik.\n",
        "# pastikan output menghasilkan agregasi dan groupby bersamaan dengan mean, min, dan max."
      ]
    },
    {
      "cell_type": "markdown",
      "metadata": {
        "id": "KrjMI_dG6tnb"
      },
      "source": [
        "## Menjelaskan karakteristik tiap cluster berdasarkan rentangnya.\n",
        "1. **Cluster 1: (___)**:\n",
        "  - **Rata-rata (mean) <Fitur>:** <Sebelum inverse> <Setelah inverse>\n",
        "  - **Analisis:** Cluster ini ..."
      ]
    },
    {
      "cell_type": "markdown",
      "metadata": {
        "id": "jaYP1fx5VgWO"
      },
      "source": [
        "# **6. Mengeksport Data**\n",
        "\n",
        "1. Simpan nama kolom hasil clustering dengan nama `Target`.\n",
        "2. Simpan hasilnya ke dalam file CSV menggunakan function `to_csv()`."
      ]
    },
    {
      "cell_type": "code",
      "execution_count": 28,
      "metadata": {
        "id": "3FInN10U5S4f"
      },
      "outputs": [],
      "source": [
        "# Pastikan nama kolom clustering sudah diubah menjadi Target"
      ]
    },
    {
      "cell_type": "code",
      "execution_count": 29,
      "metadata": {
        "id": "fkbg_o80aRSH"
      },
      "outputs": [],
      "source": [
        "# Simpan Data\n",
        "# ___.to_csv('data_clustering.csv', index=False)"
      ]
    },
    {
      "cell_type": "markdown",
      "metadata": {
        "id": "rz1vFc2yzFPD"
      },
      "source": [
        "(Opsional) Interpretasi Hasil Clustering [Skilled]\n",
        "\n",
        "**Biarkan kosong jika tidak menerapkan kriteria skilled**"
      ]
    },
    {
      "cell_type": "code",
      "execution_count": 30,
      "metadata": {
        "id": "OMcRV15y_hH3"
      },
      "outputs": [],
      "source": [
        "# inverse dataset ke rentang normal untuk numerikal\n",
        "# df[numerical_cols] = <nama_scaler>.inverse_transform(df[numerical_cols])\n",
        "# tampilkan dataset yang sudah di-inverse\n",
        "# ___.head()"
      ]
    },
    {
      "cell_type": "code",
      "execution_count": 31,
      "metadata": {
        "id": "wzIddcB6XjrC"
      },
      "outputs": [],
      "source": [
        "# inverse dataset yang sudah diencode ke kategori aslinya.\n",
        "# Lengkapi kode berikut jika ingin menerapkan kriteria ini (silakan hapus simbol pagar pada kode yang akan digunakan.)\n",
        "# for ___ in categorical_cols:\n",
        "#     ___ = encoders[col]\n",
        "#     df[col] = ___.inverse_transform(df_inverse[col].astype(int))\n",
        "# tampilkan dataset yang sudah di-inverse\n",
        "# ___.head()"
      ]
    },
    {
      "cell_type": "code",
      "execution_count": 32,
      "metadata": {
        "id": "omCabiXBTklU"
      },
      "outputs": [],
      "source": [
        "# Lakukan analisis deskriptif minimal mean, min dan max untuk fitur numerik dan mode untuk kategorikal seperti pada basic tetapi menggunakan data yang sudah diinverse.\n",
        "# pastikan output menghasilkan agregasi dan groupby bersamaan dengan mean, min, dan max kembali setelah melakukan inverse."
      ]
    },
    {
      "cell_type": "markdown",
      "metadata": {
        "id": "WcaT8sxVzLs6"
      },
      "source": [
        "## Menjelaskan karakteristik tiap cluster berdasarkan rentangnya setelah inverse.\n",
        "1. **Cluster 1: (___)**:\n",
        "  - **Rata-rata (mean) <Fitur>:** <Sebelum inverse> <Setelah inverse>\n",
        "  - **Analisis:** Cluster ini ..."
      ]
    },
    {
      "cell_type": "markdown",
      "metadata": {
        "id": "jSd6vZslzatv"
      },
      "source": [
        "(Opsional) Interpretasi Hasil Clustering [Advanced]\n",
        "\n",
        "**Biarkan kosong jika tidak menerapkan kriteria advanced**"
      ]
    },
    {
      "cell_type": "code",
      "execution_count": 33,
      "metadata": {
        "id": "4mGIyUZ2zRCP"
      },
      "outputs": [],
      "source": [
        "# Mengintegrasikan kembali data yang telah di-inverse dengan hasil cluster."
      ]
    },
    {
      "cell_type": "code",
      "execution_count": 34,
      "metadata": {
        "id": "BEASz_Q__jms"
      },
      "outputs": [],
      "source": [
        "# Simpan Data\n",
        "# ___.to_csv('data_clustering_inverse.csv', index=False)"
      ]
    },
    {
      "cell_type": "markdown",
      "metadata": {
        "id": "sWOK6TDTL0eH"
      },
      "source": [
        "End of Code."
      ]
    }
  ],
  "metadata": {
    "colab": {
      "provenance": []
    },
    "kernelspec": {
      "display_name": "porto-bank-transaction-cluster",
      "language": "python",
      "name": "python3"
    },
    "language_info": {
      "codemirror_mode": {
        "name": "ipython",
        "version": 3
      },
      "file_extension": ".py",
      "mimetype": "text/x-python",
      "name": "python",
      "nbconvert_exporter": "python",
      "pygments_lexer": "ipython3",
      "version": "3.11.13"
    }
  },
  "nbformat": 4,
  "nbformat_minor": 0
}
